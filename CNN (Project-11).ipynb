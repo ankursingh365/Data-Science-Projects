{
 "cells": [
  {
   "cell_type": "code",
   "execution_count": 1,
   "id": "8b473dd6",
   "metadata": {},
   "outputs": [],
   "source": [
    "import tensorflow as tf\n",
    "from tensorflow.keras import datasets, layers, models\n",
    "import matplotlib.pyplot as plt\n",
    "import numpy as np"
   ]
  },
  {
   "cell_type": "code",
   "execution_count": 2,
   "id": "eeb799fe",
   "metadata": {},
   "outputs": [],
   "source": [
    "(x_train, y_train),(x_test,y_test) = datasets.cifar10.load_data()"
   ]
  },
  {
   "cell_type": "code",
   "execution_count": 3,
   "id": "6a840240",
   "metadata": {},
   "outputs": [
    {
     "data": {
      "text/plain": [
       "(50000, 32, 32, 3)"
      ]
     },
     "execution_count": 3,
     "metadata": {},
     "output_type": "execute_result"
    }
   ],
   "source": [
    "x_train.shape"
   ]
  },
  {
   "cell_type": "code",
   "execution_count": 4,
   "id": "b866f117",
   "metadata": {},
   "outputs": [
    {
     "data": {
      "text/plain": [
       "(50000, 1)"
      ]
     },
     "execution_count": 4,
     "metadata": {},
     "output_type": "execute_result"
    }
   ],
   "source": [
    "y_train.shape"
   ]
  },
  {
   "cell_type": "code",
   "execution_count": 5,
   "id": "f7748126",
   "metadata": {},
   "outputs": [
    {
     "data": {
      "text/plain": [
       "(10000, 32, 32, 3)"
      ]
     },
     "execution_count": 5,
     "metadata": {},
     "output_type": "execute_result"
    }
   ],
   "source": [
    "x_test.shape"
   ]
  },
  {
   "cell_type": "code",
   "execution_count": 6,
   "id": "efbabee2",
   "metadata": {},
   "outputs": [
    {
     "data": {
      "text/plain": [
       "(10000, 1)"
      ]
     },
     "execution_count": 6,
     "metadata": {},
     "output_type": "execute_result"
    }
   ],
   "source": [
    "y_test.shape"
   ]
  },
  {
   "cell_type": "code",
   "execution_count": 7,
   "id": "6469eec3",
   "metadata": {},
   "outputs": [
    {
     "data": {
      "text/plain": [
       "array([6, 9, 9, ..., 9, 1, 1], dtype=uint8)"
      ]
     },
     "execution_count": 7,
     "metadata": {},
     "output_type": "execute_result"
    }
   ],
   "source": [
    "y_train = y_train.reshape(-1,)\n",
    "y_train"
   ]
  },
  {
   "cell_type": "code",
   "execution_count": 8,
   "id": "4f1c65f2",
   "metadata": {},
   "outputs": [
    {
     "data": {
      "text/plain": [
       "<matplotlib.image.AxesImage at 0x1c113fa81f0>"
      ]
     },
     "execution_count": 8,
     "metadata": {},
     "output_type": "execute_result"
    },
    {
     "data": {
      "image/png": "[encoded data removed]",
      "text/plain": [
       "<Figure size 864x144 with 1 Axes>"
      ]
     },
     "metadata": {
      "needs_background": "light"
     },
     "output_type": "display_data"
    }
   ],
   "source": [
    "plt.figure(figsize=(12,2))\n",
    "plt.imshow(x_train[0])"
   ]
  },
  {
   "cell_type": "code",
   "execution_count": 9,
   "id": "30fe445d",
   "metadata": {},
   "outputs": [
    {
     "data": {
      "text/plain": [
       "<matplotlib.image.AxesImage at 0x1c11408d280>"
      ]
     },
     "execution_count": 9,
     "metadata": {},
     "output_type": "execute_result"
    },
    {
     "data": {
      "image/png": "[encoded data removed]",
      "text/plain": [
       "<Figure size 864x144 with 1 Axes>"
      ]
     },
     "metadata": {
      "needs_background": "light"
     },
     "output_type": "display_data"
    }
   ],
   "source": [
    "plt.figure(figsize=(12,2))\n",
    "plt.imshow(x_train[1])"
   ]
  },
  {
   "cell_type": "code",
   "execution_count": 10,
   "id": "e5a8392b",
   "metadata": {},
   "outputs": [
    {
     "data": {
      "text/plain": [
       "9"
      ]
     },
     "execution_count": 10,
     "metadata": {},
     "output_type": "execute_result"
    }
   ],
   "source": [
    "y_train[1]"
   ]
  },
  {
   "cell_type": "code",
   "execution_count": 11,
   "id": "6c4da395",
   "metadata": {},
   "outputs": [],
   "source": [
    "x_train = x_train/255"
   ]
  },
  {
   "cell_type": "code",
   "execution_count": 12,
   "id": "cfe6a30e",
   "metadata": {},
   "outputs": [],
   "source": [
    "x_test = x_test/255"
   ]
  },
  {
   "cell_type": "code",
   "execution_count": 13,
   "id": "dd6c5f67",
   "metadata": {},
   "outputs": [],
   "source": [
    "ann = models.Sequential([layers.Flatten(input_shape=(32,32,3)),layers.Dense(4000,activation = 'relu'),\n",
    "                       layers.Dense(2000,activation = 'relu'),layers.Dense(2000,activation = 'sigmoid')])"
   ]
  },
  {
   "cell_type": "code",
   "execution_count": 14,
   "id": "09661d60",
   "metadata": {},
   "outputs": [],
   "source": [
    "ann.compile(optimizer = 'adam',loss = 'sparse_categorical_crossentropy',metrics=['accuracy'])"
   ]
  },
  {
   "cell_type": "code",
   "execution_count": 15,
   "id": "70d2f316",
   "metadata": {},
   "outputs": [
    {
     "name": "stdout",
     "output_type": "stream",
     "text": [
      "Epoch 1/10\n",
      "1563/1563 [==============================] - 203s 129ms/step - loss: 1.8981 - accuracy: 0.3239\n",
      "Epoch 2/10\n",
      "1563/1563 [==============================] - 218s 140ms/step - loss: 1.6661 - accuracy: 0.4007\n",
      "Epoch 3/10\n",
      "1563/1563 [==============================] - 206s 132ms/step - loss: 1.5826 - accuracy: 0.4320\n",
      "Epoch 4/10\n",
      "1563/1563 [==============================] - 214s 137ms/step - loss: 1.5267 - accuracy: 0.4531\n",
      "Epoch 5/10\n",
      "1563/1563 [==============================] - 222s 142ms/step - loss: 1.4857 - accuracy: 0.4679\n",
      "Epoch 6/10\n",
      "1563/1563 [==============================] - 214s 137ms/step - loss: 1.4561 - accuracy: 0.4783\n",
      "Epoch 7/10\n",
      "1563/1563 [==============================] - 227s 145ms/step - loss: 1.4290 - accuracy: 0.4863\n",
      "Epoch 8/10\n",
      "1563/1563 [==============================] - 218s 140ms/step - loss: 1.4006 - accuracy: 0.5024\n",
      "Epoch 9/10\n",
      "1563/1563 [==============================] - 205s 131ms/step - loss: 1.3792 - accuracy: 0.5082\n",
      "Epoch 10/10\n",
      "1563/1563 [==============================] - 194s 124ms/step - loss: 1.3548 - accuracy: 0.5140\n"
     ]
    },
    {
     "data": {
      "text/plain": [
       "<keras.callbacks.History at 0x1c10eb9e7f0>"
      ]
     },
     "execution_count": 15,
     "metadata": {},
     "output_type": "execute_result"
    }
   ],
   "source": [
    "ann.fit(x_train,y_train,epochs=10)"
   ]
  },
  {
   "cell_type": "code",
   "execution_count": 16,
   "id": "c12e2cac",
   "metadata": {},
   "outputs": [],
   "source": [
    "## Build a CNN\n",
    "cnn = models.Sequential([layers.Conv2D(filters=64,kernel_size=(3,3),activation='relu',input_shape=(32,32,3)),\n",
    "                        layers.MaxPooling2D((2,2)),\n",
    "                        layers.Conv2D(filters=32,kernel_size=(3,3),activation='relu'),\n",
    "                        layers.MaxPooling2D((2,2)),\n",
    "                        layers.Dropout((0.2)),\n",
    "                        layers.Flatten(),\n",
    "                        layers.Dense(64,activation='relu'),\n",
    "                        layers.Dense(32,activation='relu'),\n",
    "                        layers.Dense(10,activation='softmax'),])"
   ]
  },
  {
   "cell_type": "code",
   "execution_count": 17,
   "id": "9560204b",
   "metadata": {},
   "outputs": [],
   "source": [
    "cnn.compile(optimizer='adam',loss='sparse_categorical_crossentropy',metrics=['accuracy'])"
   ]
  },
  {
   "cell_type": "code",
   "execution_count": 18,
   "id": "46fcc732",
   "metadata": {},
   "outputs": [
    {
     "name": "stdout",
     "output_type": "stream",
     "text": [
      "Epoch 1/20\n",
      "1563/1563 [==============================] - 55s 34ms/step - loss: 1.5654 - accuracy: 0.4295\n",
      "Epoch 2/20\n",
      "1563/1563 [==============================] - 46s 29ms/step - loss: 1.2249 - accuracy: 0.5680\n",
      "Epoch 3/20\n",
      "1563/1563 [==============================] - 47s 30ms/step - loss: 1.1019 - accuracy: 0.6114\n",
      "Epoch 4/20\n",
      "1563/1563 [==============================] - 48s 31ms/step - loss: 1.0278 - accuracy: 0.6389\n",
      "Epoch 5/20\n",
      "1563/1563 [==============================] - 46s 30ms/step - loss: 0.9686 - accuracy: 0.6608\n",
      "Epoch 6/20\n",
      "1563/1563 [==============================] - 45s 29ms/step - loss: 0.9277 - accuracy: 0.6757\n",
      "Epoch 7/20\n",
      "1563/1563 [==============================] - 42s 27ms/step - loss: 0.8877 - accuracy: 0.6876\n",
      "Epoch 8/20\n",
      "1563/1563 [==============================] - 44s 28ms/step - loss: 0.8542 - accuracy: 0.6994\n",
      "Epoch 9/20\n",
      "1563/1563 [==============================] - 43s 27ms/step - loss: 0.8281 - accuracy: 0.7083\n",
      "Epoch 10/20\n",
      "1563/1563 [==============================] - 44s 28ms/step - loss: 0.8004 - accuracy: 0.7177\n",
      "Epoch 11/20\n",
      "1563/1563 [==============================] - 46s 29ms/step - loss: 0.7805 - accuracy: 0.7254\n",
      "Epoch 12/20\n",
      "1563/1563 [==============================] - 42s 27ms/step - loss: 0.7558 - accuracy: 0.7344\n",
      "Epoch 13/20\n",
      "1563/1563 [==============================] - 42s 27ms/step - loss: 0.7447 - accuracy: 0.7393\n",
      "Epoch 14/20\n",
      "1563/1563 [==============================] - 44s 28ms/step - loss: 0.7242 - accuracy: 0.7447\n",
      "Epoch 15/20\n",
      "1563/1563 [==============================] - 45s 29ms/step - loss: 0.7100 - accuracy: 0.7480\n",
      "Epoch 16/20\n",
      "1563/1563 [==============================] - 44s 28ms/step - loss: 0.6918 - accuracy: 0.7566\n",
      "Epoch 17/20\n",
      "1563/1563 [==============================] - 43s 28ms/step - loss: 0.6806 - accuracy: 0.7594\n",
      "Epoch 18/20\n",
      "1563/1563 [==============================] - 44s 28ms/step - loss: 0.6703 - accuracy: 0.7644\n",
      "Epoch 19/20\n",
      "1563/1563 [==============================] - 49s 31ms/step - loss: 0.6545 - accuracy: 0.7694\n",
      "Epoch 20/20\n",
      "1563/1563 [==============================] - 43s 28ms/step - loss: 0.6460 - accuracy: 0.7710\n"
     ]
    },
    {
     "data": {
      "text/plain": [
       "<keras.callbacks.History at 0x1c10ffcebb0>"
      ]
     },
     "execution_count": 18,
     "metadata": {},
     "output_type": "execute_result"
    }
   ],
   "source": [
    "cnn.fit(x_train,y_train,epochs=20)"
   ]
  },
  {
   "cell_type": "code",
   "execution_count": 19,
   "id": "5e5dff1f",
   "metadata": {},
   "outputs": [],
   "source": [
    "y_test = y_test.reshape(-1,)"
   ]
  },
  {
   "cell_type": "code",
   "execution_count": 20,
   "id": "2c4248d9",
   "metadata": {},
   "outputs": [
    {
     "name": "stdout",
     "output_type": "stream",
     "text": [
      "313/313 [==============================] - 3s 9ms/step - loss: 0.8262 - accuracy: 0.7149\n"
     ]
    },
    {
     "data": {
      "text/plain": [
       "[0.8262274265289307, 0.714900016784668]"
      ]
     },
     "execution_count": 20,
     "metadata": {},
     "output_type": "execute_result"
    }
   ],
   "source": [
    "cnn.evaluate(x_test,y_test)"
   ]
  },
  {
   "cell_type": "code",
   "execution_count": 21,
   "id": "44d66ec0",
   "metadata": {},
   "outputs": [
    {
     "name": "stdout",
     "output_type": "stream",
     "text": [
      "313/313 [==============================] - 3s 9ms/step\n"
     ]
    }
   ],
   "source": [
    "y_pred = cnn.predict(x_test)"
   ]
  },
  {
   "cell_type": "code",
   "execution_count": 22,
   "id": "aef60de7",
   "metadata": {},
   "outputs": [],
   "source": [
    "y_pred = np.argmax(y_pred,axis=1)"
   ]
  },
  {
   "cell_type": "code",
   "execution_count": 23,
   "id": "457c32c9",
   "metadata": {},
   "outputs": [
    {
     "name": "stdout",
     "output_type": "stream",
     "text": [
      "              precision    recall  f1-score   support\n",
      "\n",
      "           0       0.76      0.74      0.75      1000\n",
      "           1       0.84      0.84      0.84      1000\n",
      "           2       0.56      0.65      0.60      1000\n",
      "           3       0.46      0.63      0.53      1000\n",
      "           4       0.75      0.60      0.67      1000\n",
      "           5       0.68      0.51      0.58      1000\n",
      "           6       0.79      0.80      0.79      1000\n",
      "           7       0.82      0.72      0.77      1000\n",
      "           8       0.82      0.84      0.83      1000\n",
      "           9       0.79      0.82      0.80      1000\n",
      "\n",
      "    accuracy                           0.71     10000\n",
      "   macro avg       0.73      0.71      0.72     10000\n",
      "weighted avg       0.73      0.71      0.72     10000\n",
      "\n"
     ]
    }
   ],
   "source": [
    "from sklearn.metrics import classification_report\n",
    "print(classification_report(y_test,y_pred))"
   ]
  },
  {
   "cell_type": "code",
   "execution_count": null,
   "id": "fb15140f",
   "metadata": {},
   "outputs": [],
   "source": []
  }
 ],
 "metadata": {
  "kernelspec": {
   "display_name": "Python 3 (ipykernel)",
   "language": "python",
   "name": "python3"
  },
  "language_info": {
   "codemirror_mode": {
    "name": "ipython",
    "version": 3
   },
   "file_extension": ".py",
   "mimetype": "text/x-python",
   "name": "python",
   "nbconvert_exporter": "python",
   "pygments_lexer": "ipython3",
   "version": "3.9.7"
  }
 },
 "nbformat": 4,
 "nbformat_minor": 5
}
