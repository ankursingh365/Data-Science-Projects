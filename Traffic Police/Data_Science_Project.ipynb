{
  "nbformat": 4,
  "nbformat_minor": 0,
  "metadata": {
    "colab": {
      "provenance": []
    },
    "kernelspec": {
      "name": "python3",
      "display_name": "Python 3"
    },
    "language_info": {
      "name": "python"
    }
  },
  "cells": [
    {
      "cell_type": "markdown",
      "source": [
        "# Data Science Project\n",
        "## Name: ANKUR SINGH\n",
        "## Batch: 10722\n",
        "---\n",
        "### Data: Police Dataset\n",
        "---\n"
      ],
      "metadata": {
        "id": "ASiP0AcGRkay"
      }
    },
    {
      "cell_type": "code",
      "execution_count": null,
      "metadata": {
        "id": "hR6anR62l1H0"
      },
      "outputs": [],
      "source": [
        "import numpy as np\n",
        "import pandas as pd\n",
        "import matplotlib.pyplot as plt\n",
        "import seaborn as sns\n",
        "import warnings\n",
        "warnings.filterwarnings('ignore')\n",
        "import time,datetime"
      ]
    },
    {
      "cell_type": "code",
      "source": [
        "data = pd.read_csv(\"/content/Police Data.csv\")\n",
        "data.head() # Print first 5 Data from the dataset "
      ],
      "metadata": {
        "id": "z3INOH4LBA1H",
        "colab": {
          "base_uri": "https://localhost:8080/",
          "height": 270
        },
        "outputId": "aa55c48d-38f9-4793-f736-9e60d145f2ea"
      },
      "execution_count": null,
      "outputs": [
        {
          "output_type": "execute_result",
          "data": {
            "text/plain": [
              "   stop_date stop_time  country_name driver_gender  driver_age_raw  \\\n",
              "0   1/2/2005      1:55           NaN             M          1985.0   \n",
              "1  1/18/2005      8:15           NaN             M          1965.0   \n",
              "2  1/23/2005     23:15           NaN             M          1972.0   \n",
              "3  2/20/2005     17:15           NaN             M          1986.0   \n",
              "4  3/14/2005     10:00           NaN             F          1984.0   \n",
              "\n",
              "   driver_age driver_race     violation_raw violation  search_conducted  \\\n",
              "0        20.0       White          Speeding  Speeding             False   \n",
              "1        40.0       White          Speeding  Speeding             False   \n",
              "2        33.0       White          Speeding  Speeding             False   \n",
              "3        19.0       White  Call for Service     Other             False   \n",
              "4        21.0       White          Speeding  Speeding             False   \n",
              "\n",
              "  search_type   stop_outcome is_arrested stop_duration  drugs_related_stop  \n",
              "0         NaN       Citation       False      0-15 Min               False  \n",
              "1         NaN       Citation       False      0-15 Min               False  \n",
              "2         NaN       Citation       False      0-15 Min               False  \n",
              "3         NaN  Arrest Driver        True     16-30 Min               False  \n",
              "4         NaN       Citation       False      0-15 Min               False  "
            ],
            "text/html": [
              "\n",
              "  <div id=\"df-40e00852-0dc7-4142-a9ec-e20f9782bbdd\">\n",
              "    <div class=\"colab-df-container\">\n",
              "      <div>\n",
              "<style scoped>\n",
              "    .dataframe tbody tr th:only-of-type {\n",
              "        vertical-align: middle;\n",
              "    }\n",
              "\n",
              "    .dataframe tbody tr th {\n",
              "        vertical-align: top;\n",
              "    }\n",
              "\n",
              "    .dataframe thead th {\n",
              "        text-align: right;\n",
              "    }\n",
              "</style>\n",
              "<table border=\"1\" class=\"dataframe\">\n",
              "  <thead>\n",
              "    <tr style=\"text-align: right;\">\n",
              "      <th></th>\n",
              "      <th>stop_date</th>\n",
              "      <th>stop_time</th>\n",
              "      <th>country_name</th>\n",
              "      <th>driver_gender</th>\n",
              "      <th>driver_age_raw</th>\n",
              "      <th>driver_age</th>\n",
              "      <th>driver_race</th>\n",
              "      <th>violation_raw</th>\n",
              "      <th>violation</th>\n",
              "      <th>search_conducted</th>\n",
              "      <th>search_type</th>\n",
              "      <th>stop_outcome</th>\n",
              "      <th>is_arrested</th>\n",
              "      <th>stop_duration</th>\n",
              "      <th>drugs_related_stop</th>\n",
              "    </tr>\n",
              "  </thead>\n",
              "  <tbody>\n",
              "    <tr>\n",
              "      <th>0</th>\n",
              "      <td>1/2/2005</td>\n",
              "      <td>1:55</td>\n",
              "      <td>NaN</td>\n",
              "      <td>M</td>\n",
              "      <td>1985.0</td>\n",
              "      <td>20.0</td>\n",
              "      <td>White</td>\n",
              "      <td>Speeding</td>\n",
              "      <td>Speeding</td>\n",
              "      <td>False</td>\n",
              "      <td>NaN</td>\n",
              "      <td>Citation</td>\n",
              "      <td>False</td>\n",
              "      <td>0-15 Min</td>\n",
              "      <td>False</td>\n",
              "    </tr>\n",
              "    <tr>\n",
              "      <th>1</th>\n",
              "      <td>1/18/2005</td>\n",
              "      <td>8:15</td>\n",
              "      <td>NaN</td>\n",
              "      <td>M</td>\n",
              "      <td>1965.0</td>\n",
              "      <td>40.0</td>\n",
              "      <td>White</td>\n",
              "      <td>Speeding</td>\n",
              "      <td>Speeding</td>\n",
              "      <td>False</td>\n",
              "      <td>NaN</td>\n",
              "      <td>Citation</td>\n",
              "      <td>False</td>\n",
              "      <td>0-15 Min</td>\n",
              "      <td>False</td>\n",
              "    </tr>\n",
              "    <tr>\n",
              "      <th>2</th>\n",
              "      <td>1/23/2005</td>\n",
              "      <td>23:15</td>\n",
              "      <td>NaN</td>\n",
              "      <td>M</td>\n",
              "      <td>1972.0</td>\n",
              "      <td>33.0</td>\n",
              "      <td>White</td>\n",
              "      <td>Speeding</td>\n",
              "      <td>Speeding</td>\n",
              "      <td>False</td>\n",
              "      <td>NaN</td>\n",
              "      <td>Citation</td>\n",
              "      <td>False</td>\n",
              "      <td>0-15 Min</td>\n",
              "      <td>False</td>\n",
              "    </tr>\n",
              "    <tr>\n",
              "      <th>3</th>\n",
              "      <td>2/20/2005</td>\n",
              "      <td>17:15</td>\n",
              "      <td>NaN</td>\n",
              "      <td>M</td>\n",
              "      <td>1986.0</td>\n",
              "      <td>19.0</td>\n",
              "      <td>White</td>\n",
              "      <td>Call for Service</td>\n",
              "      <td>Other</td>\n",
              "      <td>False</td>\n",
              "      <td>NaN</td>\n",
              "      <td>Arrest Driver</td>\n",
              "      <td>True</td>\n",
              "      <td>16-30 Min</td>\n",
              "      <td>False</td>\n",
              "    </tr>\n",
              "    <tr>\n",
              "      <th>4</th>\n",
              "      <td>3/14/2005</td>\n",
              "      <td>10:00</td>\n",
              "      <td>NaN</td>\n",
              "      <td>F</td>\n",
              "      <td>1984.0</td>\n",
              "      <td>21.0</td>\n",
              "      <td>White</td>\n",
              "      <td>Speeding</td>\n",
              "      <td>Speeding</td>\n",
              "      <td>False</td>\n",
              "      <td>NaN</td>\n",
              "      <td>Citation</td>\n",
              "      <td>False</td>\n",
              "      <td>0-15 Min</td>\n",
              "      <td>False</td>\n",
              "    </tr>\n",
              "  </tbody>\n",
              "</table>\n",
              "</div>\n",
              "      <button class=\"colab-df-convert\" onclick=\"convertToInteractive('df-40e00852-0dc7-4142-a9ec-e20f9782bbdd')\"\n",
              "              title=\"Convert this dataframe to an interactive table.\"\n",
              "              style=\"display:none;\">\n",
              "        \n",
              "  <svg xmlns=\"http://www.w3.org/2000/svg\" height=\"24px\"viewBox=\"0 0 24 24\"\n",
              "       width=\"24px\">\n",
              "    <path d=\"M0 0h24v24H0V0z\" fill=\"none\"/>\n",
              "    <path d=\"M18.56 5.44l.94 2.06.94-2.06 2.06-.94-2.06-.94-.94-2.06-.94 2.06-2.06.94zm-11 1L8.5 8.5l.94-2.06 2.06-.94-2.06-.94L8.5 2.5l-.94 2.06-2.06.94zm10 10l.94 2.06.94-2.06 2.06-.94-2.06-.94-.94-2.06-.94 2.06-2.06.94z\"/><path d=\"M17.41 7.96l-1.37-1.37c-.4-.4-.92-.59-1.43-.59-.52 0-1.04.2-1.43.59L10.3 9.45l-7.72 7.72c-.78.78-.78 2.05 0 2.83L4 21.41c.39.39.9.59 1.41.59.51 0 1.02-.2 1.41-.59l7.78-7.78 2.81-2.81c.8-.78.8-2.07 0-2.86zM5.41 20L4 18.59l7.72-7.72 1.47 1.35L5.41 20z\"/>\n",
              "  </svg>\n",
              "      </button>\n",
              "      \n",
              "  <style>\n",
              "    .colab-df-container {\n",
              "      display:flex;\n",
              "      flex-wrap:wrap;\n",
              "      gap: 12px;\n",
              "    }\n",
              "\n",
              "    .colab-df-convert {\n",
              "      background-color: #E8F0FE;\n",
              "      border: none;\n",
              "      border-radius: 50%;\n",
              "      cursor: pointer;\n",
              "      display: none;\n",
              "      fill: #1967D2;\n",
              "      height: 32px;\n",
              "      padding: 0 0 0 0;\n",
              "      width: 32px;\n",
              "    }\n",
              "\n",
              "    .colab-df-convert:hover {\n",
              "      background-color: #E2EBFA;\n",
              "      box-shadow: 0px 1px 2px rgba(60, 64, 67, 0.3), 0px 1px 3px 1px rgba(60, 64, 67, 0.15);\n",
              "      fill: #174EA6;\n",
              "    }\n",
              "\n",
              "    [theme=dark] .colab-df-convert {\n",
              "      background-color: #3B4455;\n",
              "      fill: #D2E3FC;\n",
              "    }\n",
              "\n",
              "    [theme=dark] .colab-df-convert:hover {\n",
              "      background-color: #434B5C;\n",
              "      box-shadow: 0px 1px 3px 1px rgba(0, 0, 0, 0.15);\n",
              "      filter: drop-shadow(0px 1px 2px rgba(0, 0, 0, 0.3));\n",
              "      fill: #FFFFFF;\n",
              "    }\n",
              "  </style>\n",
              "\n",
              "      <script>\n",
              "        const buttonEl =\n",
              "          document.querySelector('#df-40e00852-0dc7-4142-a9ec-e20f9782bbdd button.colab-df-convert');\n",
              "        buttonEl.style.display =\n",
              "          google.colab.kernel.accessAllowed ? 'block' : 'none';\n",
              "\n",
              "        async function convertToInteractive(key) {\n",
              "          const element = document.querySelector('#df-40e00852-0dc7-4142-a9ec-e20f9782bbdd');\n",
              "          const dataTable =\n",
              "            await google.colab.kernel.invokeFunction('convertToInteractive',\n",
              "                                                     [key], {});\n",
              "          if (!dataTable) return;\n",
              "\n",
              "          const docLinkHtml = 'Like what you see? Visit the ' +\n",
              "            '<a target=\"_blank\" href=https://colab.research.google.com/notebooks/data_table.ipynb>data table notebook</a>'\n",
              "            + ' to learn more about interactive tables.';\n",
              "          element.innerHTML = '';\n",
              "          dataTable['output_type'] = 'display_data';\n",
              "          await google.colab.output.renderOutput(dataTable, element);\n",
              "          const docLink = document.createElement('div');\n",
              "          docLink.innerHTML = docLinkHtml;\n",
              "          element.appendChild(docLink);\n",
              "        }\n",
              "      </script>\n",
              "    </div>\n",
              "  </div>\n",
              "  "
            ]
          },
          "metadata": {},
          "execution_count": 2
        }
      ]
    },
    {
      "cell_type": "code",
      "source": [
        "data.columns"
      ],
      "metadata": {
        "colab": {
          "base_uri": "https://localhost:8080/"
        },
        "id": "frYeFUyLPfwL",
        "outputId": "98080150-2572-485f-d0e2-2756ea7ef1ab"
      },
      "execution_count": null,
      "outputs": [
        {
          "output_type": "execute_result",
          "data": {
            "text/plain": [
              "Index(['stop_date', 'stop_time', 'country_name', 'driver_gender',\n",
              "       'driver_age_raw', 'driver_age', 'driver_race', 'violation_raw',\n",
              "       'violation', 'search_conducted', 'search_type', 'stop_outcome',\n",
              "       'is_arrested', 'stop_duration', 'drugs_related_stop'],\n",
              "      dtype='object')"
            ]
          },
          "metadata": {},
          "execution_count": 3
        }
      ]
    },
    {
      "cell_type": "code",
      "source": [
        "data.info()"
      ],
      "metadata": {
        "colab": {
          "base_uri": "https://localhost:8080/"
        },
        "id": "K-4ZBbLmPUz-",
        "outputId": "b14154d5-2710-4ba6-b895-fc35b0ebeb75"
      },
      "execution_count": null,
      "outputs": [
        {
          "output_type": "stream",
          "name": "stdout",
          "text": [
            "<class 'pandas.core.frame.DataFrame'>\n",
            "RangeIndex: 65535 entries, 0 to 65534\n",
            "Data columns (total 15 columns):\n",
            " #   Column              Non-Null Count  Dtype  \n",
            "---  ------              --------------  -----  \n",
            " 0   stop_date           65535 non-null  object \n",
            " 1   stop_time           65535 non-null  object \n",
            " 2   country_name        0 non-null      float64\n",
            " 3   driver_gender       61474 non-null  object \n",
            " 4   driver_age_raw      61481 non-null  float64\n",
            " 5   driver_age          61228 non-null  float64\n",
            " 6   driver_race         61475 non-null  object \n",
            " 7   violation_raw       61475 non-null  object \n",
            " 8   violation           61475 non-null  object \n",
            " 9   search_conducted    65535 non-null  bool   \n",
            " 10  search_type         2479 non-null   object \n",
            " 11  stop_outcome        61475 non-null  object \n",
            " 12  is_arrested         61475 non-null  object \n",
            " 13  stop_duration       61475 non-null  object \n",
            " 14  drugs_related_stop  65535 non-null  bool   \n",
            "dtypes: bool(2), float64(3), object(10)\n",
            "memory usage: 6.6+ MB\n"
          ]
        }
      ]
    },
    {
      "cell_type": "code",
      "source": [
        "# Convert stop_date and stop_time columns from object to date-\n",
        "data['stop_date'] = pd.to_datetime(data.stop_date, errors ='coerce')\n",
        "data['stop_time'] = pd.to_datetime(data.stop_time, errors ='coerce')"
      ],
      "metadata": {
        "id": "CraZnUGoBZVJ"
      },
      "execution_count": null,
      "outputs": []
    },
    {
      "cell_type": "code",
      "source": [
        "data.dtypes"
      ],
      "metadata": {
        "colab": {
          "base_uri": "https://localhost:8080/"
        },
        "id": "pl5WJ2z6G88b",
        "outputId": "fb41d3aa-597e-4207-b249-060f5666aa6d"
      },
      "execution_count": null,
      "outputs": [
        {
          "output_type": "execute_result",
          "data": {
            "text/plain": [
              "stop_date             datetime64[ns]\n",
              "stop_time             datetime64[ns]\n",
              "country_name                 float64\n",
              "driver_gender                 object\n",
              "driver_age_raw               float64\n",
              "driver_age                   float64\n",
              "driver_race                   object\n",
              "violation_raw                 object\n",
              "violation                     object\n",
              "search_conducted                bool\n",
              "search_type                   object\n",
              "stop_outcome                  object\n",
              "is_arrested                   object\n",
              "stop_duration                 object\n",
              "drugs_related_stop              bool\n",
              "dtype: object"
            ]
          },
          "metadata": {},
          "execution_count": 6
        }
      ]
    },
    {
      "cell_type": "code",
      "source": [
        "data.describe()"
      ],
      "metadata": {
        "colab": {
          "base_uri": "https://localhost:8080/",
          "height": 300
        },
        "id": "tq2wFGTLRDbA",
        "outputId": "79b81d2c-2628-4057-e47b-5841a79e6e63"
      },
      "execution_count": null,
      "outputs": [
        {
          "output_type": "execute_result",
          "data": {
            "text/plain": [
              "       country_name  driver_age_raw    driver_age\n",
              "count           0.0    61481.000000  61228.000000\n",
              "mean            NaN     1967.791106     34.148984\n",
              "std             NaN      121.050106     12.760710\n",
              "min             NaN        0.000000     15.000000\n",
              "25%             NaN     1965.000000     23.000000\n",
              "50%             NaN     1978.000000     31.000000\n",
              "75%             NaN     1985.000000     43.000000\n",
              "max             NaN     8801.000000     88.000000"
            ],
            "text/html": [
              "\n",
              "  <div id=\"df-cf60169b-91b8-4e6c-808e-d9cc391c6f60\">\n",
              "    <div class=\"colab-df-container\">\n",
              "      <div>\n",
              "<style scoped>\n",
              "    .dataframe tbody tr th:only-of-type {\n",
              "        vertical-align: middle;\n",
              "    }\n",
              "\n",
              "    .dataframe tbody tr th {\n",
              "        vertical-align: top;\n",
              "    }\n",
              "\n",
              "    .dataframe thead th {\n",
              "        text-align: right;\n",
              "    }\n",
              "</style>\n",
              "<table border=\"1\" class=\"dataframe\">\n",
              "  <thead>\n",
              "    <tr style=\"text-align: right;\">\n",
              "      <th></th>\n",
              "      <th>country_name</th>\n",
              "      <th>driver_age_raw</th>\n",
              "      <th>driver_age</th>\n",
              "    </tr>\n",
              "  </thead>\n",
              "  <tbody>\n",
              "    <tr>\n",
              "      <th>count</th>\n",
              "      <td>0.0</td>\n",
              "      <td>61481.000000</td>\n",
              "      <td>61228.000000</td>\n",
              "    </tr>\n",
              "    <tr>\n",
              "      <th>mean</th>\n",
              "      <td>NaN</td>\n",
              "      <td>1967.791106</td>\n",
              "      <td>34.148984</td>\n",
              "    </tr>\n",
              "    <tr>\n",
              "      <th>std</th>\n",
              "      <td>NaN</td>\n",
              "      <td>121.050106</td>\n",
              "      <td>12.760710</td>\n",
              "    </tr>\n",
              "    <tr>\n",
              "      <th>min</th>\n",
              "      <td>NaN</td>\n",
              "      <td>0.000000</td>\n",
              "      <td>15.000000</td>\n",
              "    </tr>\n",
              "    <tr>\n",
              "      <th>25%</th>\n",
              "      <td>NaN</td>\n",
              "      <td>1965.000000</td>\n",
              "      <td>23.000000</td>\n",
              "    </tr>\n",
              "    <tr>\n",
              "      <th>50%</th>\n",
              "      <td>NaN</td>\n",
              "      <td>1978.000000</td>\n",
              "      <td>31.000000</td>\n",
              "    </tr>\n",
              "    <tr>\n",
              "      <th>75%</th>\n",
              "      <td>NaN</td>\n",
              "      <td>1985.000000</td>\n",
              "      <td>43.000000</td>\n",
              "    </tr>\n",
              "    <tr>\n",
              "      <th>max</th>\n",
              "      <td>NaN</td>\n",
              "      <td>8801.000000</td>\n",
              "      <td>88.000000</td>\n",
              "    </tr>\n",
              "  </tbody>\n",
              "</table>\n",
              "</div>\n",
              "      <button class=\"colab-df-convert\" onclick=\"convertToInteractive('df-cf60169b-91b8-4e6c-808e-d9cc391c6f60')\"\n",
              "              title=\"Convert this dataframe to an interactive table.\"\n",
              "              style=\"display:none;\">\n",
              "        \n",
              "  <svg xmlns=\"http://www.w3.org/2000/svg\" height=\"24px\"viewBox=\"0 0 24 24\"\n",
              "       width=\"24px\">\n",
              "    <path d=\"M0 0h24v24H0V0z\" fill=\"none\"/>\n",
              "    <path d=\"M18.56 5.44l.94 2.06.94-2.06 2.06-.94-2.06-.94-.94-2.06-.94 2.06-2.06.94zm-11 1L8.5 8.5l.94-2.06 2.06-.94-2.06-.94L8.5 2.5l-.94 2.06-2.06.94zm10 10l.94 2.06.94-2.06 2.06-.94-2.06-.94-.94-2.06-.94 2.06-2.06.94z\"/><path d=\"M17.41 7.96l-1.37-1.37c-.4-.4-.92-.59-1.43-.59-.52 0-1.04.2-1.43.59L10.3 9.45l-7.72 7.72c-.78.78-.78 2.05 0 2.83L4 21.41c.39.39.9.59 1.41.59.51 0 1.02-.2 1.41-.59l7.78-7.78 2.81-2.81c.8-.78.8-2.07 0-2.86zM5.41 20L4 18.59l7.72-7.72 1.47 1.35L5.41 20z\"/>\n",
              "  </svg>\n",
              "      </button>\n",
              "      \n",
              "  <style>\n",
              "    .colab-df-container {\n",
              "      display:flex;\n",
              "      flex-wrap:wrap;\n",
              "      gap: 12px;\n",
              "    }\n",
              "\n",
              "    .colab-df-convert {\n",
              "      background-color: #E8F0FE;\n",
              "      border: none;\n",
              "      border-radius: 50%;\n",
              "      cursor: pointer;\n",
              "      display: none;\n",
              "      fill: #1967D2;\n",
              "      height: 32px;\n",
              "      padding: 0 0 0 0;\n",
              "      width: 32px;\n",
              "    }\n",
              "\n",
              "    .colab-df-convert:hover {\n",
              "      background-color: #E2EBFA;\n",
              "      box-shadow: 0px 1px 2px rgba(60, 64, 67, 0.3), 0px 1px 3px 1px rgba(60, 64, 67, 0.15);\n",
              "      fill: #174EA6;\n",
              "    }\n",
              "\n",
              "    [theme=dark] .colab-df-convert {\n",
              "      background-color: #3B4455;\n",
              "      fill: #D2E3FC;\n",
              "    }\n",
              "\n",
              "    [theme=dark] .colab-df-convert:hover {\n",
              "      background-color: #434B5C;\n",
              "      box-shadow: 0px 1px 3px 1px rgba(0, 0, 0, 0.15);\n",
              "      filter: drop-shadow(0px 1px 2px rgba(0, 0, 0, 0.3));\n",
              "      fill: #FFFFFF;\n",
              "    }\n",
              "  </style>\n",
              "\n",
              "      <script>\n",
              "        const buttonEl =\n",
              "          document.querySelector('#df-cf60169b-91b8-4e6c-808e-d9cc391c6f60 button.colab-df-convert');\n",
              "        buttonEl.style.display =\n",
              "          google.colab.kernel.accessAllowed ? 'block' : 'none';\n",
              "\n",
              "        async function convertToInteractive(key) {\n",
              "          const element = document.querySelector('#df-cf60169b-91b8-4e6c-808e-d9cc391c6f60');\n",
              "          const dataTable =\n",
              "            await google.colab.kernel.invokeFunction('convertToInteractive',\n",
              "                                                     [key], {});\n",
              "          if (!dataTable) return;\n",
              "\n",
              "          const docLinkHtml = 'Like what you see? Visit the ' +\n",
              "            '<a target=\"_blank\" href=https://colab.research.google.com/notebooks/data_table.ipynb>data table notebook</a>'\n",
              "            + ' to learn more about interactive tables.';\n",
              "          element.innerHTML = '';\n",
              "          dataTable['output_type'] = 'display_data';\n",
              "          await google.colab.output.renderOutput(dataTable, element);\n",
              "          const docLink = document.createElement('div');\n",
              "          docLink.innerHTML = docLinkHtml;\n",
              "          element.appendChild(docLink);\n",
              "        }\n",
              "      </script>\n",
              "    </div>\n",
              "  </div>\n",
              "  "
            ]
          },
          "metadata": {},
          "execution_count": 7
        }
      ]
    },
    {
      "cell_type": "code",
      "source": [
        "data.isnull().sum()"
      ],
      "metadata": {
        "colab": {
          "base_uri": "https://localhost:8080/"
        },
        "id": "53QM18vKp3or",
        "outputId": "3802f8a7-8c67-4c6d-b8f1-078eefaad35c"
      },
      "execution_count": null,
      "outputs": [
        {
          "output_type": "execute_result",
          "data": {
            "text/plain": [
              "stop_date                 0\n",
              "stop_time                 0\n",
              "country_name          65535\n",
              "driver_gender          4061\n",
              "driver_age_raw         4054\n",
              "driver_age             4307\n",
              "driver_race            4060\n",
              "violation_raw          4060\n",
              "violation              4060\n",
              "search_conducted          0\n",
              "search_type           63056\n",
              "stop_outcome           4060\n",
              "is_arrested            4060\n",
              "stop_duration          4060\n",
              "drugs_related_stop        0\n",
              "dtype: int64"
            ]
          },
          "metadata": {},
          "execution_count": 8
        }
      ]
    },
    {
      "cell_type": "code",
      "source": [
        "# Removing country_name column because of NaN values\n",
        "data.drop(columns = 'country_name', inplace = True)"
      ],
      "metadata": {
        "id": "nAKnzbgDp7EQ"
      },
      "execution_count": null,
      "outputs": []
    },
    {
      "cell_type": "code",
      "source": [
        "data"
      ],
      "metadata": {
        "colab": {
          "base_uri": "https://localhost:8080/",
          "height": 835
        },
        "id": "4Og4zgGgBxGN",
        "outputId": "f41b1ced-2dd1-4eea-e0da-9ab9dd958574"
      },
      "execution_count": null,
      "outputs": [
        {
          "output_type": "execute_result",
          "data": {
            "text/plain": [
              "       stop_date           stop_time driver_gender  driver_age_raw  \\\n",
              "0     2005-01-02 2022-10-28 01:55:00             M          1985.0   \n",
              "1     2005-01-18 2022-10-28 08:15:00             M          1965.0   \n",
              "2     2005-01-23 2022-10-28 23:15:00             M          1972.0   \n",
              "3     2005-02-20 2022-10-28 17:15:00             M          1986.0   \n",
              "4     2005-03-14 2022-10-28 10:00:00             F          1984.0   \n",
              "...          ...                 ...           ...             ...   \n",
              "65530 2012-12-06 2022-10-28 17:54:00             F          1987.0   \n",
              "65531 2012-12-06 2022-10-28 22:22:00             M          1954.0   \n",
              "65532 2012-12-06 2022-10-28 23:20:00             M          1985.0   \n",
              "65533 2012-12-07 2022-10-28 00:23:00           NaN             NaN   \n",
              "65534 2012-12-07 2022-10-28 00:30:00             F          1985.0   \n",
              "\n",
              "       driver_age driver_race                   violation_raw  violation  \\\n",
              "0            20.0       White                        Speeding   Speeding   \n",
              "1            40.0       White                        Speeding   Speeding   \n",
              "2            33.0       White                        Speeding   Speeding   \n",
              "3            19.0       White                Call for Service      Other   \n",
              "4            21.0       White                        Speeding   Speeding   \n",
              "...           ...         ...                             ...        ...   \n",
              "65530        25.0       White                        Speeding   Speeding   \n",
              "65531        58.0       White                        Speeding   Speeding   \n",
              "65532        27.0       Black  Equipment/Inspection Violation  Equipment   \n",
              "65533         NaN         NaN                             NaN        NaN   \n",
              "65534        27.0       White                        Speeding   Speeding   \n",
              "\n",
              "       search_conducted search_type   stop_outcome is_arrested stop_duration  \\\n",
              "0                 False         NaN       Citation       False      0-15 Min   \n",
              "1                 False         NaN       Citation       False      0-15 Min   \n",
              "2                 False         NaN       Citation       False      0-15 Min   \n",
              "3                 False         NaN  Arrest Driver        True     16-30 Min   \n",
              "4                 False         NaN       Citation       False      0-15 Min   \n",
              "...                 ...         ...            ...         ...           ...   \n",
              "65530             False         NaN       Citation       False      0-15 Min   \n",
              "65531             False         NaN        Warning       False      0-15 Min   \n",
              "65532             False         NaN       Citation       False      0-15 Min   \n",
              "65533             False         NaN            NaN         NaN           NaN   \n",
              "65534             False         NaN       Citation       False      0-15 Min   \n",
              "\n",
              "       drugs_related_stop  \n",
              "0                   False  \n",
              "1                   False  \n",
              "2                   False  \n",
              "3                   False  \n",
              "4                   False  \n",
              "...                   ...  \n",
              "65530               False  \n",
              "65531               False  \n",
              "65532               False  \n",
              "65533               False  \n",
              "65534               False  \n",
              "\n",
              "[65535 rows x 14 columns]"
            ],
            "text/html": [
              "\n",
              "  <div id=\"df-9d8f2540-0cc8-488b-bcb4-5c7cfc2c45aa\">\n",
              "    <div class=\"colab-df-container\">\n",
              "      <div>\n",
              "<style scoped>\n",
              "    .dataframe tbody tr th:only-of-type {\n",
              "        vertical-align: middle;\n",
              "    }\n",
              "\n",
              "    .dataframe tbody tr th {\n",
              "        vertical-align: top;\n",
              "    }\n",
              "\n",
              "    .dataframe thead th {\n",
              "        text-align: right;\n",
              "    }\n",
              "</style>\n",
              "<table border=\"1\" class=\"dataframe\">\n",
              "  <thead>\n",
              "    <tr style=\"text-align: right;\">\n",
              "      <th></th>\n",
              "      <th>stop_date</th>\n",
              "      <th>stop_time</th>\n",
              "      <th>driver_gender</th>\n",
              "      <th>driver_age_raw</th>\n",
              "      <th>driver_age</th>\n",
              "      <th>driver_race</th>\n",
              "      <th>violation_raw</th>\n",
              "      <th>violation</th>\n",
              "      <th>search_conducted</th>\n",
              "      <th>search_type</th>\n",
              "      <th>stop_outcome</th>\n",
              "      <th>is_arrested</th>\n",
              "      <th>stop_duration</th>\n",
              "      <th>drugs_related_stop</th>\n",
              "    </tr>\n",
              "  </thead>\n",
              "  <tbody>\n",
              "    <tr>\n",
              "      <th>0</th>\n",
              "      <td>2005-01-02</td>\n",
              "      <td>2022-10-28 01:55:00</td>\n",
              "      <td>M</td>\n",
              "      <td>1985.0</td>\n",
              "      <td>20.0</td>\n",
              "      <td>White</td>\n",
              "      <td>Speeding</td>\n",
              "      <td>Speeding</td>\n",
              "      <td>False</td>\n",
              "      <td>NaN</td>\n",
              "      <td>Citation</td>\n",
              "      <td>False</td>\n",
              "      <td>0-15 Min</td>\n",
              "      <td>False</td>\n",
              "    </tr>\n",
              "    <tr>\n",
              "      <th>1</th>\n",
              "      <td>2005-01-18</td>\n",
              "      <td>2022-10-28 08:15:00</td>\n",
              "      <td>M</td>\n",
              "      <td>1965.0</td>\n",
              "      <td>40.0</td>\n",
              "      <td>White</td>\n",
              "      <td>Speeding</td>\n",
              "      <td>Speeding</td>\n",
              "      <td>False</td>\n",
              "      <td>NaN</td>\n",
              "      <td>Citation</td>\n",
              "      <td>False</td>\n",
              "      <td>0-15 Min</td>\n",
              "      <td>False</td>\n",
              "    </tr>\n",
              "    <tr>\n",
              "      <th>2</th>\n",
              "      <td>2005-01-23</td>\n",
              "      <td>2022-10-28 23:15:00</td>\n",
              "      <td>M</td>\n",
              "      <td>1972.0</td>\n",
              "      <td>33.0</td>\n",
              "      <td>White</td>\n",
              "      <td>Speeding</td>\n",
              "      <td>Speeding</td>\n",
              "      <td>False</td>\n",
              "      <td>NaN</td>\n",
              "      <td>Citation</td>\n",
              "      <td>False</td>\n",
              "      <td>0-15 Min</td>\n",
              "      <td>False</td>\n",
              "    </tr>\n",
              "    <tr>\n",
              "      <th>3</th>\n",
              "      <td>2005-02-20</td>\n",
              "      <td>2022-10-28 17:15:00</td>\n",
              "      <td>M</td>\n",
              "      <td>1986.0</td>\n",
              "      <td>19.0</td>\n",
              "      <td>White</td>\n",
              "      <td>Call for Service</td>\n",
              "      <td>Other</td>\n",
              "      <td>False</td>\n",
              "      <td>NaN</td>\n",
              "      <td>Arrest Driver</td>\n",
              "      <td>True</td>\n",
              "      <td>16-30 Min</td>\n",
              "      <td>False</td>\n",
              "    </tr>\n",
              "    <tr>\n",
              "      <th>4</th>\n",
              "      <td>2005-03-14</td>\n",
              "      <td>2022-10-28 10:00:00</td>\n",
              "      <td>F</td>\n",
              "      <td>1984.0</td>\n",
              "      <td>21.0</td>\n",
              "      <td>White</td>\n",
              "      <td>Speeding</td>\n",
              "      <td>Speeding</td>\n",
              "      <td>False</td>\n",
              "      <td>NaN</td>\n",
              "      <td>Citation</td>\n",
              "      <td>False</td>\n",
              "      <td>0-15 Min</td>\n",
              "      <td>False</td>\n",
              "    </tr>\n",
              "    <tr>\n",
              "      <th>...</th>\n",
              "      <td>...</td>\n",
              "      <td>...</td>\n",
              "      <td>...</td>\n",
              "      <td>...</td>\n",
              "      <td>...</td>\n",
              "      <td>...</td>\n",
              "      <td>...</td>\n",
              "      <td>...</td>\n",
              "      <td>...</td>\n",
              "      <td>...</td>\n",
              "      <td>...</td>\n",
              "      <td>...</td>\n",
              "      <td>...</td>\n",
              "      <td>...</td>\n",
              "    </tr>\n",
              "    <tr>\n",
              "      <th>65530</th>\n",
              "      <td>2012-12-06</td>\n",
              "      <td>2022-10-28 17:54:00</td>\n",
              "      <td>F</td>\n",
              "      <td>1987.0</td>\n",
              "      <td>25.0</td>\n",
              "      <td>White</td>\n",
              "      <td>Speeding</td>\n",
              "      <td>Speeding</td>\n",
              "      <td>False</td>\n",
              "      <td>NaN</td>\n",
              "      <td>Citation</td>\n",
              "      <td>False</td>\n",
              "      <td>0-15 Min</td>\n",
              "      <td>False</td>\n",
              "    </tr>\n",
              "    <tr>\n",
              "      <th>65531</th>\n",
              "      <td>2012-12-06</td>\n",
              "      <td>2022-10-28 22:22:00</td>\n",
              "      <td>M</td>\n",
              "      <td>1954.0</td>\n",
              "      <td>58.0</td>\n",
              "      <td>White</td>\n",
              "      <td>Speeding</td>\n",
              "      <td>Speeding</td>\n",
              "      <td>False</td>\n",
              "      <td>NaN</td>\n",
              "      <td>Warning</td>\n",
              "      <td>False</td>\n",
              "      <td>0-15 Min</td>\n",
              "      <td>False</td>\n",
              "    </tr>\n",
              "    <tr>\n",
              "      <th>65532</th>\n",
              "      <td>2012-12-06</td>\n",
              "      <td>2022-10-28 23:20:00</td>\n",
              "      <td>M</td>\n",
              "      <td>1985.0</td>\n",
              "      <td>27.0</td>\n",
              "      <td>Black</td>\n",
              "      <td>Equipment/Inspection Violation</td>\n",
              "      <td>Equipment</td>\n",
              "      <td>False</td>\n",
              "      <td>NaN</td>\n",
              "      <td>Citation</td>\n",
              "      <td>False</td>\n",
              "      <td>0-15 Min</td>\n",
              "      <td>False</td>\n",
              "    </tr>\n",
              "    <tr>\n",
              "      <th>65533</th>\n",
              "      <td>2012-12-07</td>\n",
              "      <td>2022-10-28 00:23:00</td>\n",
              "      <td>NaN</td>\n",
              "      <td>NaN</td>\n",
              "      <td>NaN</td>\n",
              "      <td>NaN</td>\n",
              "      <td>NaN</td>\n",
              "      <td>NaN</td>\n",
              "      <td>False</td>\n",
              "      <td>NaN</td>\n",
              "      <td>NaN</td>\n",
              "      <td>NaN</td>\n",
              "      <td>NaN</td>\n",
              "      <td>False</td>\n",
              "    </tr>\n",
              "    <tr>\n",
              "      <th>65534</th>\n",
              "      <td>2012-12-07</td>\n",
              "      <td>2022-10-28 00:30:00</td>\n",
              "      <td>F</td>\n",
              "      <td>1985.0</td>\n",
              "      <td>27.0</td>\n",
              "      <td>White</td>\n",
              "      <td>Speeding</td>\n",
              "      <td>Speeding</td>\n",
              "      <td>False</td>\n",
              "      <td>NaN</td>\n",
              "      <td>Citation</td>\n",
              "      <td>False</td>\n",
              "      <td>0-15 Min</td>\n",
              "      <td>False</td>\n",
              "    </tr>\n",
              "  </tbody>\n",
              "</table>\n",
              "<p>65535 rows × 14 columns</p>\n",
              "</div>\n",
              "      <button class=\"colab-df-convert\" onclick=\"convertToInteractive('df-9d8f2540-0cc8-488b-bcb4-5c7cfc2c45aa')\"\n",
              "              title=\"Convert this dataframe to an interactive table.\"\n",
              "              style=\"display:none;\">\n",
              "        \n",
              "  <svg xmlns=\"http://www.w3.org/2000/svg\" height=\"24px\"viewBox=\"0 0 24 24\"\n",
              "       width=\"24px\">\n",
              "    <path d=\"M0 0h24v24H0V0z\" fill=\"none\"/>\n",
              "    <path d=\"M18.56 5.44l.94 2.06.94-2.06 2.06-.94-2.06-.94-.94-2.06-.94 2.06-2.06.94zm-11 1L8.5 8.5l.94-2.06 2.06-.94-2.06-.94L8.5 2.5l-.94 2.06-2.06.94zm10 10l.94 2.06.94-2.06 2.06-.94-2.06-.94-.94-2.06-.94 2.06-2.06.94z\"/><path d=\"M17.41 7.96l-1.37-1.37c-.4-.4-.92-.59-1.43-.59-.52 0-1.04.2-1.43.59L10.3 9.45l-7.72 7.72c-.78.78-.78 2.05 0 2.83L4 21.41c.39.39.9.59 1.41.59.51 0 1.02-.2 1.41-.59l7.78-7.78 2.81-2.81c.8-.78.8-2.07 0-2.86zM5.41 20L4 18.59l7.72-7.72 1.47 1.35L5.41 20z\"/>\n",
              "  </svg>\n",
              "      </button>\n",
              "      \n",
              "  <style>\n",
              "    .colab-df-container {\n",
              "      display:flex;\n",
              "      flex-wrap:wrap;\n",
              "      gap: 12px;\n",
              "    }\n",
              "\n",
              "    .colab-df-convert {\n",
              "      background-color: #E8F0FE;\n",
              "      border: none;\n",
              "      border-radius: 50%;\n",
              "      cursor: pointer;\n",
              "      display: none;\n",
              "      fill: #1967D2;\n",
              "      height: 32px;\n",
              "      padding: 0 0 0 0;\n",
              "      width: 32px;\n",
              "    }\n",
              "\n",
              "    .colab-df-convert:hover {\n",
              "      background-color: #E2EBFA;\n",
              "      box-shadow: 0px 1px 2px rgba(60, 64, 67, 0.3), 0px 1px 3px 1px rgba(60, 64, 67, 0.15);\n",
              "      fill: #174EA6;\n",
              "    }\n",
              "\n",
              "    [theme=dark] .colab-df-convert {\n",
              "      background-color: #3B4455;\n",
              "      fill: #D2E3FC;\n",
              "    }\n",
              "\n",
              "    [theme=dark] .colab-df-convert:hover {\n",
              "      background-color: #434B5C;\n",
              "      box-shadow: 0px 1px 3px 1px rgba(0, 0, 0, 0.15);\n",
              "      filter: drop-shadow(0px 1px 2px rgba(0, 0, 0, 0.3));\n",
              "      fill: #FFFFFF;\n",
              "    }\n",
              "  </style>\n",
              "\n",
              "      <script>\n",
              "        const buttonEl =\n",
              "          document.querySelector('#df-9d8f2540-0cc8-488b-bcb4-5c7cfc2c45aa button.colab-df-convert');\n",
              "        buttonEl.style.display =\n",
              "          google.colab.kernel.accessAllowed ? 'block' : 'none';\n",
              "\n",
              "        async function convertToInteractive(key) {\n",
              "          const element = document.querySelector('#df-9d8f2540-0cc8-488b-bcb4-5c7cfc2c45aa');\n",
              "          const dataTable =\n",
              "            await google.colab.kernel.invokeFunction('convertToInteractive',\n",
              "                                                     [key], {});\n",
              "          if (!dataTable) return;\n",
              "\n",
              "          const docLinkHtml = 'Like what you see? Visit the ' +\n",
              "            '<a target=\"_blank\" href=https://colab.research.google.com/notebooks/data_table.ipynb>data table notebook</a>'\n",
              "            + ' to learn more about interactive tables.';\n",
              "          element.innerHTML = '';\n",
              "          dataTable['output_type'] = 'display_data';\n",
              "          await google.colab.output.renderOutput(dataTable, element);\n",
              "          const docLink = document.createElement('div');\n",
              "          docLink.innerHTML = docLinkHtml;\n",
              "          element.appendChild(docLink);\n",
              "        }\n",
              "      </script>\n",
              "    </div>\n",
              "  </div>\n",
              "  "
            ]
          },
          "metadata": {},
          "execution_count": 10
        }
      ]
    },
    {
      "cell_type": "code",
      "source": [
        "# search_conducted for each age group for both gender\n",
        "pd.pivot_table(data,index=['driver_gender','violation'])"
      ],
      "metadata": {
        "colab": {
          "base_uri": "https://localhost:8080/",
          "height": 426
        },
        "id": "hS4sK1hhX78A",
        "outputId": "c1222c1b-e22c-41f1-be7e-c4be48a48073"
      },
      "execution_count": null,
      "outputs": [
        {
          "output_type": "execute_result",
          "data": {
            "text/plain": [
              "                                   driver_age  driver_age_raw  \\\n",
              "driver_gender violation                                         \n",
              "F             Equipment             31.470588     1977.091039   \n",
              "              Moving violation      34.001872     1971.832400   \n",
              "              Other                 34.073009     1966.455947   \n",
              "              Registration/plates   32.610143     1973.362342   \n",
              "              Speeding              32.164394     1973.645644   \n",
              "M             Equipment             31.740857     1975.620508   \n",
              "              Moving violation      37.336482     1964.068275   \n",
              "              Other                 41.302149     1904.604986   \n",
              "              Registration/plates   32.674953     1973.813160   \n",
              "              Seat belt             30.333333     1981.666667   \n",
              "              Speeding              33.765928     1971.522593   \n",
              "\n",
              "                                   drugs_related_stop  search_conducted  \n",
              "driver_gender violation                                                  \n",
              "F             Equipment                      0.007880          0.058739  \n",
              "              Moving violation               0.008870          0.043417  \n",
              "              Other                          0.006608          0.057269  \n",
              "              Registration/plates            0.004747          0.099684  \n",
              "              Speeding                       0.001711          0.008728  \n",
              "M             Equipment                      0.023633          0.089258  \n",
              "              Moving violation               0.014002          0.061018  \n",
              "              Other                          0.005433          0.044423  \n",
              "              Registration/plates            0.017381          0.140286  \n",
              "              Seat belt                      0.000000          0.000000  \n",
              "              Speeding                       0.006231          0.027198  "
            ],
            "text/html": [
              "\n",
              "  <div id=\"df-dc53892b-99ab-4f84-8543-d8beb80690cd\">\n",
              "    <div class=\"colab-df-container\">\n",
              "      <div>\n",
              "<style scoped>\n",
              "    .dataframe tbody tr th:only-of-type {\n",
              "        vertical-align: middle;\n",
              "    }\n",
              "\n",
              "    .dataframe tbody tr th {\n",
              "        vertical-align: top;\n",
              "    }\n",
              "\n",
              "    .dataframe thead th {\n",
              "        text-align: right;\n",
              "    }\n",
              "</style>\n",
              "<table border=\"1\" class=\"dataframe\">\n",
              "  <thead>\n",
              "    <tr style=\"text-align: right;\">\n",
              "      <th></th>\n",
              "      <th></th>\n",
              "      <th>driver_age</th>\n",
              "      <th>driver_age_raw</th>\n",
              "      <th>drugs_related_stop</th>\n",
              "      <th>search_conducted</th>\n",
              "    </tr>\n",
              "    <tr>\n",
              "      <th>driver_gender</th>\n",
              "      <th>violation</th>\n",
              "      <th></th>\n",
              "      <th></th>\n",
              "      <th></th>\n",
              "      <th></th>\n",
              "    </tr>\n",
              "  </thead>\n",
              "  <tbody>\n",
              "    <tr>\n",
              "      <th rowspan=\"5\" valign=\"top\">F</th>\n",
              "      <th>Equipment</th>\n",
              "      <td>31.470588</td>\n",
              "      <td>1977.091039</td>\n",
              "      <td>0.007880</td>\n",
              "      <td>0.058739</td>\n",
              "    </tr>\n",
              "    <tr>\n",
              "      <th>Moving violation</th>\n",
              "      <td>34.001872</td>\n",
              "      <td>1971.832400</td>\n",
              "      <td>0.008870</td>\n",
              "      <td>0.043417</td>\n",
              "    </tr>\n",
              "    <tr>\n",
              "      <th>Other</th>\n",
              "      <td>34.073009</td>\n",
              "      <td>1966.455947</td>\n",
              "      <td>0.006608</td>\n",
              "      <td>0.057269</td>\n",
              "    </tr>\n",
              "    <tr>\n",
              "      <th>Registration/plates</th>\n",
              "      <td>32.610143</td>\n",
              "      <td>1973.362342</td>\n",
              "      <td>0.004747</td>\n",
              "      <td>0.099684</td>\n",
              "    </tr>\n",
              "    <tr>\n",
              "      <th>Speeding</th>\n",
              "      <td>32.164394</td>\n",
              "      <td>1973.645644</td>\n",
              "      <td>0.001711</td>\n",
              "      <td>0.008728</td>\n",
              "    </tr>\n",
              "    <tr>\n",
              "      <th rowspan=\"6\" valign=\"top\">M</th>\n",
              "      <th>Equipment</th>\n",
              "      <td>31.740857</td>\n",
              "      <td>1975.620508</td>\n",
              "      <td>0.023633</td>\n",
              "      <td>0.089258</td>\n",
              "    </tr>\n",
              "    <tr>\n",
              "      <th>Moving violation</th>\n",
              "      <td>37.336482</td>\n",
              "      <td>1964.068275</td>\n",
              "      <td>0.014002</td>\n",
              "      <td>0.061018</td>\n",
              "    </tr>\n",
              "    <tr>\n",
              "      <th>Other</th>\n",
              "      <td>41.302149</td>\n",
              "      <td>1904.604986</td>\n",
              "      <td>0.005433</td>\n",
              "      <td>0.044423</td>\n",
              "    </tr>\n",
              "    <tr>\n",
              "      <th>Registration/plates</th>\n",
              "      <td>32.674953</td>\n",
              "      <td>1973.813160</td>\n",
              "      <td>0.017381</td>\n",
              "      <td>0.140286</td>\n",
              "    </tr>\n",
              "    <tr>\n",
              "      <th>Seat belt</th>\n",
              "      <td>30.333333</td>\n",
              "      <td>1981.666667</td>\n",
              "      <td>0.000000</td>\n",
              "      <td>0.000000</td>\n",
              "    </tr>\n",
              "    <tr>\n",
              "      <th>Speeding</th>\n",
              "      <td>33.765928</td>\n",
              "      <td>1971.522593</td>\n",
              "      <td>0.006231</td>\n",
              "      <td>0.027198</td>\n",
              "    </tr>\n",
              "  </tbody>\n",
              "</table>\n",
              "</div>\n",
              "      <button class=\"colab-df-convert\" onclick=\"convertToInteractive('df-dc53892b-99ab-4f84-8543-d8beb80690cd')\"\n",
              "              title=\"Convert this dataframe to an interactive table.\"\n",
              "              style=\"display:none;\">\n",
              "        \n",
              "  <svg xmlns=\"http://www.w3.org/2000/svg\" height=\"24px\"viewBox=\"0 0 24 24\"\n",
              "       width=\"24px\">\n",
              "    <path d=\"M0 0h24v24H0V0z\" fill=\"none\"/>\n",
              "    <path d=\"M18.56 5.44l.94 2.06.94-2.06 2.06-.94-2.06-.94-.94-2.06-.94 2.06-2.06.94zm-11 1L8.5 8.5l.94-2.06 2.06-.94-2.06-.94L8.5 2.5l-.94 2.06-2.06.94zm10 10l.94 2.06.94-2.06 2.06-.94-2.06-.94-.94-2.06-.94 2.06-2.06.94z\"/><path d=\"M17.41 7.96l-1.37-1.37c-.4-.4-.92-.59-1.43-.59-.52 0-1.04.2-1.43.59L10.3 9.45l-7.72 7.72c-.78.78-.78 2.05 0 2.83L4 21.41c.39.39.9.59 1.41.59.51 0 1.02-.2 1.41-.59l7.78-7.78 2.81-2.81c.8-.78.8-2.07 0-2.86zM5.41 20L4 18.59l7.72-7.72 1.47 1.35L5.41 20z\"/>\n",
              "  </svg>\n",
              "      </button>\n",
              "      \n",
              "  <style>\n",
              "    .colab-df-container {\n",
              "      display:flex;\n",
              "      flex-wrap:wrap;\n",
              "      gap: 12px;\n",
              "    }\n",
              "\n",
              "    .colab-df-convert {\n",
              "      background-color: #E8F0FE;\n",
              "      border: none;\n",
              "      border-radius: 50%;\n",
              "      cursor: pointer;\n",
              "      display: none;\n",
              "      fill: #1967D2;\n",
              "      height: 32px;\n",
              "      padding: 0 0 0 0;\n",
              "      width: 32px;\n",
              "    }\n",
              "\n",
              "    .colab-df-convert:hover {\n",
              "      background-color: #E2EBFA;\n",
              "      box-shadow: 0px 1px 2px rgba(60, 64, 67, 0.3), 0px 1px 3px 1px rgba(60, 64, 67, 0.15);\n",
              "      fill: #174EA6;\n",
              "    }\n",
              "\n",
              "    [theme=dark] .colab-df-convert {\n",
              "      background-color: #3B4455;\n",
              "      fill: #D2E3FC;\n",
              "    }\n",
              "\n",
              "    [theme=dark] .colab-df-convert:hover {\n",
              "      background-color: #434B5C;\n",
              "      box-shadow: 0px 1px 3px 1px rgba(0, 0, 0, 0.15);\n",
              "      filter: drop-shadow(0px 1px 2px rgba(0, 0, 0, 0.3));\n",
              "      fill: #FFFFFF;\n",
              "    }\n",
              "  </style>\n",
              "\n",
              "      <script>\n",
              "        const buttonEl =\n",
              "          document.querySelector('#df-dc53892b-99ab-4f84-8543-d8beb80690cd button.colab-df-convert');\n",
              "        buttonEl.style.display =\n",
              "          google.colab.kernel.accessAllowed ? 'block' : 'none';\n",
              "\n",
              "        async function convertToInteractive(key) {\n",
              "          const element = document.querySelector('#df-dc53892b-99ab-4f84-8543-d8beb80690cd');\n",
              "          const dataTable =\n",
              "            await google.colab.kernel.invokeFunction('convertToInteractive',\n",
              "                                                     [key], {});\n",
              "          if (!dataTable) return;\n",
              "\n",
              "          const docLinkHtml = 'Like what you see? Visit the ' +\n",
              "            '<a target=\"_blank\" href=https://colab.research.google.com/notebooks/data_table.ipynb>data table notebook</a>'\n",
              "            + ' to learn more about interactive tables.';\n",
              "          element.innerHTML = '';\n",
              "          dataTable['output_type'] = 'display_data';\n",
              "          await google.colab.output.renderOutput(dataTable, element);\n",
              "          const docLink = document.createElement('div');\n",
              "          docLink.innerHTML = docLinkHtml;\n",
              "          element.appendChild(docLink);\n",
              "        }\n",
              "      </script>\n",
              "    </div>\n",
              "  </div>\n",
              "  "
            ]
          },
          "metadata": {},
          "execution_count": 11
        }
      ]
    },
    {
      "cell_type": "code",
      "source": [
        "# data visualization for driver_age\n",
        "data.boxplot('driver_age')"
      ],
      "metadata": {
        "colab": {
          "base_uri": "https://localhost:8080/",
          "height": 283
        },
        "id": "Go7oUHhblWNM",
        "outputId": "bf8401d4-09cf-45eb-c10c-f5028930a062"
      },
      "execution_count": null,
      "outputs": [
        {
          "output_type": "execute_result",
          "data": {
            "text/plain": [
              "<matplotlib.axes._subplots.AxesSubplot at 0x7f0909b916d0>"
            ]
          },
          "metadata": {},
          "execution_count": 12
        },
        {
          "output_type": "display_data",
          "data": {
            "text/plain": [
              "<Figure size 432x288 with 1 Axes>"
            ],
            "image/png": "[encoded data removed]"
          },
          "metadata": {
            "needs_background": "light"
          }
        }
      ]
    },
    {
      "cell_type": "code",
      "source": [
        "# how many male and female drivers\n",
        "data['driver_gender'].value_counts()"
      ],
      "metadata": {
        "colab": {
          "base_uri": "https://localhost:8080/"
        },
        "id": "MYMntVbcc87T",
        "outputId": "05e8f0e6-bee9-4a2b-8a06-eb7015a224d1"
      },
      "execution_count": null,
      "outputs": [
        {
          "output_type": "execute_result",
          "data": {
            "text/plain": [
              "M    45164\n",
              "F    16310\n",
              "Name: driver_gender, dtype: int64"
            ]
          },
          "metadata": {},
          "execution_count": 13
        }
      ]
    },
    {
      "cell_type": "code",
      "source": [
        "data.driver_gender.value_counts().plot.bar()"
      ],
      "metadata": {
        "colab": {
          "base_uri": "https://localhost:8080/",
          "height": 281
        },
        "id": "27I5gdSVdcJL",
        "outputId": "bacb0229-86a7-444d-f813-7bcae48e794d"
      },
      "execution_count": null,
      "outputs": [
        {
          "output_type": "execute_result",
          "data": {
            "text/plain": [
              "<matplotlib.axes._subplots.AxesSubplot at 0x7f0909b271d0>"
            ]
          },
          "metadata": {},
          "execution_count": 14
        },
        {
          "output_type": "display_data",
          "data": {
            "text/plain": [
              "<Figure size 432x288 with 1 Axes>"
            ],
            "image/png": "[encoded data removed]"
          },
          "metadata": {
            "needs_background": "light"
          }
        }
      ]
    },
    {
      "cell_type": "code",
      "source": [
        "# Which Gender is doing more violations on the basis of speeding\n",
        "data[data.violation == 'Speeding'].driver_gender.value_counts()"
      ],
      "metadata": {
        "colab": {
          "base_uri": "https://localhost:8080/"
        },
        "id": "ohCPBO7xDjkn",
        "outputId": "464b35fc-07e2-4000-da07-134f8bb3e9bf"
      },
      "execution_count": null,
      "outputs": [
        {
          "output_type": "execute_result",
          "data": {
            "text/plain": [
              "M    25517\n",
              "F    11686\n",
              "Name: driver_gender, dtype: int64"
            ]
          },
          "metadata": {},
          "execution_count": 15
        }
      ]
    },
    {
      "cell_type": "code",
      "source": [
        "# Number of search conducted by the Police\n",
        "data.search_conducted.value_counts()"
      ],
      "metadata": {
        "colab": {
          "base_uri": "https://localhost:8080/"
        },
        "id": "-mi36M2-Kw31",
        "outputId": "34435c4b-7b2e-4756-c935-7d5fcaad0084"
      },
      "execution_count": null,
      "outputs": [
        {
          "output_type": "execute_result",
          "data": {
            "text/plain": [
              "False    63056\n",
              "True      2479\n",
              "Name: search_conducted, dtype: int64"
            ]
          },
          "metadata": {},
          "execution_count": 16
        }
      ]
    },
    {
      "cell_type": "code",
      "source": [
        "# When search_conducted is True.\n",
        "data[data.search_conducted == True].search_type.value_counts()"
      ],
      "metadata": {
        "colab": {
          "base_uri": "https://localhost:8080/"
        },
        "id": "b_e_TzpM_Q3z",
        "outputId": "582996d4-0777-424f-e3aa-bb5bd1601a5f"
      },
      "execution_count": null,
      "outputs": [
        {
          "output_type": "execute_result",
          "data": {
            "text/plain": [
              "Incident to Arrest                                          1074\n",
              "Probable Cause                                               579\n",
              "Inventory                                                    173\n",
              "Reasonable Suspicion                                         149\n",
              "Protective Frisk                                             126\n",
              "Incident to Arrest,Inventory                                 104\n",
              "Incident to Arrest,Probable Cause                             79\n",
              "Probable Cause,Reasonable Suspicion                           38\n",
              "Incident to Arrest,Protective Frisk                           31\n",
              "Incident to Arrest,Inventory,Probable Cause                   26\n",
              "Probable Cause,Protective Frisk                               23\n",
              "Inventory,Probable Cause                                      14\n",
              "Inventory,Protective Frisk                                    11\n",
              "Incident to Arrest,Inventory,Protective Frisk                 11\n",
              "Incident to Arrest,Probable Cause,Protective Frisk            10\n",
              "Protective Frisk,Reasonable Suspicion                         10\n",
              "Incident to Arrest,Reasonable Suspicion                        8\n",
              "Inventory,Reasonable Suspicion                                 4\n",
              "Incident to Arrest,Probable Cause,Reasonable Suspicion         3\n",
              "Incident to Arrest,Inventory,Reasonable Suspicion              2\n",
              "Inventory,Probable Cause,Protective Frisk                      2\n",
              "Incident to Arrest,Protective Frisk,Reasonable Suspicion       1\n",
              "Inventory,Probable Cause,Reasonable Suspicion                  1\n",
              "Name: search_type, dtype: int64"
            ]
          },
          "metadata": {},
          "execution_count": 17
        }
      ]
    },
    {
      "cell_type": "code",
      "source": [
        "# search conducted on the drivers\n",
        "data.groupby('driver_gender').search_conducted.sum()"
      ],
      "metadata": {
        "colab": {
          "base_uri": "https://localhost:8080/"
        },
        "id": "zAsCiqh4I1nd",
        "outputId": "b058a194-3942-46aa-9b8c-bd0779c8de85"
      },
      "execution_count": null,
      "outputs": [
        {
          "output_type": "execute_result",
          "data": {
            "text/plain": [
              "driver_gender\n",
              "F     366\n",
              "M    2113\n",
              "Name: search_conducted, dtype: int64"
            ]
          },
          "metadata": {},
          "execution_count": 18
        }
      ]
    },
    {
      "cell_type": "code",
      "source": [
        "data.groupby(['driver_gender'])['search_conducted'].sum().plot.bar()"
      ],
      "metadata": {
        "colab": {
          "base_uri": "https://localhost:8080/",
          "height": 296
        },
        "id": "pCZdCmWQFIfT",
        "outputId": "78fb2b20-a48a-4c9d-db00-3479a2d52007"
      },
      "execution_count": null,
      "outputs": [
        {
          "output_type": "execute_result",
          "data": {
            "text/plain": [
              "<matplotlib.axes._subplots.AxesSubplot at 0x7f0909a3f2d0>"
            ]
          },
          "metadata": {},
          "execution_count": 19
        },
        {
          "output_type": "display_data",
          "data": {
            "text/plain": [
              "<Figure size 432x288 with 1 Axes>"
            ],
            "image/png": "[encoded data removed]"
          },
          "metadata": {
            "needs_background": "light"
          }
        }
      ]
    },
    {
      "cell_type": "code",
      "source": [
        "# Drug activity of both gender\n",
        "pd.DataFrame(data.groupby('driver_gender').drugs_related_stop.value_counts())"
      ],
      "metadata": {
        "colab": {
          "base_uri": "https://localhost:8080/",
          "height": 206
        },
        "id": "0kXQuBp2gKs7",
        "outputId": "6615dc1b-6b72-49b5-ef60-25d8e2250684"
      },
      "execution_count": null,
      "outputs": [
        {
          "output_type": "execute_result",
          "data": {
            "text/plain": [
              "                                  drugs_related_stop\n",
              "driver_gender drugs_related_stop                    \n",
              "F             False                            16254\n",
              "              True                                56\n",
              "M             False                            44702\n",
              "              True                               462"
            ],
            "text/html": [
              "\n",
              "  <div id=\"df-8ed21000-93a7-4101-92a3-7accd84040be\">\n",
              "    <div class=\"colab-df-container\">\n",
              "      <div>\n",
              "<style scoped>\n",
              "    .dataframe tbody tr th:only-of-type {\n",
              "        vertical-align: middle;\n",
              "    }\n",
              "\n",
              "    .dataframe tbody tr th {\n",
              "        vertical-align: top;\n",
              "    }\n",
              "\n",
              "    .dataframe thead th {\n",
              "        text-align: right;\n",
              "    }\n",
              "</style>\n",
              "<table border=\"1\" class=\"dataframe\">\n",
              "  <thead>\n",
              "    <tr style=\"text-align: right;\">\n",
              "      <th></th>\n",
              "      <th></th>\n",
              "      <th>drugs_related_stop</th>\n",
              "    </tr>\n",
              "    <tr>\n",
              "      <th>driver_gender</th>\n",
              "      <th>drugs_related_stop</th>\n",
              "      <th></th>\n",
              "    </tr>\n",
              "  </thead>\n",
              "  <tbody>\n",
              "    <tr>\n",
              "      <th rowspan=\"2\" valign=\"top\">F</th>\n",
              "      <th>False</th>\n",
              "      <td>16254</td>\n",
              "    </tr>\n",
              "    <tr>\n",
              "      <th>True</th>\n",
              "      <td>56</td>\n",
              "    </tr>\n",
              "    <tr>\n",
              "      <th rowspan=\"2\" valign=\"top\">M</th>\n",
              "      <th>False</th>\n",
              "      <td>44702</td>\n",
              "    </tr>\n",
              "    <tr>\n",
              "      <th>True</th>\n",
              "      <td>462</td>\n",
              "    </tr>\n",
              "  </tbody>\n",
              "</table>\n",
              "</div>\n",
              "      <button class=\"colab-df-convert\" onclick=\"convertToInteractive('df-8ed21000-93a7-4101-92a3-7accd84040be')\"\n",
              "              title=\"Convert this dataframe to an interactive table.\"\n",
              "              style=\"display:none;\">\n",
              "        \n",
              "  <svg xmlns=\"http://www.w3.org/2000/svg\" height=\"24px\"viewBox=\"0 0 24 24\"\n",
              "       width=\"24px\">\n",
              "    <path d=\"M0 0h24v24H0V0z\" fill=\"none\"/>\n",
              "    <path d=\"M18.56 5.44l.94 2.06.94-2.06 2.06-.94-2.06-.94-.94-2.06-.94 2.06-2.06.94zm-11 1L8.5 8.5l.94-2.06 2.06-.94-2.06-.94L8.5 2.5l-.94 2.06-2.06.94zm10 10l.94 2.06.94-2.06 2.06-.94-2.06-.94-.94-2.06-.94 2.06-2.06.94z\"/><path d=\"M17.41 7.96l-1.37-1.37c-.4-.4-.92-.59-1.43-.59-.52 0-1.04.2-1.43.59L10.3 9.45l-7.72 7.72c-.78.78-.78 2.05 0 2.83L4 21.41c.39.39.9.59 1.41.59.51 0 1.02-.2 1.41-.59l7.78-7.78 2.81-2.81c.8-.78.8-2.07 0-2.86zM5.41 20L4 18.59l7.72-7.72 1.47 1.35L5.41 20z\"/>\n",
              "  </svg>\n",
              "      </button>\n",
              "      \n",
              "  <style>\n",
              "    .colab-df-container {\n",
              "      display:flex;\n",
              "      flex-wrap:wrap;\n",
              "      gap: 12px;\n",
              "    }\n",
              "\n",
              "    .colab-df-convert {\n",
              "      background-color: #E8F0FE;\n",
              "      border: none;\n",
              "      border-radius: 50%;\n",
              "      cursor: pointer;\n",
              "      display: none;\n",
              "      fill: #1967D2;\n",
              "      height: 32px;\n",
              "      padding: 0 0 0 0;\n",
              "      width: 32px;\n",
              "    }\n",
              "\n",
              "    .colab-df-convert:hover {\n",
              "      background-color: #E2EBFA;\n",
              "      box-shadow: 0px 1px 2px rgba(60, 64, 67, 0.3), 0px 1px 3px 1px rgba(60, 64, 67, 0.15);\n",
              "      fill: #174EA6;\n",
              "    }\n",
              "\n",
              "    [theme=dark] .colab-df-convert {\n",
              "      background-color: #3B4455;\n",
              "      fill: #D2E3FC;\n",
              "    }\n",
              "\n",
              "    [theme=dark] .colab-df-convert:hover {\n",
              "      background-color: #434B5C;\n",
              "      box-shadow: 0px 1px 3px 1px rgba(0, 0, 0, 0.15);\n",
              "      filter: drop-shadow(0px 1px 2px rgba(0, 0, 0, 0.3));\n",
              "      fill: #FFFFFF;\n",
              "    }\n",
              "  </style>\n",
              "\n",
              "      <script>\n",
              "        const buttonEl =\n",
              "          document.querySelector('#df-8ed21000-93a7-4101-92a3-7accd84040be button.colab-df-convert');\n",
              "        buttonEl.style.display =\n",
              "          google.colab.kernel.accessAllowed ? 'block' : 'none';\n",
              "\n",
              "        async function convertToInteractive(key) {\n",
              "          const element = document.querySelector('#df-8ed21000-93a7-4101-92a3-7accd84040be');\n",
              "          const dataTable =\n",
              "            await google.colab.kernel.invokeFunction('convertToInteractive',\n",
              "                                                     [key], {});\n",
              "          if (!dataTable) return;\n",
              "\n",
              "          const docLinkHtml = 'Like what you see? Visit the ' +\n",
              "            '<a target=\"_blank\" href=https://colab.research.google.com/notebooks/data_table.ipynb>data table notebook</a>'\n",
              "            + ' to learn more about interactive tables.';\n",
              "          element.innerHTML = '';\n",
              "          dataTable['output_type'] = 'display_data';\n",
              "          await google.colab.output.renderOutput(dataTable, element);\n",
              "          const docLink = document.createElement('div');\n",
              "          docLink.innerHTML = docLinkHtml;\n",
              "          element.appendChild(docLink);\n",
              "        }\n",
              "      </script>\n",
              "    </div>\n",
              "  </div>\n",
              "  "
            ]
          },
          "metadata": {},
          "execution_count": 20
        }
      ]
    },
    {
      "cell_type": "code",
      "source": [
        "# Number of search conducted by the Police on the basis of 'True' drugs activity\n",
        "data.groupby('driver_gender').drugs_related_stop.sum()"
      ],
      "metadata": {
        "colab": {
          "base_uri": "https://localhost:8080/"
        },
        "id": "OdaN9rXfIwgx",
        "outputId": "7bb5652d-75b2-4848-e1da-1f8b34aec405"
      },
      "execution_count": null,
      "outputs": [
        {
          "output_type": "execute_result",
          "data": {
            "text/plain": [
              "driver_gender\n",
              "F     56\n",
              "M    462\n",
              "Name: drugs_related_stop, dtype: int64"
            ]
          },
          "metadata": {},
          "execution_count": 21
        }
      ]
    },
    {
      "cell_type": "code",
      "source": [
        "data.groupby(['driver_gender'])['drugs_related_stop'].sum().plot.bar()"
      ],
      "metadata": {
        "colab": {
          "base_uri": "https://localhost:8080/",
          "height": 296
        },
        "id": "tKOYfwGLIwXJ",
        "outputId": "0738bd05-d759-4a9c-e215-290741965f5e"
      },
      "execution_count": null,
      "outputs": [
        {
          "output_type": "execute_result",
          "data": {
            "text/plain": [
              "<matplotlib.axes._subplots.AxesSubplot at 0x7f0909921490>"
            ]
          },
          "metadata": {},
          "execution_count": 22
        },
        {
          "output_type": "display_data",
          "data": {
            "text/plain": [
              "<Figure size 432x288 with 1 Axes>"
            ],
            "image/png": "[encoded data removed]"
          },
          "metadata": {
            "needs_background": "light"
          }
        }
      ]
    },
    {
      "cell_type": "code",
      "source": [
        "plt.subplot(1,2,1)\n",
        "data.groupby(['driver_gender'])['search_conducted'].sum().plot.bar()\n",
        "plt.subplot(1,2,2)\n",
        "data.groupby(['driver_gender'])['drugs_related_stop'].sum().plot.bar()"
      ],
      "metadata": {
        "colab": {
          "base_uri": "https://localhost:8080/",
          "height": 296
        },
        "id": "W5l-lEeaI_Mg",
        "outputId": "1d8b81db-2c69-452c-ca8b-1f2e4cc67bc5"
      },
      "execution_count": null,
      "outputs": [
        {
          "output_type": "execute_result",
          "data": {
            "text/plain": [
              "<matplotlib.axes._subplots.AxesSubplot at 0x7f0909439310>"
            ]
          },
          "metadata": {},
          "execution_count": 23
        },
        {
          "output_type": "display_data",
          "data": {
            "text/plain": [
              "<Figure size 432x288 with 2 Axes>"
            ],
            "image/png": "[encoded data removed]"
          },
          "metadata": {
            "needs_background": "light"
          }
        }
      ]
    },
    {
      "cell_type": "markdown",
      "source": [
        "###### #min,max,avg age of both gender violations and how many cases for each age on the basis of violation"
      ],
      "metadata": {
        "id": "1C44JIdIZQ4g"
      }
    },
    {
      "cell_type": "code",
      "source": [
        "pd.pivot_table(data,index=['driver_gender','violation'],values=['driver_age'],aggfunc=[np.mean,np.max,np.min,len])"
      ],
      "metadata": {
        "colab": {
          "base_uri": "https://localhost:8080/",
          "height": 457
        },
        "id": "dPZBP66XZBzO",
        "outputId": "6980848f-8d9e-444a-e1ef-e29e4beecb2c"
      },
      "execution_count": null,
      "outputs": [
        {
          "output_type": "execute_result",
          "data": {
            "text/plain": [
              "                                        mean       amax       amin        len\n",
              "                                  driver_age driver_age driver_age driver_age\n",
              "driver_gender violation                                                      \n",
              "F             Equipment            31.470588       73.0       16.0       1396\n",
              "              Moving violation     34.001872       82.0       15.0       2142\n",
              "              Other                34.073009       73.0       17.0        454\n",
              "              Registration/plates  32.610143       69.0       16.0        632\n",
              "              Speeding             32.164394       84.0       16.0      11686\n",
              "M             Equipment            31.740857       81.0       16.0       5120\n",
              "              Moving violation     37.336482       86.0       15.0       9784\n",
              "              Other                41.302149       86.0       16.0       3129\n",
              "              Registration/plates  32.674953       74.0       16.0       1611\n",
              "              Seat belt            30.333333       42.0       23.0          3\n",
              "              Speeding             33.765928       88.0       15.0      25517"
            ],
            "text/html": [
              "\n",
              "  <div id=\"df-ce65ce75-333e-4732-8c67-16ae4f148cce\">\n",
              "    <div class=\"colab-df-container\">\n",
              "      <div>\n",
              "<style scoped>\n",
              "    .dataframe tbody tr th:only-of-type {\n",
              "        vertical-align: middle;\n",
              "    }\n",
              "\n",
              "    .dataframe tbody tr th {\n",
              "        vertical-align: top;\n",
              "    }\n",
              "\n",
              "    .dataframe thead tr th {\n",
              "        text-align: left;\n",
              "    }\n",
              "\n",
              "    .dataframe thead tr:last-of-type th {\n",
              "        text-align: right;\n",
              "    }\n",
              "</style>\n",
              "<table border=\"1\" class=\"dataframe\">\n",
              "  <thead>\n",
              "    <tr>\n",
              "      <th></th>\n",
              "      <th></th>\n",
              "      <th>mean</th>\n",
              "      <th>amax</th>\n",
              "      <th>amin</th>\n",
              "      <th>len</th>\n",
              "    </tr>\n",
              "    <tr>\n",
              "      <th></th>\n",
              "      <th></th>\n",
              "      <th>driver_age</th>\n",
              "      <th>driver_age</th>\n",
              "      <th>driver_age</th>\n",
              "      <th>driver_age</th>\n",
              "    </tr>\n",
              "    <tr>\n",
              "      <th>driver_gender</th>\n",
              "      <th>violation</th>\n",
              "      <th></th>\n",
              "      <th></th>\n",
              "      <th></th>\n",
              "      <th></th>\n",
              "    </tr>\n",
              "  </thead>\n",
              "  <tbody>\n",
              "    <tr>\n",
              "      <th rowspan=\"5\" valign=\"top\">F</th>\n",
              "      <th>Equipment</th>\n",
              "      <td>31.470588</td>\n",
              "      <td>73.0</td>\n",
              "      <td>16.0</td>\n",
              "      <td>1396</td>\n",
              "    </tr>\n",
              "    <tr>\n",
              "      <th>Moving violation</th>\n",
              "      <td>34.001872</td>\n",
              "      <td>82.0</td>\n",
              "      <td>15.0</td>\n",
              "      <td>2142</td>\n",
              "    </tr>\n",
              "    <tr>\n",
              "      <th>Other</th>\n",
              "      <td>34.073009</td>\n",
              "      <td>73.0</td>\n",
              "      <td>17.0</td>\n",
              "      <td>454</td>\n",
              "    </tr>\n",
              "    <tr>\n",
              "      <th>Registration/plates</th>\n",
              "      <td>32.610143</td>\n",
              "      <td>69.0</td>\n",
              "      <td>16.0</td>\n",
              "      <td>632</td>\n",
              "    </tr>\n",
              "    <tr>\n",
              "      <th>Speeding</th>\n",
              "      <td>32.164394</td>\n",
              "      <td>84.0</td>\n",
              "      <td>16.0</td>\n",
              "      <td>11686</td>\n",
              "    </tr>\n",
              "    <tr>\n",
              "      <th rowspan=\"6\" valign=\"top\">M</th>\n",
              "      <th>Equipment</th>\n",
              "      <td>31.740857</td>\n",
              "      <td>81.0</td>\n",
              "      <td>16.0</td>\n",
              "      <td>5120</td>\n",
              "    </tr>\n",
              "    <tr>\n",
              "      <th>Moving violation</th>\n",
              "      <td>37.336482</td>\n",
              "      <td>86.0</td>\n",
              "      <td>15.0</td>\n",
              "      <td>9784</td>\n",
              "    </tr>\n",
              "    <tr>\n",
              "      <th>Other</th>\n",
              "      <td>41.302149</td>\n",
              "      <td>86.0</td>\n",
              "      <td>16.0</td>\n",
              "      <td>3129</td>\n",
              "    </tr>\n",
              "    <tr>\n",
              "      <th>Registration/plates</th>\n",
              "      <td>32.674953</td>\n",
              "      <td>74.0</td>\n",
              "      <td>16.0</td>\n",
              "      <td>1611</td>\n",
              "    </tr>\n",
              "    <tr>\n",
              "      <th>Seat belt</th>\n",
              "      <td>30.333333</td>\n",
              "      <td>42.0</td>\n",
              "      <td>23.0</td>\n",
              "      <td>3</td>\n",
              "    </tr>\n",
              "    <tr>\n",
              "      <th>Speeding</th>\n",
              "      <td>33.765928</td>\n",
              "      <td>88.0</td>\n",
              "      <td>15.0</td>\n",
              "      <td>25517</td>\n",
              "    </tr>\n",
              "  </tbody>\n",
              "</table>\n",
              "</div>\n",
              "      <button class=\"colab-df-convert\" onclick=\"convertToInteractive('df-ce65ce75-333e-4732-8c67-16ae4f148cce')\"\n",
              "              title=\"Convert this dataframe to an interactive table.\"\n",
              "              style=\"display:none;\">\n",
              "        \n",
              "  <svg xmlns=\"http://www.w3.org/2000/svg\" height=\"24px\"viewBox=\"0 0 24 24\"\n",
              "       width=\"24px\">\n",
              "    <path d=\"M0 0h24v24H0V0z\" fill=\"none\"/>\n",
              "    <path d=\"M18.56 5.44l.94 2.06.94-2.06 2.06-.94-2.06-.94-.94-2.06-.94 2.06-2.06.94zm-11 1L8.5 8.5l.94-2.06 2.06-.94-2.06-.94L8.5 2.5l-.94 2.06-2.06.94zm10 10l.94 2.06.94-2.06 2.06-.94-2.06-.94-.94-2.06-.94 2.06-2.06.94z\"/><path d=\"M17.41 7.96l-1.37-1.37c-.4-.4-.92-.59-1.43-.59-.52 0-1.04.2-1.43.59L10.3 9.45l-7.72 7.72c-.78.78-.78 2.05 0 2.83L4 21.41c.39.39.9.59 1.41.59.51 0 1.02-.2 1.41-.59l7.78-7.78 2.81-2.81c.8-.78.8-2.07 0-2.86zM5.41 20L4 18.59l7.72-7.72 1.47 1.35L5.41 20z\"/>\n",
              "  </svg>\n",
              "      </button>\n",
              "      \n",
              "  <style>\n",
              "    .colab-df-container {\n",
              "      display:flex;\n",
              "      flex-wrap:wrap;\n",
              "      gap: 12px;\n",
              "    }\n",
              "\n",
              "    .colab-df-convert {\n",
              "      background-color: #E8F0FE;\n",
              "      border: none;\n",
              "      border-radius: 50%;\n",
              "      cursor: pointer;\n",
              "      display: none;\n",
              "      fill: #1967D2;\n",
              "      height: 32px;\n",
              "      padding: 0 0 0 0;\n",
              "      width: 32px;\n",
              "    }\n",
              "\n",
              "    .colab-df-convert:hover {\n",
              "      background-color: #E2EBFA;\n",
              "      box-shadow: 0px 1px 2px rgba(60, 64, 67, 0.3), 0px 1px 3px 1px rgba(60, 64, 67, 0.15);\n",
              "      fill: #174EA6;\n",
              "    }\n",
              "\n",
              "    [theme=dark] .colab-df-convert {\n",
              "      background-color: #3B4455;\n",
              "      fill: #D2E3FC;\n",
              "    }\n",
              "\n",
              "    [theme=dark] .colab-df-convert:hover {\n",
              "      background-color: #434B5C;\n",
              "      box-shadow: 0px 1px 3px 1px rgba(0, 0, 0, 0.15);\n",
              "      filter: drop-shadow(0px 1px 2px rgba(0, 0, 0, 0.3));\n",
              "      fill: #FFFFFF;\n",
              "    }\n",
              "  </style>\n",
              "\n",
              "      <script>\n",
              "        const buttonEl =\n",
              "          document.querySelector('#df-ce65ce75-333e-4732-8c67-16ae4f148cce button.colab-df-convert');\n",
              "        buttonEl.style.display =\n",
              "          google.colab.kernel.accessAllowed ? 'block' : 'none';\n",
              "\n",
              "        async function convertToInteractive(key) {\n",
              "          const element = document.querySelector('#df-ce65ce75-333e-4732-8c67-16ae4f148cce');\n",
              "          const dataTable =\n",
              "            await google.colab.kernel.invokeFunction('convertToInteractive',\n",
              "                                                     [key], {});\n",
              "          if (!dataTable) return;\n",
              "\n",
              "          const docLinkHtml = 'Like what you see? Visit the ' +\n",
              "            '<a target=\"_blank\" href=https://colab.research.google.com/notebooks/data_table.ipynb>data table notebook</a>'\n",
              "            + ' to learn more about interactive tables.';\n",
              "          element.innerHTML = '';\n",
              "          dataTable['output_type'] = 'display_data';\n",
              "          await google.colab.output.renderOutput(dataTable, element);\n",
              "          const docLink = document.createElement('div');\n",
              "          docLink.innerHTML = docLinkHtml;\n",
              "          element.appendChild(docLink);\n",
              "        }\n",
              "      </script>\n",
              "    </div>\n",
              "  </div>\n",
              "  "
            ]
          },
          "metadata": {},
          "execution_count": 24
        }
      ]
    },
    {
      "cell_type": "code",
      "source": [
        "# how many arrested on each date\n",
        "data.groupby('stop_date').is_arrested.value_counts()"
      ],
      "metadata": {
        "colab": {
          "base_uri": "https://localhost:8080/"
        },
        "id": "0DRRGCl1bp4e",
        "outputId": "eeba9e3d-0f10-4b45-cfb4-11c5c96c3cb7"
      },
      "execution_count": null,
      "outputs": [
        {
          "output_type": "execute_result",
          "data": {
            "text/plain": [
              "stop_date   is_arrested\n",
              "2005-01-02  False           1\n",
              "2005-01-18  False           1\n",
              "2005-01-23  False           1\n",
              "2005-02-20  True            1\n",
              "2005-03-14  False           1\n",
              "                           ..\n",
              "2012-12-03  False          18\n",
              "2012-12-04  False          25\n",
              "2012-12-05  False          17\n",
              "2012-12-06  False          30\n",
              "2012-12-07  False           1\n",
              "Name: is_arrested, Length: 4090, dtype: int64"
            ]
          },
          "metadata": {},
          "execution_count": 25
        }
      ]
    },
    {
      "cell_type": "code",
      "source": [
        "# which time police is active\n",
        "data['stop_time'].mean()"
      ],
      "metadata": {
        "colab": {
          "base_uri": "https://localhost:8080/"
        },
        "id": "ul-3-djjbptb",
        "outputId": "fe24aa58-37ad-4a72-bd1c-88a0a297e064"
      },
      "execution_count": null,
      "outputs": [
        {
          "output_type": "execute_result",
          "data": {
            "text/plain": [
              "Timestamp('2022-10-28 12:03:32.504463360')"
            ]
          },
          "metadata": {},
          "execution_count": 26
        }
      ]
    },
    {
      "cell_type": "code",
      "source": [
        "# Avg,min, max age of the drivers \n",
        "data.groupby('driver_gender').driver_age.agg(['min','max','mean'])"
      ],
      "metadata": {
        "colab": {
          "base_uri": "https://localhost:8080/",
          "height": 143
        },
        "id": "UUma4v4dbpej",
        "outputId": "12a6588c-c62b-42ae-abfc-d0f7af8bcc1c"
      },
      "execution_count": null,
      "outputs": [
        {
          "output_type": "execute_result",
          "data": {
            "text/plain": [
              "                min   max       mean\n",
              "driver_gender                       \n",
              "F              15.0  84.0  32.416528\n",
              "M              15.0  88.0  34.777138"
            ],
            "text/html": [
              "\n",
              "  <div id=\"df-05a988fb-7384-4086-a18b-2ca5ba3b68cc\">\n",
              "    <div class=\"colab-df-container\">\n",
              "      <div>\n",
              "<style scoped>\n",
              "    .dataframe tbody tr th:only-of-type {\n",
              "        vertical-align: middle;\n",
              "    }\n",
              "\n",
              "    .dataframe tbody tr th {\n",
              "        vertical-align: top;\n",
              "    }\n",
              "\n",
              "    .dataframe thead th {\n",
              "        text-align: right;\n",
              "    }\n",
              "</style>\n",
              "<table border=\"1\" class=\"dataframe\">\n",
              "  <thead>\n",
              "    <tr style=\"text-align: right;\">\n",
              "      <th></th>\n",
              "      <th>min</th>\n",
              "      <th>max</th>\n",
              "      <th>mean</th>\n",
              "    </tr>\n",
              "    <tr>\n",
              "      <th>driver_gender</th>\n",
              "      <th></th>\n",
              "      <th></th>\n",
              "      <th></th>\n",
              "    </tr>\n",
              "  </thead>\n",
              "  <tbody>\n",
              "    <tr>\n",
              "      <th>F</th>\n",
              "      <td>15.0</td>\n",
              "      <td>84.0</td>\n",
              "      <td>32.416528</td>\n",
              "    </tr>\n",
              "    <tr>\n",
              "      <th>M</th>\n",
              "      <td>15.0</td>\n",
              "      <td>88.0</td>\n",
              "      <td>34.777138</td>\n",
              "    </tr>\n",
              "  </tbody>\n",
              "</table>\n",
              "</div>\n",
              "      <button class=\"colab-df-convert\" onclick=\"convertToInteractive('df-05a988fb-7384-4086-a18b-2ca5ba3b68cc')\"\n",
              "              title=\"Convert this dataframe to an interactive table.\"\n",
              "              style=\"display:none;\">\n",
              "        \n",
              "  <svg xmlns=\"http://www.w3.org/2000/svg\" height=\"24px\"viewBox=\"0 0 24 24\"\n",
              "       width=\"24px\">\n",
              "    <path d=\"M0 0h24v24H0V0z\" fill=\"none\"/>\n",
              "    <path d=\"M18.56 5.44l.94 2.06.94-2.06 2.06-.94-2.06-.94-.94-2.06-.94 2.06-2.06.94zm-11 1L8.5 8.5l.94-2.06 2.06-.94-2.06-.94L8.5 2.5l-.94 2.06-2.06.94zm10 10l.94 2.06.94-2.06 2.06-.94-2.06-.94-.94-2.06-.94 2.06-2.06.94z\"/><path d=\"M17.41 7.96l-1.37-1.37c-.4-.4-.92-.59-1.43-.59-.52 0-1.04.2-1.43.59L10.3 9.45l-7.72 7.72c-.78.78-.78 2.05 0 2.83L4 21.41c.39.39.9.59 1.41.59.51 0 1.02-.2 1.41-.59l7.78-7.78 2.81-2.81c.8-.78.8-2.07 0-2.86zM5.41 20L4 18.59l7.72-7.72 1.47 1.35L5.41 20z\"/>\n",
              "  </svg>\n",
              "      </button>\n",
              "      \n",
              "  <style>\n",
              "    .colab-df-container {\n",
              "      display:flex;\n",
              "      flex-wrap:wrap;\n",
              "      gap: 12px;\n",
              "    }\n",
              "\n",
              "    .colab-df-convert {\n",
              "      background-color: #E8F0FE;\n",
              "      border: none;\n",
              "      border-radius: 50%;\n",
              "      cursor: pointer;\n",
              "      display: none;\n",
              "      fill: #1967D2;\n",
              "      height: 32px;\n",
              "      padding: 0 0 0 0;\n",
              "      width: 32px;\n",
              "    }\n",
              "\n",
              "    .colab-df-convert:hover {\n",
              "      background-color: #E2EBFA;\n",
              "      box-shadow: 0px 1px 2px rgba(60, 64, 67, 0.3), 0px 1px 3px 1px rgba(60, 64, 67, 0.15);\n",
              "      fill: #174EA6;\n",
              "    }\n",
              "\n",
              "    [theme=dark] .colab-df-convert {\n",
              "      background-color: #3B4455;\n",
              "      fill: #D2E3FC;\n",
              "    }\n",
              "\n",
              "    [theme=dark] .colab-df-convert:hover {\n",
              "      background-color: #434B5C;\n",
              "      box-shadow: 0px 1px 3px 1px rgba(0, 0, 0, 0.15);\n",
              "      filter: drop-shadow(0px 1px 2px rgba(0, 0, 0, 0.3));\n",
              "      fill: #FFFFFF;\n",
              "    }\n",
              "  </style>\n",
              "\n",
              "      <script>\n",
              "        const buttonEl =\n",
              "          document.querySelector('#df-05a988fb-7384-4086-a18b-2ca5ba3b68cc button.colab-df-convert');\n",
              "        buttonEl.style.display =\n",
              "          google.colab.kernel.accessAllowed ? 'block' : 'none';\n",
              "\n",
              "        async function convertToInteractive(key) {\n",
              "          const element = document.querySelector('#df-05a988fb-7384-4086-a18b-2ca5ba3b68cc');\n",
              "          const dataTable =\n",
              "            await google.colab.kernel.invokeFunction('convertToInteractive',\n",
              "                                                     [key], {});\n",
              "          if (!dataTable) return;\n",
              "\n",
              "          const docLinkHtml = 'Like what you see? Visit the ' +\n",
              "            '<a target=\"_blank\" href=https://colab.research.google.com/notebooks/data_table.ipynb>data table notebook</a>'\n",
              "            + ' to learn more about interactive tables.';\n",
              "          element.innerHTML = '';\n",
              "          dataTable['output_type'] = 'display_data';\n",
              "          await google.colab.output.renderOutput(dataTable, element);\n",
              "          const docLink = document.createElement('div');\n",
              "          docLink.innerHTML = docLinkHtml;\n",
              "          element.appendChild(docLink);\n",
              "        }\n",
              "      </script>\n",
              "    </div>\n",
              "  </div>\n",
              "  "
            ]
          },
          "metadata": {},
          "execution_count": 27
        }
      ]
    },
    {
      "cell_type": "code",
      "source": [
        "# what type of action is taken by police for each date\n",
        "data.groupby('stop_date').stop_outcome.value_counts()"
      ],
      "metadata": {
        "id": "ucFkQwmrNxEs",
        "colab": {
          "base_uri": "https://localhost:8080/"
        },
        "outputId": "6d5a3539-365e-4f28-cc16-a0780e4090ec"
      },
      "execution_count": null,
      "outputs": [
        {
          "output_type": "execute_result",
          "data": {
            "text/plain": [
              "stop_date   stop_outcome \n",
              "2005-01-02  Citation          1\n",
              "2005-01-18  Citation          1\n",
              "2005-01-23  Citation          1\n",
              "2005-02-20  Arrest Driver     1\n",
              "2005-03-14  Citation          1\n",
              "                             ..\n",
              "2012-12-05  No Action         1\n",
              "2012-12-06  Citation         26\n",
              "            Warning           3\n",
              "            N/D               1\n",
              "2012-12-07  Citation          1\n",
              "Name: stop_outcome, Length: 5965, dtype: int64"
            ]
          },
          "metadata": {},
          "execution_count": 28
        }
      ]
    },
    {
      "cell_type": "code",
      "source": [
        "# Warnings given by police as stop_outcome\n",
        "warning_data = data[data['stop_outcome']=='Warning']\n",
        "warning_data"
      ],
      "metadata": {
        "colab": {
          "base_uri": "https://localhost:8080/",
          "height": 835
        },
        "id": "bggrf3y-jhDg",
        "outputId": "25a83e05-c042-4b74-cdd0-7eb364d80c08"
      },
      "execution_count": null,
      "outputs": [
        {
          "output_type": "execute_result",
          "data": {
            "text/plain": [
              "       stop_date           stop_time driver_gender  driver_age_raw  \\\n",
              "99    2005-10-03 2022-10-28 08:37:00             M          1965.0   \n",
              "108   2005-10-03 2022-10-28 17:00:00             M          1961.0   \n",
              "168   2005-10-06 2022-10-28 06:30:00             M          1970.0   \n",
              "260   2005-10-09 2022-10-28 16:00:00             F          1978.0   \n",
              "281   2005-10-10 2022-10-28 12:05:00             F             0.0   \n",
              "...          ...                 ...           ...             ...   \n",
              "65490 2012-12-05 2022-10-28 10:46:00             M          1991.0   \n",
              "65499 2012-12-05 2022-10-28 23:13:00             M          1985.0   \n",
              "65514 2012-12-06 2022-10-28 10:37:00             M          1988.0   \n",
              "65520 2012-12-06 2022-10-28 12:43:00             M          1953.0   \n",
              "65531 2012-12-06 2022-10-28 22:22:00             M          1954.0   \n",
              "\n",
              "       driver_age driver_race                   violation_raw  \\\n",
              "99           40.0       White  Equipment/Inspection Violation   \n",
              "108          44.0       White  Equipment/Inspection Violation   \n",
              "168          35.0       White                        Speeding   \n",
              "260          27.0       Black          Registration Violation   \n",
              "281           NaN       White         Other Traffic Violation   \n",
              "...           ...         ...                             ...   \n",
              "65490        21.0       White  Equipment/Inspection Violation   \n",
              "65499        27.0       Black  Equipment/Inspection Violation   \n",
              "65514        24.0    Hispanic  Equipment/Inspection Violation   \n",
              "65520        59.0       White  Equipment/Inspection Violation   \n",
              "65531        58.0       White                        Speeding   \n",
              "\n",
              "                 violation  search_conducted     search_type stop_outcome  \\\n",
              "99               Equipment             False             NaN      Warning   \n",
              "108              Equipment             False             NaN      Warning   \n",
              "168               Speeding             False             NaN      Warning   \n",
              "260    Registration/plates             False             NaN      Warning   \n",
              "281       Moving violation             False             NaN      Warning   \n",
              "...                    ...               ...             ...          ...   \n",
              "65490            Equipment             False             NaN      Warning   \n",
              "65499            Equipment              True  Probable Cause      Warning   \n",
              "65514            Equipment             False             NaN      Warning   \n",
              "65520            Equipment             False             NaN      Warning   \n",
              "65531             Speeding             False             NaN      Warning   \n",
              "\n",
              "      is_arrested stop_duration  drugs_related_stop  \n",
              "99          False      0-15 Min               False  \n",
              "108         False       30+ Min               False  \n",
              "168         False      0-15 Min               False  \n",
              "260         False      0-15 Min               False  \n",
              "281         False      0-15 Min               False  \n",
              "...           ...           ...                 ...  \n",
              "65490       False      0-15 Min               False  \n",
              "65499       False      0-15 Min                True  \n",
              "65514       False      0-15 Min               False  \n",
              "65520       False      0-15 Min               False  \n",
              "65531       False      0-15 Min               False  \n",
              "\n",
              "[1889 rows x 14 columns]"
            ],
            "text/html": [
              "\n",
              "  <div id=\"df-74b9f0e1-75b9-4339-8589-a34fed9b2859\">\n",
              "    <div class=\"colab-df-container\">\n",
              "      <div>\n",
              "<style scoped>\n",
              "    .dataframe tbody tr th:only-of-type {\n",
              "        vertical-align: middle;\n",
              "    }\n",
              "\n",
              "    .dataframe tbody tr th {\n",
              "        vertical-align: top;\n",
              "    }\n",
              "\n",
              "    .dataframe thead th {\n",
              "        text-align: right;\n",
              "    }\n",
              "</style>\n",
              "<table border=\"1\" class=\"dataframe\">\n",
              "  <thead>\n",
              "    <tr style=\"text-align: right;\">\n",
              "      <th></th>\n",
              "      <th>stop_date</th>\n",
              "      <th>stop_time</th>\n",
              "      <th>driver_gender</th>\n",
              "      <th>driver_age_raw</th>\n",
              "      <th>driver_age</th>\n",
              "      <th>driver_race</th>\n",
              "      <th>violation_raw</th>\n",
              "      <th>violation</th>\n",
              "      <th>search_conducted</th>\n",
              "      <th>search_type</th>\n",
              "      <th>stop_outcome</th>\n",
              "      <th>is_arrested</th>\n",
              "      <th>stop_duration</th>\n",
              "      <th>drugs_related_stop</th>\n",
              "    </tr>\n",
              "  </thead>\n",
              "  <tbody>\n",
              "    <tr>\n",
              "      <th>99</th>\n",
              "      <td>2005-10-03</td>\n",
              "      <td>2022-10-28 08:37:00</td>\n",
              "      <td>M</td>\n",
              "      <td>1965.0</td>\n",
              "      <td>40.0</td>\n",
              "      <td>White</td>\n",
              "      <td>Equipment/Inspection Violation</td>\n",
              "      <td>Equipment</td>\n",
              "      <td>False</td>\n",
              "      <td>NaN</td>\n",
              "      <td>Warning</td>\n",
              "      <td>False</td>\n",
              "      <td>0-15 Min</td>\n",
              "      <td>False</td>\n",
              "    </tr>\n",
              "    <tr>\n",
              "      <th>108</th>\n",
              "      <td>2005-10-03</td>\n",
              "      <td>2022-10-28 17:00:00</td>\n",
              "      <td>M</td>\n",
              "      <td>1961.0</td>\n",
              "      <td>44.0</td>\n",
              "      <td>White</td>\n",
              "      <td>Equipment/Inspection Violation</td>\n",
              "      <td>Equipment</td>\n",
              "      <td>False</td>\n",
              "      <td>NaN</td>\n",
              "      <td>Warning</td>\n",
              "      <td>False</td>\n",
              "      <td>30+ Min</td>\n",
              "      <td>False</td>\n",
              "    </tr>\n",
              "    <tr>\n",
              "      <th>168</th>\n",
              "      <td>2005-10-06</td>\n",
              "      <td>2022-10-28 06:30:00</td>\n",
              "      <td>M</td>\n",
              "      <td>1970.0</td>\n",
              "      <td>35.0</td>\n",
              "      <td>White</td>\n",
              "      <td>Speeding</td>\n",
              "      <td>Speeding</td>\n",
              "      <td>False</td>\n",
              "      <td>NaN</td>\n",
              "      <td>Warning</td>\n",
              "      <td>False</td>\n",
              "      <td>0-15 Min</td>\n",
              "      <td>False</td>\n",
              "    </tr>\n",
              "    <tr>\n",
              "      <th>260</th>\n",
              "      <td>2005-10-09</td>\n",
              "      <td>2022-10-28 16:00:00</td>\n",
              "      <td>F</td>\n",
              "      <td>1978.0</td>\n",
              "      <td>27.0</td>\n",
              "      <td>Black</td>\n",
              "      <td>Registration Violation</td>\n",
              "      <td>Registration/plates</td>\n",
              "      <td>False</td>\n",
              "      <td>NaN</td>\n",
              "      <td>Warning</td>\n",
              "      <td>False</td>\n",
              "      <td>0-15 Min</td>\n",
              "      <td>False</td>\n",
              "    </tr>\n",
              "    <tr>\n",
              "      <th>281</th>\n",
              "      <td>2005-10-10</td>\n",
              "      <td>2022-10-28 12:05:00</td>\n",
              "      <td>F</td>\n",
              "      <td>0.0</td>\n",
              "      <td>NaN</td>\n",
              "      <td>White</td>\n",
              "      <td>Other Traffic Violation</td>\n",
              "      <td>Moving violation</td>\n",
              "      <td>False</td>\n",
              "      <td>NaN</td>\n",
              "      <td>Warning</td>\n",
              "      <td>False</td>\n",
              "      <td>0-15 Min</td>\n",
              "      <td>False</td>\n",
              "    </tr>\n",
              "    <tr>\n",
              "      <th>...</th>\n",
              "      <td>...</td>\n",
              "      <td>...</td>\n",
              "      <td>...</td>\n",
              "      <td>...</td>\n",
              "      <td>...</td>\n",
              "      <td>...</td>\n",
              "      <td>...</td>\n",
              "      <td>...</td>\n",
              "      <td>...</td>\n",
              "      <td>...</td>\n",
              "      <td>...</td>\n",
              "      <td>...</td>\n",
              "      <td>...</td>\n",
              "      <td>...</td>\n",
              "    </tr>\n",
              "    <tr>\n",
              "      <th>65490</th>\n",
              "      <td>2012-12-05</td>\n",
              "      <td>2022-10-28 10:46:00</td>\n",
              "      <td>M</td>\n",
              "      <td>1991.0</td>\n",
              "      <td>21.0</td>\n",
              "      <td>White</td>\n",
              "      <td>Equipment/Inspection Violation</td>\n",
              "      <td>Equipment</td>\n",
              "      <td>False</td>\n",
              "      <td>NaN</td>\n",
              "      <td>Warning</td>\n",
              "      <td>False</td>\n",
              "      <td>0-15 Min</td>\n",
              "      <td>False</td>\n",
              "    </tr>\n",
              "    <tr>\n",
              "      <th>65499</th>\n",
              "      <td>2012-12-05</td>\n",
              "      <td>2022-10-28 23:13:00</td>\n",
              "      <td>M</td>\n",
              "      <td>1985.0</td>\n",
              "      <td>27.0</td>\n",
              "      <td>Black</td>\n",
              "      <td>Equipment/Inspection Violation</td>\n",
              "      <td>Equipment</td>\n",
              "      <td>True</td>\n",
              "      <td>Probable Cause</td>\n",
              "      <td>Warning</td>\n",
              "      <td>False</td>\n",
              "      <td>0-15 Min</td>\n",
              "      <td>True</td>\n",
              "    </tr>\n",
              "    <tr>\n",
              "      <th>65514</th>\n",
              "      <td>2012-12-06</td>\n",
              "      <td>2022-10-28 10:37:00</td>\n",
              "      <td>M</td>\n",
              "      <td>1988.0</td>\n",
              "      <td>24.0</td>\n",
              "      <td>Hispanic</td>\n",
              "      <td>Equipment/Inspection Violation</td>\n",
              "      <td>Equipment</td>\n",
              "      <td>False</td>\n",
              "      <td>NaN</td>\n",
              "      <td>Warning</td>\n",
              "      <td>False</td>\n",
              "      <td>0-15 Min</td>\n",
              "      <td>False</td>\n",
              "    </tr>\n",
              "    <tr>\n",
              "      <th>65520</th>\n",
              "      <td>2012-12-06</td>\n",
              "      <td>2022-10-28 12:43:00</td>\n",
              "      <td>M</td>\n",
              "      <td>1953.0</td>\n",
              "      <td>59.0</td>\n",
              "      <td>White</td>\n",
              "      <td>Equipment/Inspection Violation</td>\n",
              "      <td>Equipment</td>\n",
              "      <td>False</td>\n",
              "      <td>NaN</td>\n",
              "      <td>Warning</td>\n",
              "      <td>False</td>\n",
              "      <td>0-15 Min</td>\n",
              "      <td>False</td>\n",
              "    </tr>\n",
              "    <tr>\n",
              "      <th>65531</th>\n",
              "      <td>2012-12-06</td>\n",
              "      <td>2022-10-28 22:22:00</td>\n",
              "      <td>M</td>\n",
              "      <td>1954.0</td>\n",
              "      <td>58.0</td>\n",
              "      <td>White</td>\n",
              "      <td>Speeding</td>\n",
              "      <td>Speeding</td>\n",
              "      <td>False</td>\n",
              "      <td>NaN</td>\n",
              "      <td>Warning</td>\n",
              "      <td>False</td>\n",
              "      <td>0-15 Min</td>\n",
              "      <td>False</td>\n",
              "    </tr>\n",
              "  </tbody>\n",
              "</table>\n",
              "<p>1889 rows × 14 columns</p>\n",
              "</div>\n",
              "      <button class=\"colab-df-convert\" onclick=\"convertToInteractive('df-74b9f0e1-75b9-4339-8589-a34fed9b2859')\"\n",
              "              title=\"Convert this dataframe to an interactive table.\"\n",
              "              style=\"display:none;\">\n",
              "        \n",
              "  <svg xmlns=\"http://www.w3.org/2000/svg\" height=\"24px\"viewBox=\"0 0 24 24\"\n",
              "       width=\"24px\">\n",
              "    <path d=\"M0 0h24v24H0V0z\" fill=\"none\"/>\n",
              "    <path d=\"M18.56 5.44l.94 2.06.94-2.06 2.06-.94-2.06-.94-.94-2.06-.94 2.06-2.06.94zm-11 1L8.5 8.5l.94-2.06 2.06-.94-2.06-.94L8.5 2.5l-.94 2.06-2.06.94zm10 10l.94 2.06.94-2.06 2.06-.94-2.06-.94-.94-2.06-.94 2.06-2.06.94z\"/><path d=\"M17.41 7.96l-1.37-1.37c-.4-.4-.92-.59-1.43-.59-.52 0-1.04.2-1.43.59L10.3 9.45l-7.72 7.72c-.78.78-.78 2.05 0 2.83L4 21.41c.39.39.9.59 1.41.59.51 0 1.02-.2 1.41-.59l7.78-7.78 2.81-2.81c.8-.78.8-2.07 0-2.86zM5.41 20L4 18.59l7.72-7.72 1.47 1.35L5.41 20z\"/>\n",
              "  </svg>\n",
              "      </button>\n",
              "      \n",
              "  <style>\n",
              "    .colab-df-container {\n",
              "      display:flex;\n",
              "      flex-wrap:wrap;\n",
              "      gap: 12px;\n",
              "    }\n",
              "\n",
              "    .colab-df-convert {\n",
              "      background-color: #E8F0FE;\n",
              "      border: none;\n",
              "      border-radius: 50%;\n",
              "      cursor: pointer;\n",
              "      display: none;\n",
              "      fill: #1967D2;\n",
              "      height: 32px;\n",
              "      padding: 0 0 0 0;\n",
              "      width: 32px;\n",
              "    }\n",
              "\n",
              "    .colab-df-convert:hover {\n",
              "      background-color: #E2EBFA;\n",
              "      box-shadow: 0px 1px 2px rgba(60, 64, 67, 0.3), 0px 1px 3px 1px rgba(60, 64, 67, 0.15);\n",
              "      fill: #174EA6;\n",
              "    }\n",
              "\n",
              "    [theme=dark] .colab-df-convert {\n",
              "      background-color: #3B4455;\n",
              "      fill: #D2E3FC;\n",
              "    }\n",
              "\n",
              "    [theme=dark] .colab-df-convert:hover {\n",
              "      background-color: #434B5C;\n",
              "      box-shadow: 0px 1px 3px 1px rgba(0, 0, 0, 0.15);\n",
              "      filter: drop-shadow(0px 1px 2px rgba(0, 0, 0, 0.3));\n",
              "      fill: #FFFFFF;\n",
              "    }\n",
              "  </style>\n",
              "\n",
              "      <script>\n",
              "        const buttonEl =\n",
              "          document.querySelector('#df-74b9f0e1-75b9-4339-8589-a34fed9b2859 button.colab-df-convert');\n",
              "        buttonEl.style.display =\n",
              "          google.colab.kernel.accessAllowed ? 'block' : 'none';\n",
              "\n",
              "        async function convertToInteractive(key) {\n",
              "          const element = document.querySelector('#df-74b9f0e1-75b9-4339-8589-a34fed9b2859');\n",
              "          const dataTable =\n",
              "            await google.colab.kernel.invokeFunction('convertToInteractive',\n",
              "                                                     [key], {});\n",
              "          if (!dataTable) return;\n",
              "\n",
              "          const docLinkHtml = 'Like what you see? Visit the ' +\n",
              "            '<a target=\"_blank\" href=https://colab.research.google.com/notebooks/data_table.ipynb>data table notebook</a>'\n",
              "            + ' to learn more about interactive tables.';\n",
              "          element.innerHTML = '';\n",
              "          dataTable['output_type'] = 'display_data';\n",
              "          await google.colab.output.renderOutput(dataTable, element);\n",
              "          const docLink = document.createElement('div');\n",
              "          docLink.innerHTML = docLinkHtml;\n",
              "          element.appendChild(docLink);\n",
              "        }\n",
              "      </script>\n",
              "    </div>\n",
              "  </div>\n",
              "  "
            ]
          },
          "metadata": {},
          "execution_count": 29
        }
      ]
    },
    {
      "cell_type": "code",
      "source": [
        "# warning cases for male and female\n",
        "warning_data.groupby('driver_gender').stop_outcome.value_counts()"
      ],
      "metadata": {
        "colab": {
          "base_uri": "https://localhost:8080/"
        },
        "id": "vadby0IMkKea",
        "outputId": "8b99d69c-50f9-4465-eeee-d7135dcb8b5c"
      },
      "execution_count": null,
      "outputs": [
        {
          "output_type": "execute_result",
          "data": {
            "text/plain": [
              "driver_gender  stop_outcome\n",
              "F              Warning          517\n",
              "M              Warning         1372\n",
              "Name: stop_outcome, dtype: int64"
            ]
          },
          "metadata": {},
          "execution_count": 30
        }
      ]
    },
    {
      "cell_type": "code",
      "source": [
        "warning_data.groupby(['driver_gender'])['stop_outcome'].value_counts().plot.bar()\n",
        "plt.xticks(rotation=30)"
      ],
      "metadata": {
        "colab": {
          "base_uri": "https://localhost:8080/",
          "height": 328
        },
        "id": "lWZTAJ8XYQ81",
        "outputId": "ded3db03-4959-4f13-cec8-cdc7c6abc12b"
      },
      "execution_count": null,
      "outputs": [
        {
          "output_type": "execute_result",
          "data": {
            "text/plain": [
              "(array([0, 1]), <a list of 2 Text major ticklabel objects>)"
            ]
          },
          "metadata": {},
          "execution_count": 31
        },
        {
          "output_type": "display_data",
          "data": {
            "text/plain": [
              "<Figure size 432x288 with 1 Axes>"
            ],
            "image/png": "[encoded data removed]"
          },
          "metadata": {
            "needs_background": "light"
          }
        }
      ]
    },
    {
      "cell_type": "code",
      "source": [
        "# Warning cases by driver race\n",
        "warning_data.groupby('driver_race').stop_outcome.value_counts()\n",
        "warning_data.groupby(['driver_race'])['stop_outcome'].value_counts().plot.bar()\n",
        "plt.xticks(rotation=30)"
      ],
      "metadata": {
        "colab": {
          "base_uri": "https://localhost:8080/",
          "height": 345
        },
        "id": "daqTQaGBZTcy",
        "outputId": "d704b9a6-6a6f-425e-8a8c-f0eac02f8bae"
      },
      "execution_count": null,
      "outputs": [
        {
          "output_type": "execute_result",
          "data": {
            "text/plain": [
              "(array([0, 1, 2, 3, 4]), <a list of 5 Text major ticklabel objects>)"
            ]
          },
          "metadata": {},
          "execution_count": 32
        },
        {
          "output_type": "display_data",
          "data": {
            "text/plain": [
              "<Figure size 432x288 with 1 Axes>"
            ],
            "image/png": "[encoded data removed]"
          },
          "metadata": {
            "needs_background": "light"
          }
        }
      ]
    },
    {
      "cell_type": "code",
      "source": [
        "# Number of male and female for each violation\n",
        "pd.crosstab(data['driver_gender'],data['violation'],margins = True)"
      ],
      "metadata": {
        "colab": {
          "base_uri": "https://localhost:8080/",
          "height": 175
        },
        "id": "MKGtdYqxk6pS",
        "outputId": "fc7603c9-d909-4cd5-de96-62fe8326051b"
      },
      "execution_count": null,
      "outputs": [
        {
          "output_type": "execute_result",
          "data": {
            "text/plain": [
              "violation      Equipment  Moving violation  Other  Registration/plates  \\\n",
              "driver_gender                                                            \n",
              "F                   1396              2142    454                  632   \n",
              "M                   5120              9784   3129                 1611   \n",
              "All                 6516             11926   3583                 2243   \n",
              "\n",
              "violation      Seat belt  Speeding    All  \n",
              "driver_gender                              \n",
              "F                      0     11686  16310  \n",
              "M                      3     25517  45164  \n",
              "All                    3     37203  61474  "
            ],
            "text/html": [
              "\n",
              "  <div id=\"df-9d62a72a-7908-4427-a5a9-76a302d72d10\">\n",
              "    <div class=\"colab-df-container\">\n",
              "      <div>\n",
              "<style scoped>\n",
              "    .dataframe tbody tr th:only-of-type {\n",
              "        vertical-align: middle;\n",
              "    }\n",
              "\n",
              "    .dataframe tbody tr th {\n",
              "        vertical-align: top;\n",
              "    }\n",
              "\n",
              "    .dataframe thead th {\n",
              "        text-align: right;\n",
              "    }\n",
              "</style>\n",
              "<table border=\"1\" class=\"dataframe\">\n",
              "  <thead>\n",
              "    <tr style=\"text-align: right;\">\n",
              "      <th>violation</th>\n",
              "      <th>Equipment</th>\n",
              "      <th>Moving violation</th>\n",
              "      <th>Other</th>\n",
              "      <th>Registration/plates</th>\n",
              "      <th>Seat belt</th>\n",
              "      <th>Speeding</th>\n",
              "      <th>All</th>\n",
              "    </tr>\n",
              "    <tr>\n",
              "      <th>driver_gender</th>\n",
              "      <th></th>\n",
              "      <th></th>\n",
              "      <th></th>\n",
              "      <th></th>\n",
              "      <th></th>\n",
              "      <th></th>\n",
              "      <th></th>\n",
              "    </tr>\n",
              "  </thead>\n",
              "  <tbody>\n",
              "    <tr>\n",
              "      <th>F</th>\n",
              "      <td>1396</td>\n",
              "      <td>2142</td>\n",
              "      <td>454</td>\n",
              "      <td>632</td>\n",
              "      <td>0</td>\n",
              "      <td>11686</td>\n",
              "      <td>16310</td>\n",
              "    </tr>\n",
              "    <tr>\n",
              "      <th>M</th>\n",
              "      <td>5120</td>\n",
              "      <td>9784</td>\n",
              "      <td>3129</td>\n",
              "      <td>1611</td>\n",
              "      <td>3</td>\n",
              "      <td>25517</td>\n",
              "      <td>45164</td>\n",
              "    </tr>\n",
              "    <tr>\n",
              "      <th>All</th>\n",
              "      <td>6516</td>\n",
              "      <td>11926</td>\n",
              "      <td>3583</td>\n",
              "      <td>2243</td>\n",
              "      <td>3</td>\n",
              "      <td>37203</td>\n",
              "      <td>61474</td>\n",
              "    </tr>\n",
              "  </tbody>\n",
              "</table>\n",
              "</div>\n",
              "      <button class=\"colab-df-convert\" onclick=\"convertToInteractive('df-9d62a72a-7908-4427-a5a9-76a302d72d10')\"\n",
              "              title=\"Convert this dataframe to an interactive table.\"\n",
              "              style=\"display:none;\">\n",
              "        \n",
              "  <svg xmlns=\"http://www.w3.org/2000/svg\" height=\"24px\"viewBox=\"0 0 24 24\"\n",
              "       width=\"24px\">\n",
              "    <path d=\"M0 0h24v24H0V0z\" fill=\"none\"/>\n",
              "    <path d=\"M18.56 5.44l.94 2.06.94-2.06 2.06-.94-2.06-.94-.94-2.06-.94 2.06-2.06.94zm-11 1L8.5 8.5l.94-2.06 2.06-.94-2.06-.94L8.5 2.5l-.94 2.06-2.06.94zm10 10l.94 2.06.94-2.06 2.06-.94-2.06-.94-.94-2.06-.94 2.06-2.06.94z\"/><path d=\"M17.41 7.96l-1.37-1.37c-.4-.4-.92-.59-1.43-.59-.52 0-1.04.2-1.43.59L10.3 9.45l-7.72 7.72c-.78.78-.78 2.05 0 2.83L4 21.41c.39.39.9.59 1.41.59.51 0 1.02-.2 1.41-.59l7.78-7.78 2.81-2.81c.8-.78.8-2.07 0-2.86zM5.41 20L4 18.59l7.72-7.72 1.47 1.35L5.41 20z\"/>\n",
              "  </svg>\n",
              "      </button>\n",
              "      \n",
              "  <style>\n",
              "    .colab-df-container {\n",
              "      display:flex;\n",
              "      flex-wrap:wrap;\n",
              "      gap: 12px;\n",
              "    }\n",
              "\n",
              "    .colab-df-convert {\n",
              "      background-color: #E8F0FE;\n",
              "      border: none;\n",
              "      border-radius: 50%;\n",
              "      cursor: pointer;\n",
              "      display: none;\n",
              "      fill: #1967D2;\n",
              "      height: 32px;\n",
              "      padding: 0 0 0 0;\n",
              "      width: 32px;\n",
              "    }\n",
              "\n",
              "    .colab-df-convert:hover {\n",
              "      background-color: #E2EBFA;\n",
              "      box-shadow: 0px 1px 2px rgba(60, 64, 67, 0.3), 0px 1px 3px 1px rgba(60, 64, 67, 0.15);\n",
              "      fill: #174EA6;\n",
              "    }\n",
              "\n",
              "    [theme=dark] .colab-df-convert {\n",
              "      background-color: #3B4455;\n",
              "      fill: #D2E3FC;\n",
              "    }\n",
              "\n",
              "    [theme=dark] .colab-df-convert:hover {\n",
              "      background-color: #434B5C;\n",
              "      box-shadow: 0px 1px 3px 1px rgba(0, 0, 0, 0.15);\n",
              "      filter: drop-shadow(0px 1px 2px rgba(0, 0, 0, 0.3));\n",
              "      fill: #FFFFFF;\n",
              "    }\n",
              "  </style>\n",
              "\n",
              "      <script>\n",
              "        const buttonEl =\n",
              "          document.querySelector('#df-9d62a72a-7908-4427-a5a9-76a302d72d10 button.colab-df-convert');\n",
              "        buttonEl.style.display =\n",
              "          google.colab.kernel.accessAllowed ? 'block' : 'none';\n",
              "\n",
              "        async function convertToInteractive(key) {\n",
              "          const element = document.querySelector('#df-9d62a72a-7908-4427-a5a9-76a302d72d10');\n",
              "          const dataTable =\n",
              "            await google.colab.kernel.invokeFunction('convertToInteractive',\n",
              "                                                     [key], {});\n",
              "          if (!dataTable) return;\n",
              "\n",
              "          const docLinkHtml = 'Like what you see? Visit the ' +\n",
              "            '<a target=\"_blank\" href=https://colab.research.google.com/notebooks/data_table.ipynb>data table notebook</a>'\n",
              "            + ' to learn more about interactive tables.';\n",
              "          element.innerHTML = '';\n",
              "          dataTable['output_type'] = 'display_data';\n",
              "          await google.colab.output.renderOutput(dataTable, element);\n",
              "          const docLink = document.createElement('div');\n",
              "          docLink.innerHTML = docLinkHtml;\n",
              "          element.appendChild(docLink);\n",
              "        }\n",
              "      </script>\n",
              "    </div>\n",
              "  </div>\n",
              "  "
            ]
          },
          "metadata": {},
          "execution_count": 33
        }
      ]
    },
    {
      "cell_type": "code",
      "source": [
        "sns.boxplot(data=data, x=data.driver_age, y=data.violation)"
      ],
      "metadata": {
        "colab": {
          "base_uri": "https://localhost:8080/",
          "height": 297
        },
        "id": "ZX4NIGa_mZPQ",
        "outputId": "59d84595-4150-49a9-d251-a7db43db0a3c"
      },
      "execution_count": null,
      "outputs": [
        {
          "output_type": "execute_result",
          "data": {
            "text/plain": [
              "<matplotlib.axes._subplots.AxesSubplot at 0x7f0909379f10>"
            ]
          },
          "metadata": {},
          "execution_count": 34
        },
        {
          "output_type": "display_data",
          "data": {
            "text/plain": [
              "<Figure size 432x288 with 1 Axes>"
            ],
            "image/png": "[encoded data removed]"
          },
          "metadata": {
            "needs_background": "light"
          }
        }
      ]
    },
    {
      "cell_type": "code",
      "source": [
        "sns.boxplot(data=data, x=data.driver_age, y=data.stop_outcome)"
      ],
      "metadata": {
        "colab": {
          "base_uri": "https://localhost:8080/",
          "height": 297
        },
        "id": "eiLd0itHFipt",
        "outputId": "f2ac069b-4a95-4174-b407-5e50cfc41d98"
      },
      "execution_count": null,
      "outputs": [
        {
          "output_type": "execute_result",
          "data": {
            "text/plain": [
              "<matplotlib.axes._subplots.AxesSubplot at 0x7f0909171050>"
            ]
          },
          "metadata": {},
          "execution_count": 35
        },
        {
          "output_type": "display_data",
          "data": {
            "text/plain": [
              "<Figure size 432x288 with 1 Axes>"
            ],
            "image/png": "[encoded data removed]"
          },
          "metadata": {
            "needs_background": "light"
          }
        }
      ]
    },
    {
      "cell_type": "code",
      "source": [
        "data.hist('driver_age', by='violation', sharex=True, sharey=True)"
      ],
      "metadata": {
        "colab": {
          "base_uri": "https://localhost:8080/",
          "height": 404
        },
        "id": "2q0Cw3CQDTQN",
        "outputId": "c44534f3-9abe-41e1-a630-78e983848900"
      },
      "execution_count": null,
      "outputs": [
        {
          "output_type": "execute_result",
          "data": {
            "text/plain": [
              "array([[<matplotlib.axes._subplots.AxesSubplot object at 0x7f090910c110>,\n",
              "        <matplotlib.axes._subplots.AxesSubplot object at 0x7f09090c0490>],\n",
              "       [<matplotlib.axes._subplots.AxesSubplot object at 0x7f090910cc90>,\n",
              "        <matplotlib.axes._subplots.AxesSubplot object at 0x7f090902d6d0>],\n",
              "       [<matplotlib.axes._subplots.AxesSubplot object at 0x7f0909062850>,\n",
              "        <matplotlib.axes._subplots.AxesSubplot object at 0x7f0908fd79d0>]],\n",
              "      dtype=object)"
            ]
          },
          "metadata": {},
          "execution_count": 36
        },
        {
          "output_type": "display_data",
          "data": {
            "text/plain": [
              "<Figure size 432x288 with 6 Axes>"
            ],
            "image/png": "[encoded data removed]"
          },
          "metadata": {
            "needs_background": "light"
          }
        }
      ]
    },
    {
      "cell_type": "code",
      "source": [
        "plt.figure(figsize=(15,6))\n",
        "sns.countplot(data['stop_duration'],order = data['stop_duration'].value_counts().index, palette = 'viridis')"
      ],
      "metadata": {
        "colab": {
          "base_uri": "https://localhost:8080/",
          "height": 406
        },
        "id": "IgJhzWSsGFTe",
        "outputId": "e18b0cfd-6592-4efb-db36-74ef20a2403c"
      },
      "execution_count": null,
      "outputs": [
        {
          "output_type": "execute_result",
          "data": {
            "text/plain": [
              "<matplotlib.axes._subplots.AxesSubplot at 0x7f0909300410>"
            ]
          },
          "metadata": {},
          "execution_count": 37
        },
        {
          "output_type": "display_data",
          "data": {
            "text/plain": [
              "<Figure size 1080x432 with 1 Axes>"
            ],
            "image/png": "[encoded data removed]"
          },
          "metadata": {
            "needs_background": "light"
          }
        }
      ]
    },
    {
      "cell_type": "code",
      "source": [
        "plt.figure(figsize=(15,6))\n",
        "sns.countplot(data['driver_race'],order = data['driver_race'].value_counts().index)"
      ],
      "metadata": {
        "colab": {
          "base_uri": "https://localhost:8080/",
          "height": 406
        },
        "id": "axD3Rbi4JMjs",
        "outputId": "bd7141a5-2251-4da9-d28f-fe5131e6c252"
      },
      "execution_count": null,
      "outputs": [
        {
          "output_type": "execute_result",
          "data": {
            "text/plain": [
              "<matplotlib.axes._subplots.AxesSubplot at 0x7f0909176410>"
            ]
          },
          "metadata": {},
          "execution_count": 38
        },
        {
          "output_type": "display_data",
          "data": {
            "text/plain": [
              "<Figure size 1080x432 with 1 Axes>"
            ],
            "image/png": "[encoded data removed]"
          },
          "metadata": {
            "needs_background": "light"
          }
        }
      ]
    },
    {
      "cell_type": "code",
      "source": [
        "# which race of the people are doing more violations\n",
        "data.groupby('driver_race').violation.value_counts()"
      ],
      "metadata": {
        "colab": {
          "base_uri": "https://localhost:8080/"
        },
        "id": "PtxS1poRIkoD",
        "outputId": "31994341-6201-46f0-8fdd-1dee621e1f93"
      },
      "execution_count": null,
      "outputs": [
        {
          "output_type": "execute_result",
          "data": {
            "text/plain": [
              "driver_race  violation          \n",
              "Asian        Speeding                1173\n",
              "             Moving violation         242\n",
              "             Equipment                130\n",
              "             Other                     65\n",
              "             Registration/plates       29\n",
              "Black        Speeding                3658\n",
              "             Moving violation        2076\n",
              "             Equipment               1262\n",
              "             Other                    767\n",
              "             Registration/plates      503\n",
              "             Seat belt                  1\n",
              "Hispanic     Speeding                2062\n",
              "             Moving violation        1543\n",
              "             Equipment               1069\n",
              "             Other                    469\n",
              "             Registration/plates      467\n",
              "             Seat belt                  1\n",
              "Other        Speeding                 125\n",
              "             Moving violation          49\n",
              "             Other                     21\n",
              "             Equipment                 15\n",
              "             Registration/plates        1\n",
              "White        Speeding               30186\n",
              "             Moving violation        8016\n",
              "             Equipment               4040\n",
              "             Other                   2261\n",
              "             Registration/plates     1243\n",
              "             Seat belt                  1\n",
              "Name: violation, dtype: int64"
            ]
          },
          "metadata": {},
          "execution_count": 39
        }
      ]
    },
    {
      "cell_type": "code",
      "source": [
        "data.groupby(['driver_race'])['violation'].value_counts().plot.bar()"
      ],
      "metadata": {
        "colab": {
          "base_uri": "https://localhost:8080/",
          "height": 438
        },
        "id": "0X481pHZKUB3",
        "outputId": "ea3ab333-3eec-40dd-9c25-b291347b884e"
      },
      "execution_count": null,
      "outputs": [
        {
          "output_type": "execute_result",
          "data": {
            "text/plain": [
              "<matplotlib.axes._subplots.AxesSubplot at 0x7f0909c46550>"
            ]
          },
          "metadata": {},
          "execution_count": 40
        },
        {
          "output_type": "display_data",
          "data": {
            "text/plain": [
              "<Figure size 432x288 with 1 Axes>"
            ],
            "image/png": "[encoded data removed]"
          },
          "metadata": {
            "needs_background": "light"
          }
        }
      ]
    },
    {
      "cell_type": "code",
      "source": [
        "plt.figure(figsize=(9,5))\n",
        "sns.countplot(data = data, x='violation' , hue='driver_race',dodge=False)\n",
        "# Better plot for the violation done by different race of the people"
      ],
      "metadata": {
        "colab": {
          "base_uri": "https://localhost:8080/",
          "height": 351
        },
        "id": "4s2cJMUPKxfX",
        "outputId": "5ee864fe-3744-4d98-a351-3d75fa1af65e"
      },
      "execution_count": null,
      "outputs": [
        {
          "output_type": "execute_result",
          "data": {
            "text/plain": [
              "<matplotlib.axes._subplots.AxesSubplot at 0x7f0908ddfb50>"
            ]
          },
          "metadata": {},
          "execution_count": 41
        },
        {
          "output_type": "display_data",
          "data": {
            "text/plain": [
              "<Figure size 648x360 with 1 Axes>"
            ],
            "image/png": "[encoded data removed]"
          },
          "metadata": {
            "needs_background": "light"
          }
        }
      ]
    },
    {
      "cell_type": "code",
      "source": [
        "plt.figure(figsize=(9,5))\n",
        "sns.countplot(data = data, x='stop_outcome' , hue='driver_race',dodge=False)"
      ],
      "metadata": {
        "colab": {
          "base_uri": "https://localhost:8080/",
          "height": 351
        },
        "id": "CASN_YxWQx9w",
        "outputId": "7ffaaefe-e51b-45cf-c285-a1b9048bb796"
      },
      "execution_count": null,
      "outputs": [
        {
          "output_type": "execute_result",
          "data": {
            "text/plain": [
              "<matplotlib.axes._subplots.AxesSubplot at 0x7f0908bb2cd0>"
            ]
          },
          "metadata": {},
          "execution_count": 42
        },
        {
          "output_type": "display_data",
          "data": {
            "text/plain": [
              "<Figure size 648x360 with 1 Axes>"
            ],
            "image/png": "[encoded data removed]"
          },
          "metadata": {
            "needs_background": "light"
          }
        }
      ]
    },
    {
      "cell_type": "code",
      "source": [
        "# Analysis on White driver race people\n",
        "white_data = data[data['driver_race']=='White']\n",
        "white_data"
      ],
      "metadata": {
        "colab": {
          "base_uri": "https://localhost:8080/",
          "height": 835
        },
        "id": "OkBT90fPacg7",
        "outputId": "3752d0f9-6e38-4f0b-a8ad-d835eef50ac0"
      },
      "execution_count": null,
      "outputs": [
        {
          "output_type": "execute_result",
          "data": {
            "text/plain": [
              "       stop_date           stop_time driver_gender  driver_age_raw  \\\n",
              "0     2005-01-02 2022-10-28 01:55:00             M          1985.0   \n",
              "1     2005-01-18 2022-10-28 08:15:00             M          1965.0   \n",
              "2     2005-01-23 2022-10-28 23:15:00             M          1972.0   \n",
              "3     2005-02-20 2022-10-28 17:15:00             M          1986.0   \n",
              "4     2005-03-14 2022-10-28 10:00:00             F          1984.0   \n",
              "...          ...                 ...           ...             ...   \n",
              "65528 2012-12-06 2022-10-28 15:39:00             M          1987.0   \n",
              "65529 2012-12-06 2022-10-28 16:00:00             M          1994.0   \n",
              "65530 2012-12-06 2022-10-28 17:54:00             F          1987.0   \n",
              "65531 2012-12-06 2022-10-28 22:22:00             M          1954.0   \n",
              "65534 2012-12-07 2022-10-28 00:30:00             F          1985.0   \n",
              "\n",
              "       driver_age driver_race                   violation_raw  violation  \\\n",
              "0            20.0       White                        Speeding   Speeding   \n",
              "1            40.0       White                        Speeding   Speeding   \n",
              "2            33.0       White                        Speeding   Speeding   \n",
              "3            19.0       White                Call for Service      Other   \n",
              "4            21.0       White                        Speeding   Speeding   \n",
              "...           ...         ...                             ...        ...   \n",
              "65528        25.0       White  Equipment/Inspection Violation  Equipment   \n",
              "65529        18.0       White                        Speeding   Speeding   \n",
              "65530        25.0       White                        Speeding   Speeding   \n",
              "65531        58.0       White                        Speeding   Speeding   \n",
              "65534        27.0       White                        Speeding   Speeding   \n",
              "\n",
              "       search_conducted search_type   stop_outcome is_arrested stop_duration  \\\n",
              "0                 False         NaN       Citation       False      0-15 Min   \n",
              "1                 False         NaN       Citation       False      0-15 Min   \n",
              "2                 False         NaN       Citation       False      0-15 Min   \n",
              "3                 False         NaN  Arrest Driver        True     16-30 Min   \n",
              "4                 False         NaN       Citation       False      0-15 Min   \n",
              "...                 ...         ...            ...         ...           ...   \n",
              "65528             False         NaN       Citation       False      0-15 Min   \n",
              "65529             False         NaN       Citation       False      0-15 Min   \n",
              "65530             False         NaN       Citation       False      0-15 Min   \n",
              "65531             False         NaN        Warning       False      0-15 Min   \n",
              "65534             False         NaN       Citation       False      0-15 Min   \n",
              "\n",
              "       drugs_related_stop  \n",
              "0                   False  \n",
              "1                   False  \n",
              "2                   False  \n",
              "3                   False  \n",
              "4                   False  \n",
              "...                   ...  \n",
              "65528               False  \n",
              "65529               False  \n",
              "65530               False  \n",
              "65531               False  \n",
              "65534               False  \n",
              "\n",
              "[45747 rows x 14 columns]"
            ],
            "text/html": [
              "\n",
              "  <div id=\"df-a0e8a102-dbd5-4514-bdc7-043fb66573a4\">\n",
              "    <div class=\"colab-df-container\">\n",
              "      <div>\n",
              "<style scoped>\n",
              "    .dataframe tbody tr th:only-of-type {\n",
              "        vertical-align: middle;\n",
              "    }\n",
              "\n",
              "    .dataframe tbody tr th {\n",
              "        vertical-align: top;\n",
              "    }\n",
              "\n",
              "    .dataframe thead th {\n",
              "        text-align: right;\n",
              "    }\n",
              "</style>\n",
              "<table border=\"1\" class=\"dataframe\">\n",
              "  <thead>\n",
              "    <tr style=\"text-align: right;\">\n",
              "      <th></th>\n",
              "      <th>stop_date</th>\n",
              "      <th>stop_time</th>\n",
              "      <th>driver_gender</th>\n",
              "      <th>driver_age_raw</th>\n",
              "      <th>driver_age</th>\n",
              "      <th>driver_race</th>\n",
              "      <th>violation_raw</th>\n",
              "      <th>violation</th>\n",
              "      <th>search_conducted</th>\n",
              "      <th>search_type</th>\n",
              "      <th>stop_outcome</th>\n",
              "      <th>is_arrested</th>\n",
              "      <th>stop_duration</th>\n",
              "      <th>drugs_related_stop</th>\n",
              "    </tr>\n",
              "  </thead>\n",
              "  <tbody>\n",
              "    <tr>\n",
              "      <th>0</th>\n",
              "      <td>2005-01-02</td>\n",
              "      <td>2022-10-28 01:55:00</td>\n",
              "      <td>M</td>\n",
              "      <td>1985.0</td>\n",
              "      <td>20.0</td>\n",
              "      <td>White</td>\n",
              "      <td>Speeding</td>\n",
              "      <td>Speeding</td>\n",
              "      <td>False</td>\n",
              "      <td>NaN</td>\n",
              "      <td>Citation</td>\n",
              "      <td>False</td>\n",
              "      <td>0-15 Min</td>\n",
              "      <td>False</td>\n",
              "    </tr>\n",
              "    <tr>\n",
              "      <th>1</th>\n",
              "      <td>2005-01-18</td>\n",
              "      <td>2022-10-28 08:15:00</td>\n",
              "      <td>M</td>\n",
              "      <td>1965.0</td>\n",
              "      <td>40.0</td>\n",
              "      <td>White</td>\n",
              "      <td>Speeding</td>\n",
              "      <td>Speeding</td>\n",
              "      <td>False</td>\n",
              "      <td>NaN</td>\n",
              "      <td>Citation</td>\n",
              "      <td>False</td>\n",
              "      <td>0-15 Min</td>\n",
              "      <td>False</td>\n",
              "    </tr>\n",
              "    <tr>\n",
              "      <th>2</th>\n",
              "      <td>2005-01-23</td>\n",
              "      <td>2022-10-28 23:15:00</td>\n",
              "      <td>M</td>\n",
              "      <td>1972.0</td>\n",
              "      <td>33.0</td>\n",
              "      <td>White</td>\n",
              "      <td>Speeding</td>\n",
              "      <td>Speeding</td>\n",
              "      <td>False</td>\n",
              "      <td>NaN</td>\n",
              "      <td>Citation</td>\n",
              "      <td>False</td>\n",
              "      <td>0-15 Min</td>\n",
              "      <td>False</td>\n",
              "    </tr>\n",
              "    <tr>\n",
              "      <th>3</th>\n",
              "      <td>2005-02-20</td>\n",
              "      <td>2022-10-28 17:15:00</td>\n",
              "      <td>M</td>\n",
              "      <td>1986.0</td>\n",
              "      <td>19.0</td>\n",
              "      <td>White</td>\n",
              "      <td>Call for Service</td>\n",
              "      <td>Other</td>\n",
              "      <td>False</td>\n",
              "      <td>NaN</td>\n",
              "      <td>Arrest Driver</td>\n",
              "      <td>True</td>\n",
              "      <td>16-30 Min</td>\n",
              "      <td>False</td>\n",
              "    </tr>\n",
              "    <tr>\n",
              "      <th>4</th>\n",
              "      <td>2005-03-14</td>\n",
              "      <td>2022-10-28 10:00:00</td>\n",
              "      <td>F</td>\n",
              "      <td>1984.0</td>\n",
              "      <td>21.0</td>\n",
              "      <td>White</td>\n",
              "      <td>Speeding</td>\n",
              "      <td>Speeding</td>\n",
              "      <td>False</td>\n",
              "      <td>NaN</td>\n",
              "      <td>Citation</td>\n",
              "      <td>False</td>\n",
              "      <td>0-15 Min</td>\n",
              "      <td>False</td>\n",
              "    </tr>\n",
              "    <tr>\n",
              "      <th>...</th>\n",
              "      <td>...</td>\n",
              "      <td>...</td>\n",
              "      <td>...</td>\n",
              "      <td>...</td>\n",
              "      <td>...</td>\n",
              "      <td>...</td>\n",
              "      <td>...</td>\n",
              "      <td>...</td>\n",
              "      <td>...</td>\n",
              "      <td>...</td>\n",
              "      <td>...</td>\n",
              "      <td>...</td>\n",
              "      <td>...</td>\n",
              "      <td>...</td>\n",
              "    </tr>\n",
              "    <tr>\n",
              "      <th>65528</th>\n",
              "      <td>2012-12-06</td>\n",
              "      <td>2022-10-28 15:39:00</td>\n",
              "      <td>M</td>\n",
              "      <td>1987.0</td>\n",
              "      <td>25.0</td>\n",
              "      <td>White</td>\n",
              "      <td>Equipment/Inspection Violation</td>\n",
              "      <td>Equipment</td>\n",
              "      <td>False</td>\n",
              "      <td>NaN</td>\n",
              "      <td>Citation</td>\n",
              "      <td>False</td>\n",
              "      <td>0-15 Min</td>\n",
              "      <td>False</td>\n",
              "    </tr>\n",
              "    <tr>\n",
              "      <th>65529</th>\n",
              "      <td>2012-12-06</td>\n",
              "      <td>2022-10-28 16:00:00</td>\n",
              "      <td>M</td>\n",
              "      <td>1994.0</td>\n",
              "      <td>18.0</td>\n",
              "      <td>White</td>\n",
              "      <td>Speeding</td>\n",
              "      <td>Speeding</td>\n",
              "      <td>False</td>\n",
              "      <td>NaN</td>\n",
              "      <td>Citation</td>\n",
              "      <td>False</td>\n",
              "      <td>0-15 Min</td>\n",
              "      <td>False</td>\n",
              "    </tr>\n",
              "    <tr>\n",
              "      <th>65530</th>\n",
              "      <td>2012-12-06</td>\n",
              "      <td>2022-10-28 17:54:00</td>\n",
              "      <td>F</td>\n",
              "      <td>1987.0</td>\n",
              "      <td>25.0</td>\n",
              "      <td>White</td>\n",
              "      <td>Speeding</td>\n",
              "      <td>Speeding</td>\n",
              "      <td>False</td>\n",
              "      <td>NaN</td>\n",
              "      <td>Citation</td>\n",
              "      <td>False</td>\n",
              "      <td>0-15 Min</td>\n",
              "      <td>False</td>\n",
              "    </tr>\n",
              "    <tr>\n",
              "      <th>65531</th>\n",
              "      <td>2012-12-06</td>\n",
              "      <td>2022-10-28 22:22:00</td>\n",
              "      <td>M</td>\n",
              "      <td>1954.0</td>\n",
              "      <td>58.0</td>\n",
              "      <td>White</td>\n",
              "      <td>Speeding</td>\n",
              "      <td>Speeding</td>\n",
              "      <td>False</td>\n",
              "      <td>NaN</td>\n",
              "      <td>Warning</td>\n",
              "      <td>False</td>\n",
              "      <td>0-15 Min</td>\n",
              "      <td>False</td>\n",
              "    </tr>\n",
              "    <tr>\n",
              "      <th>65534</th>\n",
              "      <td>2012-12-07</td>\n",
              "      <td>2022-10-28 00:30:00</td>\n",
              "      <td>F</td>\n",
              "      <td>1985.0</td>\n",
              "      <td>27.0</td>\n",
              "      <td>White</td>\n",
              "      <td>Speeding</td>\n",
              "      <td>Speeding</td>\n",
              "      <td>False</td>\n",
              "      <td>NaN</td>\n",
              "      <td>Citation</td>\n",
              "      <td>False</td>\n",
              "      <td>0-15 Min</td>\n",
              "      <td>False</td>\n",
              "    </tr>\n",
              "  </tbody>\n",
              "</table>\n",
              "<p>45747 rows × 14 columns</p>\n",
              "</div>\n",
              "      <button class=\"colab-df-convert\" onclick=\"convertToInteractive('df-a0e8a102-dbd5-4514-bdc7-043fb66573a4')\"\n",
              "              title=\"Convert this dataframe to an interactive table.\"\n",
              "              style=\"display:none;\">\n",
              "        \n",
              "  <svg xmlns=\"http://www.w3.org/2000/svg\" height=\"24px\"viewBox=\"0 0 24 24\"\n",
              "       width=\"24px\">\n",
              "    <path d=\"M0 0h24v24H0V0z\" fill=\"none\"/>\n",
              "    <path d=\"M18.56 5.44l.94 2.06.94-2.06 2.06-.94-2.06-.94-.94-2.06-.94 2.06-2.06.94zm-11 1L8.5 8.5l.94-2.06 2.06-.94-2.06-.94L8.5 2.5l-.94 2.06-2.06.94zm10 10l.94 2.06.94-2.06 2.06-.94-2.06-.94-.94-2.06-.94 2.06-2.06.94z\"/><path d=\"M17.41 7.96l-1.37-1.37c-.4-.4-.92-.59-1.43-.59-.52 0-1.04.2-1.43.59L10.3 9.45l-7.72 7.72c-.78.78-.78 2.05 0 2.83L4 21.41c.39.39.9.59 1.41.59.51 0 1.02-.2 1.41-.59l7.78-7.78 2.81-2.81c.8-.78.8-2.07 0-2.86zM5.41 20L4 18.59l7.72-7.72 1.47 1.35L5.41 20z\"/>\n",
              "  </svg>\n",
              "      </button>\n",
              "      \n",
              "  <style>\n",
              "    .colab-df-container {\n",
              "      display:flex;\n",
              "      flex-wrap:wrap;\n",
              "      gap: 12px;\n",
              "    }\n",
              "\n",
              "    .colab-df-convert {\n",
              "      background-color: #E8F0FE;\n",
              "      border: none;\n",
              "      border-radius: 50%;\n",
              "      cursor: pointer;\n",
              "      display: none;\n",
              "      fill: #1967D2;\n",
              "      height: 32px;\n",
              "      padding: 0 0 0 0;\n",
              "      width: 32px;\n",
              "    }\n",
              "\n",
              "    .colab-df-convert:hover {\n",
              "      background-color: #E2EBFA;\n",
              "      box-shadow: 0px 1px 2px rgba(60, 64, 67, 0.3), 0px 1px 3px 1px rgba(60, 64, 67, 0.15);\n",
              "      fill: #174EA6;\n",
              "    }\n",
              "\n",
              "    [theme=dark] .colab-df-convert {\n",
              "      background-color: #3B4455;\n",
              "      fill: #D2E3FC;\n",
              "    }\n",
              "\n",
              "    [theme=dark] .colab-df-convert:hover {\n",
              "      background-color: #434B5C;\n",
              "      box-shadow: 0px 1px 3px 1px rgba(0, 0, 0, 0.15);\n",
              "      filter: drop-shadow(0px 1px 2px rgba(0, 0, 0, 0.3));\n",
              "      fill: #FFFFFF;\n",
              "    }\n",
              "  </style>\n",
              "\n",
              "      <script>\n",
              "        const buttonEl =\n",
              "          document.querySelector('#df-a0e8a102-dbd5-4514-bdc7-043fb66573a4 button.colab-df-convert');\n",
              "        buttonEl.style.display =\n",
              "          google.colab.kernel.accessAllowed ? 'block' : 'none';\n",
              "\n",
              "        async function convertToInteractive(key) {\n",
              "          const element = document.querySelector('#df-a0e8a102-dbd5-4514-bdc7-043fb66573a4');\n",
              "          const dataTable =\n",
              "            await google.colab.kernel.invokeFunction('convertToInteractive',\n",
              "                                                     [key], {});\n",
              "          if (!dataTable) return;\n",
              "\n",
              "          const docLinkHtml = 'Like what you see? Visit the ' +\n",
              "            '<a target=\"_blank\" href=https://colab.research.google.com/notebooks/data_table.ipynb>data table notebook</a>'\n",
              "            + ' to learn more about interactive tables.';\n",
              "          element.innerHTML = '';\n",
              "          dataTable['output_type'] = 'display_data';\n",
              "          await google.colab.output.renderOutput(dataTable, element);\n",
              "          const docLink = document.createElement('div');\n",
              "          docLink.innerHTML = docLinkHtml;\n",
              "          element.appendChild(docLink);\n",
              "        }\n",
              "      </script>\n",
              "    </div>\n",
              "  </div>\n",
              "  "
            ]
          },
          "metadata": {},
          "execution_count": 43
        }
      ]
    },
    {
      "cell_type": "code",
      "source": [
        "white_outcome = white_data['stop_outcome'].value_counts() * 100\n",
        "print(white_outcome)\n",
        "white_outcome.plot(kind='bar',figsize=(12,6), title='Stop outcomes of white drivers')\n",
        "plt.xticks(rotation=30)"
      ],
      "metadata": {
        "colab": {
          "base_uri": "https://localhost:8080/",
          "height": 570
        },
        "id": "ff_kZpKqa2bC",
        "outputId": "8b3e877d-f765-40be-95aa-cfc0e0092497"
      },
      "execution_count": null,
      "outputs": [
        {
          "output_type": "stream",
          "name": "stdout",
          "text": [
            "Citation            4243900\n",
            "Warning              147100\n",
            "Arrest Driver        118900\n",
            "N/D                   28700\n",
            "No Action             23100\n",
            "Arrest Passenger      13000\n",
            "Name: stop_outcome, dtype: int64\n"
          ]
        },
        {
          "output_type": "execute_result",
          "data": {
            "text/plain": [
              "(array([0, 1, 2, 3, 4, 5]), <a list of 6 Text major ticklabel objects>)"
            ]
          },
          "metadata": {},
          "execution_count": 44
        },
        {
          "output_type": "display_data",
          "data": {
            "text/plain": [
              "<Figure size 864x432 with 1 Axes>"
            ],
            "image/png": "[encoded data removed]"
          },
          "metadata": {
            "needs_background": "light"
          }
        }
      ]
    },
    {
      "cell_type": "code",
      "source": [
        "# Violations done by white people\n",
        "white_violation = white_data['violation'].value_counts() * 100\n",
        "print(white_violation)\n",
        "white_violation.plot(kind='bar',figsize=(12,6),title='Violations done by white drivers')\n",
        "plt.xticks(rotation=30)"
      ],
      "metadata": {
        "colab": {
          "base_uri": "https://localhost:8080/",
          "height": 575
        },
        "id": "m83mg1aebL9W",
        "outputId": "071d6585-aaba-49df-a85d-0312c0deb92b"
      },
      "execution_count": null,
      "outputs": [
        {
          "output_type": "stream",
          "name": "stdout",
          "text": [
            "Speeding               3018600\n",
            "Moving violation        801600\n",
            "Equipment               404000\n",
            "Other                   226100\n",
            "Registration/plates     124300\n",
            "Seat belt                  100\n",
            "Name: violation, dtype: int64\n"
          ]
        },
        {
          "output_type": "execute_result",
          "data": {
            "text/plain": [
              "(array([0, 1, 2, 3, 4, 5]), <a list of 6 Text major ticklabel objects>)"
            ]
          },
          "metadata": {},
          "execution_count": 45
        },
        {
          "output_type": "display_data",
          "data": {
            "text/plain": [
              "<Figure size 864x432 with 1 Axes>"
            ],
            "image/png": "[encoded data removed]"
          },
          "metadata": {
            "needs_background": "light"
          }
        }
      ]
    },
    {
      "cell_type": "code",
      "source": [
        "# Analysis on Black driver race people\n",
        "black_data = data[data['driver_race']=='Black']\n",
        "black_data"
      ],
      "metadata": {
        "colab": {
          "base_uri": "https://localhost:8080/",
          "height": 835
        },
        "id": "zkEp2Wl8cQbS",
        "outputId": "e0bf3019-2c1f-48e4-fdc0-a4e869ed1af3"
      },
      "execution_count": null,
      "outputs": [
        {
          "output_type": "execute_result",
          "data": {
            "text/plain": [
              "       stop_date           stop_time driver_gender  driver_age_raw  \\\n",
              "5     2005-03-23 2022-10-28 09:45:00             M          1982.0   \n",
              "8     2005-07-13 2022-10-28 10:15:00             M          1970.0   \n",
              "22    2005-08-08 2022-10-28 02:09:00             M          1955.0   \n",
              "30    2005-09-26 2022-10-28 12:09:00             M          1959.0   \n",
              "64    2005-10-01 2022-10-28 20:00:00             M          1972.0   \n",
              "...          ...                 ...           ...             ...   \n",
              "65477 2012-12-04 2022-10-28 16:13:00             M          1991.0   \n",
              "65485 2012-12-05 2022-10-28 01:26:00             M          1992.0   \n",
              "65497 2012-12-05 2022-10-28 20:24:00             F          1960.0   \n",
              "65499 2012-12-05 2022-10-28 23:13:00             M          1985.0   \n",
              "65532 2012-12-06 2022-10-28 23:20:00             M          1985.0   \n",
              "\n",
              "       driver_age driver_race                   violation_raw  \\\n",
              "5            23.0       Black  Equipment/Inspection Violation   \n",
              "8            35.0       Black                        Speeding   \n",
              "22           50.0       Black         Other Traffic Violation   \n",
              "30           46.0       Black         Other Traffic Violation   \n",
              "64           33.0       Black                        Speeding   \n",
              "...           ...         ...                             ...   \n",
              "65477        21.0       Black  Equipment/Inspection Violation   \n",
              "65485        20.0       Black  Equipment/Inspection Violation   \n",
              "65497        52.0       Black  Equipment/Inspection Violation   \n",
              "65499        27.0       Black  Equipment/Inspection Violation   \n",
              "65532        27.0       Black  Equipment/Inspection Violation   \n",
              "\n",
              "              violation  search_conducted     search_type   stop_outcome  \\\n",
              "5             Equipment             False             NaN       Citation   \n",
              "8              Speeding             False             NaN       Citation   \n",
              "22     Moving violation             False             NaN  Arrest Driver   \n",
              "30     Moving violation             False             NaN       Citation   \n",
              "64             Speeding             False             NaN       Citation   \n",
              "...                 ...               ...             ...            ...   \n",
              "65477         Equipment             False             NaN       Citation   \n",
              "65485         Equipment             False             NaN       Citation   \n",
              "65497         Equipment             False             NaN       Citation   \n",
              "65499         Equipment              True  Probable Cause        Warning   \n",
              "65532         Equipment             False             NaN       Citation   \n",
              "\n",
              "      is_arrested stop_duration  drugs_related_stop  \n",
              "5           False      0-15 Min               False  \n",
              "8           False      0-15 Min               False  \n",
              "22           True       30+ Min               False  \n",
              "30          False       30+ Min               False  \n",
              "64          False      0-15 Min               False  \n",
              "...           ...           ...                 ...  \n",
              "65477       False      0-15 Min               False  \n",
              "65485       False      0-15 Min               False  \n",
              "65497       False     16-30 Min               False  \n",
              "65499       False      0-15 Min                True  \n",
              "65532       False      0-15 Min               False  \n",
              "\n",
              "[8267 rows x 14 columns]"
            ],
            "text/html": [
              "\n",
              "  <div id=\"df-3193db49-19cf-4637-bcd6-9c43ae6c5098\">\n",
              "    <div class=\"colab-df-container\">\n",
              "      <div>\n",
              "<style scoped>\n",
              "    .dataframe tbody tr th:only-of-type {\n",
              "        vertical-align: middle;\n",
              "    }\n",
              "\n",
              "    .dataframe tbody tr th {\n",
              "        vertical-align: top;\n",
              "    }\n",
              "\n",
              "    .dataframe thead th {\n",
              "        text-align: right;\n",
              "    }\n",
              "</style>\n",
              "<table border=\"1\" class=\"dataframe\">\n",
              "  <thead>\n",
              "    <tr style=\"text-align: right;\">\n",
              "      <th></th>\n",
              "      <th>stop_date</th>\n",
              "      <th>stop_time</th>\n",
              "      <th>driver_gender</th>\n",
              "      <th>driver_age_raw</th>\n",
              "      <th>driver_age</th>\n",
              "      <th>driver_race</th>\n",
              "      <th>violation_raw</th>\n",
              "      <th>violation</th>\n",
              "      <th>search_conducted</th>\n",
              "      <th>search_type</th>\n",
              "      <th>stop_outcome</th>\n",
              "      <th>is_arrested</th>\n",
              "      <th>stop_duration</th>\n",
              "      <th>drugs_related_stop</th>\n",
              "    </tr>\n",
              "  </thead>\n",
              "  <tbody>\n",
              "    <tr>\n",
              "      <th>5</th>\n",
              "      <td>2005-03-23</td>\n",
              "      <td>2022-10-28 09:45:00</td>\n",
              "      <td>M</td>\n",
              "      <td>1982.0</td>\n",
              "      <td>23.0</td>\n",
              "      <td>Black</td>\n",
              "      <td>Equipment/Inspection Violation</td>\n",
              "      <td>Equipment</td>\n",
              "      <td>False</td>\n",
              "      <td>NaN</td>\n",
              "      <td>Citation</td>\n",
              "      <td>False</td>\n",
              "      <td>0-15 Min</td>\n",
              "      <td>False</td>\n",
              "    </tr>\n",
              "    <tr>\n",
              "      <th>8</th>\n",
              "      <td>2005-07-13</td>\n",
              "      <td>2022-10-28 10:15:00</td>\n",
              "      <td>M</td>\n",
              "      <td>1970.0</td>\n",
              "      <td>35.0</td>\n",
              "      <td>Black</td>\n",
              "      <td>Speeding</td>\n",
              "      <td>Speeding</td>\n",
              "      <td>False</td>\n",
              "      <td>NaN</td>\n",
              "      <td>Citation</td>\n",
              "      <td>False</td>\n",
              "      <td>0-15 Min</td>\n",
              "      <td>False</td>\n",
              "    </tr>\n",
              "    <tr>\n",
              "      <th>22</th>\n",
              "      <td>2005-08-08</td>\n",
              "      <td>2022-10-28 02:09:00</td>\n",
              "      <td>M</td>\n",
              "      <td>1955.0</td>\n",
              "      <td>50.0</td>\n",
              "      <td>Black</td>\n",
              "      <td>Other Traffic Violation</td>\n",
              "      <td>Moving violation</td>\n",
              "      <td>False</td>\n",
              "      <td>NaN</td>\n",
              "      <td>Arrest Driver</td>\n",
              "      <td>True</td>\n",
              "      <td>30+ Min</td>\n",
              "      <td>False</td>\n",
              "    </tr>\n",
              "    <tr>\n",
              "      <th>30</th>\n",
              "      <td>2005-09-26</td>\n",
              "      <td>2022-10-28 12:09:00</td>\n",
              "      <td>M</td>\n",
              "      <td>1959.0</td>\n",
              "      <td>46.0</td>\n",
              "      <td>Black</td>\n",
              "      <td>Other Traffic Violation</td>\n",
              "      <td>Moving violation</td>\n",
              "      <td>False</td>\n",
              "      <td>NaN</td>\n",
              "      <td>Citation</td>\n",
              "      <td>False</td>\n",
              "      <td>30+ Min</td>\n",
              "      <td>False</td>\n",
              "    </tr>\n",
              "    <tr>\n",
              "      <th>64</th>\n",
              "      <td>2005-10-01</td>\n",
              "      <td>2022-10-28 20:00:00</td>\n",
              "      <td>M</td>\n",
              "      <td>1972.0</td>\n",
              "      <td>33.0</td>\n",
              "      <td>Black</td>\n",
              "      <td>Speeding</td>\n",
              "      <td>Speeding</td>\n",
              "      <td>False</td>\n",
              "      <td>NaN</td>\n",
              "      <td>Citation</td>\n",
              "      <td>False</td>\n",
              "      <td>0-15 Min</td>\n",
              "      <td>False</td>\n",
              "    </tr>\n",
              "    <tr>\n",
              "      <th>...</th>\n",
              "      <td>...</td>\n",
              "      <td>...</td>\n",
              "      <td>...</td>\n",
              "      <td>...</td>\n",
              "      <td>...</td>\n",
              "      <td>...</td>\n",
              "      <td>...</td>\n",
              "      <td>...</td>\n",
              "      <td>...</td>\n",
              "      <td>...</td>\n",
              "      <td>...</td>\n",
              "      <td>...</td>\n",
              "      <td>...</td>\n",
              "      <td>...</td>\n",
              "    </tr>\n",
              "    <tr>\n",
              "      <th>65477</th>\n",
              "      <td>2012-12-04</td>\n",
              "      <td>2022-10-28 16:13:00</td>\n",
              "      <td>M</td>\n",
              "      <td>1991.0</td>\n",
              "      <td>21.0</td>\n",
              "      <td>Black</td>\n",
              "      <td>Equipment/Inspection Violation</td>\n",
              "      <td>Equipment</td>\n",
              "      <td>False</td>\n",
              "      <td>NaN</td>\n",
              "      <td>Citation</td>\n",
              "      <td>False</td>\n",
              "      <td>0-15 Min</td>\n",
              "      <td>False</td>\n",
              "    </tr>\n",
              "    <tr>\n",
              "      <th>65485</th>\n",
              "      <td>2012-12-05</td>\n",
              "      <td>2022-10-28 01:26:00</td>\n",
              "      <td>M</td>\n",
              "      <td>1992.0</td>\n",
              "      <td>20.0</td>\n",
              "      <td>Black</td>\n",
              "      <td>Equipment/Inspection Violation</td>\n",
              "      <td>Equipment</td>\n",
              "      <td>False</td>\n",
              "      <td>NaN</td>\n",
              "      <td>Citation</td>\n",
              "      <td>False</td>\n",
              "      <td>0-15 Min</td>\n",
              "      <td>False</td>\n",
              "    </tr>\n",
              "    <tr>\n",
              "      <th>65497</th>\n",
              "      <td>2012-12-05</td>\n",
              "      <td>2022-10-28 20:24:00</td>\n",
              "      <td>F</td>\n",
              "      <td>1960.0</td>\n",
              "      <td>52.0</td>\n",
              "      <td>Black</td>\n",
              "      <td>Equipment/Inspection Violation</td>\n",
              "      <td>Equipment</td>\n",
              "      <td>False</td>\n",
              "      <td>NaN</td>\n",
              "      <td>Citation</td>\n",
              "      <td>False</td>\n",
              "      <td>16-30 Min</td>\n",
              "      <td>False</td>\n",
              "    </tr>\n",
              "    <tr>\n",
              "      <th>65499</th>\n",
              "      <td>2012-12-05</td>\n",
              "      <td>2022-10-28 23:13:00</td>\n",
              "      <td>M</td>\n",
              "      <td>1985.0</td>\n",
              "      <td>27.0</td>\n",
              "      <td>Black</td>\n",
              "      <td>Equipment/Inspection Violation</td>\n",
              "      <td>Equipment</td>\n",
              "      <td>True</td>\n",
              "      <td>Probable Cause</td>\n",
              "      <td>Warning</td>\n",
              "      <td>False</td>\n",
              "      <td>0-15 Min</td>\n",
              "      <td>True</td>\n",
              "    </tr>\n",
              "    <tr>\n",
              "      <th>65532</th>\n",
              "      <td>2012-12-06</td>\n",
              "      <td>2022-10-28 23:20:00</td>\n",
              "      <td>M</td>\n",
              "      <td>1985.0</td>\n",
              "      <td>27.0</td>\n",
              "      <td>Black</td>\n",
              "      <td>Equipment/Inspection Violation</td>\n",
              "      <td>Equipment</td>\n",
              "      <td>False</td>\n",
              "      <td>NaN</td>\n",
              "      <td>Citation</td>\n",
              "      <td>False</td>\n",
              "      <td>0-15 Min</td>\n",
              "      <td>False</td>\n",
              "    </tr>\n",
              "  </tbody>\n",
              "</table>\n",
              "<p>8267 rows × 14 columns</p>\n",
              "</div>\n",
              "      <button class=\"colab-df-convert\" onclick=\"convertToInteractive('df-3193db49-19cf-4637-bcd6-9c43ae6c5098')\"\n",
              "              title=\"Convert this dataframe to an interactive table.\"\n",
              "              style=\"display:none;\">\n",
              "        \n",
              "  <svg xmlns=\"http://www.w3.org/2000/svg\" height=\"24px\"viewBox=\"0 0 24 24\"\n",
              "       width=\"24px\">\n",
              "    <path d=\"M0 0h24v24H0V0z\" fill=\"none\"/>\n",
              "    <path d=\"M18.56 5.44l.94 2.06.94-2.06 2.06-.94-2.06-.94-.94-2.06-.94 2.06-2.06.94zm-11 1L8.5 8.5l.94-2.06 2.06-.94-2.06-.94L8.5 2.5l-.94 2.06-2.06.94zm10 10l.94 2.06.94-2.06 2.06-.94-2.06-.94-.94-2.06-.94 2.06-2.06.94z\"/><path d=\"M17.41 7.96l-1.37-1.37c-.4-.4-.92-.59-1.43-.59-.52 0-1.04.2-1.43.59L10.3 9.45l-7.72 7.72c-.78.78-.78 2.05 0 2.83L4 21.41c.39.39.9.59 1.41.59.51 0 1.02-.2 1.41-.59l7.78-7.78 2.81-2.81c.8-.78.8-2.07 0-2.86zM5.41 20L4 18.59l7.72-7.72 1.47 1.35L5.41 20z\"/>\n",
              "  </svg>\n",
              "      </button>\n",
              "      \n",
              "  <style>\n",
              "    .colab-df-container {\n",
              "      display:flex;\n",
              "      flex-wrap:wrap;\n",
              "      gap: 12px;\n",
              "    }\n",
              "\n",
              "    .colab-df-convert {\n",
              "      background-color: #E8F0FE;\n",
              "      border: none;\n",
              "      border-radius: 50%;\n",
              "      cursor: pointer;\n",
              "      display: none;\n",
              "      fill: #1967D2;\n",
              "      height: 32px;\n",
              "      padding: 0 0 0 0;\n",
              "      width: 32px;\n",
              "    }\n",
              "\n",
              "    .colab-df-convert:hover {\n",
              "      background-color: #E2EBFA;\n",
              "      box-shadow: 0px 1px 2px rgba(60, 64, 67, 0.3), 0px 1px 3px 1px rgba(60, 64, 67, 0.15);\n",
              "      fill: #174EA6;\n",
              "    }\n",
              "\n",
              "    [theme=dark] .colab-df-convert {\n",
              "      background-color: #3B4455;\n",
              "      fill: #D2E3FC;\n",
              "    }\n",
              "\n",
              "    [theme=dark] .colab-df-convert:hover {\n",
              "      background-color: #434B5C;\n",
              "      box-shadow: 0px 1px 3px 1px rgba(0, 0, 0, 0.15);\n",
              "      filter: drop-shadow(0px 1px 2px rgba(0, 0, 0, 0.3));\n",
              "      fill: #FFFFFF;\n",
              "    }\n",
              "  </style>\n",
              "\n",
              "      <script>\n",
              "        const buttonEl =\n",
              "          document.querySelector('#df-3193db49-19cf-4637-bcd6-9c43ae6c5098 button.colab-df-convert');\n",
              "        buttonEl.style.display =\n",
              "          google.colab.kernel.accessAllowed ? 'block' : 'none';\n",
              "\n",
              "        async function convertToInteractive(key) {\n",
              "          const element = document.querySelector('#df-3193db49-19cf-4637-bcd6-9c43ae6c5098');\n",
              "          const dataTable =\n",
              "            await google.colab.kernel.invokeFunction('convertToInteractive',\n",
              "                                                     [key], {});\n",
              "          if (!dataTable) return;\n",
              "\n",
              "          const docLinkHtml = 'Like what you see? Visit the ' +\n",
              "            '<a target=\"_blank\" href=https://colab.research.google.com/notebooks/data_table.ipynb>data table notebook</a>'\n",
              "            + ' to learn more about interactive tables.';\n",
              "          element.innerHTML = '';\n",
              "          dataTable['output_type'] = 'display_data';\n",
              "          await google.colab.output.renderOutput(dataTable, element);\n",
              "          const docLink = document.createElement('div');\n",
              "          docLink.innerHTML = docLinkHtml;\n",
              "          element.appendChild(docLink);\n",
              "        }\n",
              "      </script>\n",
              "    </div>\n",
              "  </div>\n",
              "  "
            ]
          },
          "metadata": {},
          "execution_count": 46
        }
      ]
    },
    {
      "cell_type": "code",
      "source": [
        "black_outcome = black_data['stop_outcome'].value_counts()*100\n",
        "print(black_outcome)\n",
        "black_outcome.plot(kind='bar',figsize=(10,5),title='Stop outcomes on black drivers')\n",
        "plt.xticks(rotation=30)"
      ],
      "metadata": {
        "colab": {
          "base_uri": "https://localhost:8080/",
          "height": 516
        },
        "id": "NxphK80IcQXk",
        "outputId": "ecf60738-fecd-42a1-b9da-1198a6f47d16"
      },
      "execution_count": null,
      "outputs": [
        {
          "output_type": "stream",
          "name": "stdout",
          "text": [
            "Citation            734500\n",
            "Arrest Driver        46400\n",
            "Warning              24800\n",
            "N/D                   8400\n",
            "Arrest Passenger      8100\n",
            "No Action             4500\n",
            "Name: stop_outcome, dtype: int64\n"
          ]
        },
        {
          "output_type": "execute_result",
          "data": {
            "text/plain": [
              "(array([0, 1, 2, 3, 4, 5]), <a list of 6 Text major ticklabel objects>)"
            ]
          },
          "metadata": {},
          "execution_count": 47
        },
        {
          "output_type": "display_data",
          "data": {
            "text/plain": [
              "<Figure size 720x360 with 1 Axes>"
            ],
            "image/png": "[encoded data removed]"
          },
          "metadata": {
            "needs_background": "light"
          }
        }
      ]
    },
    {
      "cell_type": "code",
      "source": [
        "black_violation = black_data['violation'].value_counts() * 100\n",
        "print(black_violation)\n",
        "black_violation.plot(kind='bar',figsize=(10,5),title='Violations committed by black drivers')\n",
        "plt.xticks(rotation=30)"
      ],
      "metadata": {
        "colab": {
          "base_uri": "https://localhost:8080/",
          "height": 520
        },
        "id": "En-IdSZXcQVP",
        "outputId": "28ec18bc-f8f8-410b-90f6-7eb9b3253ab1"
      },
      "execution_count": null,
      "outputs": [
        {
          "output_type": "stream",
          "name": "stdout",
          "text": [
            "Speeding               365800\n",
            "Moving violation       207600\n",
            "Equipment              126200\n",
            "Other                   76700\n",
            "Registration/plates     50300\n",
            "Seat belt                 100\n",
            "Name: violation, dtype: int64\n"
          ]
        },
        {
          "output_type": "execute_result",
          "data": {
            "text/plain": [
              "(array([0, 1, 2, 3, 4, 5]), <a list of 6 Text major ticklabel objects>)"
            ]
          },
          "metadata": {},
          "execution_count": 48
        },
        {
          "output_type": "display_data",
          "data": {
            "text/plain": [
              "<Figure size 720x360 with 1 Axes>"
            ],
            "image/png": "[encoded data removed]"
          },
          "metadata": {
            "needs_background": "light"
          }
        }
      ]
    },
    {
      "cell_type": "code",
      "source": [
        "# Analysis on hispanic driver race people\n",
        "hispanic_data = data[data['driver_race']=='Hispanic']\n",
        "hispanic_data"
      ],
      "metadata": {
        "colab": {
          "base_uri": "https://localhost:8080/",
          "height": 835
        },
        "id": "t4gPCElwdJ1h",
        "outputId": "1c1232b6-44b9-498e-d9c8-32559e9e76c3"
      },
      "execution_count": null,
      "outputs": [
        {
          "output_type": "execute_result",
          "data": {
            "text/plain": [
              "       stop_date           stop_time driver_gender  driver_age_raw  \\\n",
              "42    2005-10-01 2022-10-28 00:50:00             M          1977.0   \n",
              "198   2005-10-07 2022-10-28 00:50:00             M          1973.0   \n",
              "320   2005-10-11 2022-10-28 21:55:00             M          1977.0   \n",
              "339   2005-10-12 2022-10-28 20:30:00             M          1987.0   \n",
              "340   2005-10-12 2022-10-28 20:30:00             M          1987.0   \n",
              "...          ...                 ...           ...             ...   \n",
              "65506 2012-12-06 2022-10-28 05:51:00             M          1986.0   \n",
              "65511 2012-12-06 2022-10-28 08:45:00             M          1964.0   \n",
              "65514 2012-12-06 2022-10-28 10:37:00             M          1988.0   \n",
              "65519 2012-12-06 2022-10-28 11:40:00             F          1985.0   \n",
              "65523 2012-12-06 2022-10-28 14:33:00             M          1967.0   \n",
              "\n",
              "       driver_age driver_race                   violation_raw  \\\n",
              "42           28.0    Hispanic         Other Traffic Violation   \n",
              "198          32.0    Hispanic         Other Traffic Violation   \n",
              "320          28.0    Hispanic                        Speeding   \n",
              "339          18.0    Hispanic         Other Traffic Violation   \n",
              "340          18.0    Hispanic         Other Traffic Violation   \n",
              "...           ...         ...                             ...   \n",
              "65506        26.0    Hispanic                        Speeding   \n",
              "65511        48.0    Hispanic                        Speeding   \n",
              "65514        24.0    Hispanic  Equipment/Inspection Violation   \n",
              "65519        27.0    Hispanic                        Speeding   \n",
              "65523        45.0    Hispanic                        Speeding   \n",
              "\n",
              "              violation  search_conducted       search_type   stop_outcome  \\\n",
              "42     Moving violation             False               NaN  Arrest Driver   \n",
              "198    Moving violation             False               NaN  Arrest Driver   \n",
              "320            Speeding             False               NaN       Citation   \n",
              "339    Moving violation              True  Protective Frisk  Arrest Driver   \n",
              "340    Moving violation              True  Protective Frisk  Arrest Driver   \n",
              "...                 ...               ...               ...            ...   \n",
              "65506          Speeding             False               NaN       Citation   \n",
              "65511          Speeding             False               NaN       Citation   \n",
              "65514         Equipment             False               NaN        Warning   \n",
              "65519          Speeding             False               NaN       Citation   \n",
              "65523          Speeding             False               NaN       Citation   \n",
              "\n",
              "      is_arrested stop_duration  drugs_related_stop  \n",
              "42           True       30+ Min               False  \n",
              "198          True     16-30 Min               False  \n",
              "320         False      0-15 Min               False  \n",
              "339          True      0-15 Min               False  \n",
              "340          True      0-15 Min               False  \n",
              "...           ...           ...                 ...  \n",
              "65506       False      0-15 Min               False  \n",
              "65511       False      0-15 Min               False  \n",
              "65514       False      0-15 Min               False  \n",
              "65519       False     16-30 Min               False  \n",
              "65523       False     16-30 Min               False  \n",
              "\n",
              "[5611 rows x 14 columns]"
            ],
            "text/html": [
              "\n",
              "  <div id=\"df-f2b98191-85fe-4c67-871c-72152bc86589\">\n",
              "    <div class=\"colab-df-container\">\n",
              "      <div>\n",
              "<style scoped>\n",
              "    .dataframe tbody tr th:only-of-type {\n",
              "        vertical-align: middle;\n",
              "    }\n",
              "\n",
              "    .dataframe tbody tr th {\n",
              "        vertical-align: top;\n",
              "    }\n",
              "\n",
              "    .dataframe thead th {\n",
              "        text-align: right;\n",
              "    }\n",
              "</style>\n",
              "<table border=\"1\" class=\"dataframe\">\n",
              "  <thead>\n",
              "    <tr style=\"text-align: right;\">\n",
              "      <th></th>\n",
              "      <th>stop_date</th>\n",
              "      <th>stop_time</th>\n",
              "      <th>driver_gender</th>\n",
              "      <th>driver_age_raw</th>\n",
              "      <th>driver_age</th>\n",
              "      <th>driver_race</th>\n",
              "      <th>violation_raw</th>\n",
              "      <th>violation</th>\n",
              "      <th>search_conducted</th>\n",
              "      <th>search_type</th>\n",
              "      <th>stop_outcome</th>\n",
              "      <th>is_arrested</th>\n",
              "      <th>stop_duration</th>\n",
              "      <th>drugs_related_stop</th>\n",
              "    </tr>\n",
              "  </thead>\n",
              "  <tbody>\n",
              "    <tr>\n",
              "      <th>42</th>\n",
              "      <td>2005-10-01</td>\n",
              "      <td>2022-10-28 00:50:00</td>\n",
              "      <td>M</td>\n",
              "      <td>1977.0</td>\n",
              "      <td>28.0</td>\n",
              "      <td>Hispanic</td>\n",
              "      <td>Other Traffic Violation</td>\n",
              "      <td>Moving violation</td>\n",
              "      <td>False</td>\n",
              "      <td>NaN</td>\n",
              "      <td>Arrest Driver</td>\n",
              "      <td>True</td>\n",
              "      <td>30+ Min</td>\n",
              "      <td>False</td>\n",
              "    </tr>\n",
              "    <tr>\n",
              "      <th>198</th>\n",
              "      <td>2005-10-07</td>\n",
              "      <td>2022-10-28 00:50:00</td>\n",
              "      <td>M</td>\n",
              "      <td>1973.0</td>\n",
              "      <td>32.0</td>\n",
              "      <td>Hispanic</td>\n",
              "      <td>Other Traffic Violation</td>\n",
              "      <td>Moving violation</td>\n",
              "      <td>False</td>\n",
              "      <td>NaN</td>\n",
              "      <td>Arrest Driver</td>\n",
              "      <td>True</td>\n",
              "      <td>16-30 Min</td>\n",
              "      <td>False</td>\n",
              "    </tr>\n",
              "    <tr>\n",
              "      <th>320</th>\n",
              "      <td>2005-10-11</td>\n",
              "      <td>2022-10-28 21:55:00</td>\n",
              "      <td>M</td>\n",
              "      <td>1977.0</td>\n",
              "      <td>28.0</td>\n",
              "      <td>Hispanic</td>\n",
              "      <td>Speeding</td>\n",
              "      <td>Speeding</td>\n",
              "      <td>False</td>\n",
              "      <td>NaN</td>\n",
              "      <td>Citation</td>\n",
              "      <td>False</td>\n",
              "      <td>0-15 Min</td>\n",
              "      <td>False</td>\n",
              "    </tr>\n",
              "    <tr>\n",
              "      <th>339</th>\n",
              "      <td>2005-10-12</td>\n",
              "      <td>2022-10-28 20:30:00</td>\n",
              "      <td>M</td>\n",
              "      <td>1987.0</td>\n",
              "      <td>18.0</td>\n",
              "      <td>Hispanic</td>\n",
              "      <td>Other Traffic Violation</td>\n",
              "      <td>Moving violation</td>\n",
              "      <td>True</td>\n",
              "      <td>Protective Frisk</td>\n",
              "      <td>Arrest Driver</td>\n",
              "      <td>True</td>\n",
              "      <td>0-15 Min</td>\n",
              "      <td>False</td>\n",
              "    </tr>\n",
              "    <tr>\n",
              "      <th>340</th>\n",
              "      <td>2005-10-12</td>\n",
              "      <td>2022-10-28 20:30:00</td>\n",
              "      <td>M</td>\n",
              "      <td>1987.0</td>\n",
              "      <td>18.0</td>\n",
              "      <td>Hispanic</td>\n",
              "      <td>Other Traffic Violation</td>\n",
              "      <td>Moving violation</td>\n",
              "      <td>True</td>\n",
              "      <td>Protective Frisk</td>\n",
              "      <td>Arrest Driver</td>\n",
              "      <td>True</td>\n",
              "      <td>0-15 Min</td>\n",
              "      <td>False</td>\n",
              "    </tr>\n",
              "    <tr>\n",
              "      <th>...</th>\n",
              "      <td>...</td>\n",
              "      <td>...</td>\n",
              "      <td>...</td>\n",
              "      <td>...</td>\n",
              "      <td>...</td>\n",
              "      <td>...</td>\n",
              "      <td>...</td>\n",
              "      <td>...</td>\n",
              "      <td>...</td>\n",
              "      <td>...</td>\n",
              "      <td>...</td>\n",
              "      <td>...</td>\n",
              "      <td>...</td>\n",
              "      <td>...</td>\n",
              "    </tr>\n",
              "    <tr>\n",
              "      <th>65506</th>\n",
              "      <td>2012-12-06</td>\n",
              "      <td>2022-10-28 05:51:00</td>\n",
              "      <td>M</td>\n",
              "      <td>1986.0</td>\n",
              "      <td>26.0</td>\n",
              "      <td>Hispanic</td>\n",
              "      <td>Speeding</td>\n",
              "      <td>Speeding</td>\n",
              "      <td>False</td>\n",
              "      <td>NaN</td>\n",
              "      <td>Citation</td>\n",
              "      <td>False</td>\n",
              "      <td>0-15 Min</td>\n",
              "      <td>False</td>\n",
              "    </tr>\n",
              "    <tr>\n",
              "      <th>65511</th>\n",
              "      <td>2012-12-06</td>\n",
              "      <td>2022-10-28 08:45:00</td>\n",
              "      <td>M</td>\n",
              "      <td>1964.0</td>\n",
              "      <td>48.0</td>\n",
              "      <td>Hispanic</td>\n",
              "      <td>Speeding</td>\n",
              "      <td>Speeding</td>\n",
              "      <td>False</td>\n",
              "      <td>NaN</td>\n",
              "      <td>Citation</td>\n",
              "      <td>False</td>\n",
              "      <td>0-15 Min</td>\n",
              "      <td>False</td>\n",
              "    </tr>\n",
              "    <tr>\n",
              "      <th>65514</th>\n",
              "      <td>2012-12-06</td>\n",
              "      <td>2022-10-28 10:37:00</td>\n",
              "      <td>M</td>\n",
              "      <td>1988.0</td>\n",
              "      <td>24.0</td>\n",
              "      <td>Hispanic</td>\n",
              "      <td>Equipment/Inspection Violation</td>\n",
              "      <td>Equipment</td>\n",
              "      <td>False</td>\n",
              "      <td>NaN</td>\n",
              "      <td>Warning</td>\n",
              "      <td>False</td>\n",
              "      <td>0-15 Min</td>\n",
              "      <td>False</td>\n",
              "    </tr>\n",
              "    <tr>\n",
              "      <th>65519</th>\n",
              "      <td>2012-12-06</td>\n",
              "      <td>2022-10-28 11:40:00</td>\n",
              "      <td>F</td>\n",
              "      <td>1985.0</td>\n",
              "      <td>27.0</td>\n",
              "      <td>Hispanic</td>\n",
              "      <td>Speeding</td>\n",
              "      <td>Speeding</td>\n",
              "      <td>False</td>\n",
              "      <td>NaN</td>\n",
              "      <td>Citation</td>\n",
              "      <td>False</td>\n",
              "      <td>16-30 Min</td>\n",
              "      <td>False</td>\n",
              "    </tr>\n",
              "    <tr>\n",
              "      <th>65523</th>\n",
              "      <td>2012-12-06</td>\n",
              "      <td>2022-10-28 14:33:00</td>\n",
              "      <td>M</td>\n",
              "      <td>1967.0</td>\n",
              "      <td>45.0</td>\n",
              "      <td>Hispanic</td>\n",
              "      <td>Speeding</td>\n",
              "      <td>Speeding</td>\n",
              "      <td>False</td>\n",
              "      <td>NaN</td>\n",
              "      <td>Citation</td>\n",
              "      <td>False</td>\n",
              "      <td>16-30 Min</td>\n",
              "      <td>False</td>\n",
              "    </tr>\n",
              "  </tbody>\n",
              "</table>\n",
              "<p>5611 rows × 14 columns</p>\n",
              "</div>\n",
              "      <button class=\"colab-df-convert\" onclick=\"convertToInteractive('df-f2b98191-85fe-4c67-871c-72152bc86589')\"\n",
              "              title=\"Convert this dataframe to an interactive table.\"\n",
              "              style=\"display:none;\">\n",
              "        \n",
              "  <svg xmlns=\"http://www.w3.org/2000/svg\" height=\"24px\"viewBox=\"0 0 24 24\"\n",
              "       width=\"24px\">\n",
              "    <path d=\"M0 0h24v24H0V0z\" fill=\"none\"/>\n",
              "    <path d=\"M18.56 5.44l.94 2.06.94-2.06 2.06-.94-2.06-.94-.94-2.06-.94 2.06-2.06.94zm-11 1L8.5 8.5l.94-2.06 2.06-.94-2.06-.94L8.5 2.5l-.94 2.06-2.06.94zm10 10l.94 2.06.94-2.06 2.06-.94-2.06-.94-.94-2.06-.94 2.06-2.06.94z\"/><path d=\"M17.41 7.96l-1.37-1.37c-.4-.4-.92-.59-1.43-.59-.52 0-1.04.2-1.43.59L10.3 9.45l-7.72 7.72c-.78.78-.78 2.05 0 2.83L4 21.41c.39.39.9.59 1.41.59.51 0 1.02-.2 1.41-.59l7.78-7.78 2.81-2.81c.8-.78.8-2.07 0-2.86zM5.41 20L4 18.59l7.72-7.72 1.47 1.35L5.41 20z\"/>\n",
              "  </svg>\n",
              "      </button>\n",
              "      \n",
              "  <style>\n",
              "    .colab-df-container {\n",
              "      display:flex;\n",
              "      flex-wrap:wrap;\n",
              "      gap: 12px;\n",
              "    }\n",
              "\n",
              "    .colab-df-convert {\n",
              "      background-color: #E8F0FE;\n",
              "      border: none;\n",
              "      border-radius: 50%;\n",
              "      cursor: pointer;\n",
              "      display: none;\n",
              "      fill: #1967D2;\n",
              "      height: 32px;\n",
              "      padding: 0 0 0 0;\n",
              "      width: 32px;\n",
              "    }\n",
              "\n",
              "    .colab-df-convert:hover {\n",
              "      background-color: #E2EBFA;\n",
              "      box-shadow: 0px 1px 2px rgba(60, 64, 67, 0.3), 0px 1px 3px 1px rgba(60, 64, 67, 0.15);\n",
              "      fill: #174EA6;\n",
              "    }\n",
              "\n",
              "    [theme=dark] .colab-df-convert {\n",
              "      background-color: #3B4455;\n",
              "      fill: #D2E3FC;\n",
              "    }\n",
              "\n",
              "    [theme=dark] .colab-df-convert:hover {\n",
              "      background-color: #434B5C;\n",
              "      box-shadow: 0px 1px 3px 1px rgba(0, 0, 0, 0.15);\n",
              "      filter: drop-shadow(0px 1px 2px rgba(0, 0, 0, 0.3));\n",
              "      fill: #FFFFFF;\n",
              "    }\n",
              "  </style>\n",
              "\n",
              "      <script>\n",
              "        const buttonEl =\n",
              "          document.querySelector('#df-f2b98191-85fe-4c67-871c-72152bc86589 button.colab-df-convert');\n",
              "        buttonEl.style.display =\n",
              "          google.colab.kernel.accessAllowed ? 'block' : 'none';\n",
              "\n",
              "        async function convertToInteractive(key) {\n",
              "          const element = document.querySelector('#df-f2b98191-85fe-4c67-871c-72152bc86589');\n",
              "          const dataTable =\n",
              "            await google.colab.kernel.invokeFunction('convertToInteractive',\n",
              "                                                     [key], {});\n",
              "          if (!dataTable) return;\n",
              "\n",
              "          const docLinkHtml = 'Like what you see? Visit the ' +\n",
              "            '<a target=\"_blank\" href=https://colab.research.google.com/notebooks/data_table.ipynb>data table notebook</a>'\n",
              "            + ' to learn more about interactive tables.';\n",
              "          element.innerHTML = '';\n",
              "          dataTable['output_type'] = 'display_data';\n",
              "          await google.colab.output.renderOutput(dataTable, element);\n",
              "          const docLink = document.createElement('div');\n",
              "          docLink.innerHTML = docLinkHtml;\n",
              "          element.appendChild(docLink);\n",
              "        }\n",
              "      </script>\n",
              "    </div>\n",
              "  </div>\n",
              "  "
            ]
          },
          "metadata": {},
          "execution_count": 49
        }
      ]
    },
    {
      "cell_type": "code",
      "source": [
        "hispanic_outcome = hispanic_data['stop_outcome'].value_counts()*100\n",
        "print(hispanic_outcome)\n",
        "hispanic_outcome.plot(kind='bar',figsize=(10,5),title='Stop outcomes on black drivers')\n",
        "plt.xticks(rotation=30)"
      ],
      "metadata": {
        "colab": {
          "base_uri": "https://localhost:8080/",
          "height": 516
        },
        "id": "_2sL8rB5dggr",
        "outputId": "8bd7b400-1175-4862-f9a1-94dfa9b9b10a"
      },
      "execution_count": null,
      "outputs": [
        {
          "output_type": "stream",
          "name": "stdout",
          "text": [
            "Citation            502000\n",
            "Arrest Driver        32800\n",
            "Warning              13500\n",
            "No Action             5100\n",
            "N/D                   4200\n",
            "Arrest Passenger      3500\n",
            "Name: stop_outcome, dtype: int64\n"
          ]
        },
        {
          "output_type": "execute_result",
          "data": {
            "text/plain": [
              "(array([0, 1, 2, 3, 4, 5]), <a list of 6 Text major ticklabel objects>)"
            ]
          },
          "metadata": {},
          "execution_count": 50
        },
        {
          "output_type": "display_data",
          "data": {
            "text/plain": [
              "<Figure size 720x360 with 1 Axes>"
            ],
            "image/png": "[encoded data removed]"
          },
          "metadata": {
            "needs_background": "light"
          }
        }
      ]
    },
    {
      "cell_type": "code",
      "source": [
        "hispanic_violation = hispanic_data['violation'].value_counts() * 100\n",
        "print(hispanic_violation)\n",
        "hispanic_violation.plot(kind='bar',figsize=(10,5),title='Violations committed by black drivers')\n",
        "plt.xticks(rotation=30)"
      ],
      "metadata": {
        "colab": {
          "base_uri": "https://localhost:8080/",
          "height": 520
        },
        "id": "ExKYGipEdqKO",
        "outputId": "4c8410b3-2c80-4409-de11-422bce35b506"
      },
      "execution_count": null,
      "outputs": [
        {
          "output_type": "stream",
          "name": "stdout",
          "text": [
            "Speeding               206200\n",
            "Moving violation       154300\n",
            "Equipment              106900\n",
            "Other                   46900\n",
            "Registration/plates     46700\n",
            "Seat belt                 100\n",
            "Name: violation, dtype: int64\n"
          ]
        },
        {
          "output_type": "execute_result",
          "data": {
            "text/plain": [
              "(array([0, 1, 2, 3, 4, 5]), <a list of 6 Text major ticklabel objects>)"
            ]
          },
          "metadata": {},
          "execution_count": 51
        },
        {
          "output_type": "display_data",
          "data": {
            "text/plain": [
              "<Figure size 720x360 with 1 Axes>"
            ],
            "image/png": "[encoded data removed]"
          },
          "metadata": {
            "needs_background": "light"
          }
        }
      ]
    },
    {
      "cell_type": "code",
      "source": [
        "display(data.stop_duration.unique())\n",
        "# Create a dictionary that maps strings to integers\n",
        "mapping = {'0-15 Min':8, '16-30 Min':23, '30+ Min':45} \n",
        "data['stop_minutes'] = data.stop_duration.map(mapping) # Convert the 'stop_duration' strings to integers using the 'mapping'\n",
        "display(data['stop_minutes'].unique())\n",
        "# Calculate mean 'stop_minutes' for each value in 'violation_raw'\n",
        "stop_length = data.groupby('violation_raw')['stop_minutes'].mean()\n",
        "stop_length.sort_values().plot(kind='barh')\n",
        "plt.show()"
      ],
      "metadata": {
        "colab": {
          "base_uri": "https://localhost:8080/",
          "height": 300
        },
        "id": "4JuPdwKfEAS1",
        "outputId": "9cb82b83-94b4-4305-91fa-401388cc6755"
      },
      "execution_count": null,
      "outputs": [
        {
          "output_type": "display_data",
          "data": {
            "text/plain": [
              "array(['0-15 Min', '16-30 Min', '30+ Min', nan, '2'], dtype=object)"
            ]
          },
          "metadata": {}
        },
        {
          "output_type": "display_data",
          "data": {
            "text/plain": [
              "array([ 8., 23., 45., nan])"
            ]
          },
          "metadata": {}
        },
        {
          "output_type": "display_data",
          "data": {
            "text/plain": [
              "<Figure size 432x288 with 1 Axes>"
            ],
            "image/png": "[encoded data removed]"
          },
          "metadata": {
            "needs_background": "light"
          }
        }
      ]
    },
    {
      "cell_type": "code",
      "source": [
        "data.stop_minutes.value_counts()"
      ],
      "metadata": {
        "colab": {
          "base_uri": "https://localhost:8080/"
        },
        "id": "H1nUaWm2TQFx",
        "outputId": "d3bc620e-fe62-49a6-f477-7951d726affe"
      },
      "execution_count": null,
      "outputs": [
        {
          "output_type": "execute_result",
          "data": {
            "text/plain": [
              "8.0     47379\n",
              "23.0    11448\n",
              "45.0     2647\n",
              "Name: stop_minutes, dtype: int64"
            ]
          },
          "metadata": {},
          "execution_count": 53
        }
      ]
    },
    {
      "cell_type": "code",
      "source": [
        "data.groupby('violation_raw').stop_minutes.mean()"
      ],
      "metadata": {
        "colab": {
          "base_uri": "https://localhost:8080/"
        },
        "id": "0DpLAe7mTd5t",
        "outputId": "a1682de4-0016-48ee-9061-b22c823a92fb"
      },
      "execution_count": null,
      "outputs": [
        {
          "output_type": "execute_result",
          "data": {
            "text/plain": [
              "violation_raw\n",
              "APB                                 23.882353\n",
              "Call for Service                    24.437579\n",
              "Equipment/Inspection Violation      12.554174\n",
              "Motorist Assist/Courtesy            17.007246\n",
              "Other Traffic Violation             14.962683\n",
              "Registration Violation              15.734284\n",
              "Seatbelt Violation                   8.000000\n",
              "Special Detail/Directed Patrol      14.882081\n",
              "Speeding                            10.863348\n",
              "Suspicious Person                   18.763158\n",
              "Violation of City/Town Ordinance    14.070588\n",
              "Warrant                             22.900000\n",
              "Name: stop_minutes, dtype: float64"
            ]
          },
          "metadata": {},
          "execution_count": 54
        }
      ]
    },
    {
      "cell_type": "code",
      "source": [
        "data.groupby('violation_raw').stop_minutes.agg(['count', 'mean'])"
      ],
      "metadata": {
        "colab": {
          "base_uri": "https://localhost:8080/",
          "height": 457
        },
        "id": "sOR4y6aBTlQ0",
        "outputId": "443f92ff-74cf-40c5-f7b2-b34578a932cf"
      },
      "execution_count": null,
      "outputs": [
        {
          "output_type": "execute_result",
          "data": {
            "text/plain": [
              "                                  count       mean\n",
              "violation_raw                                     \n",
              "APB                                  51  23.882353\n",
              "Call for Service                    793  24.437579\n",
              "Equipment/Inspection Violation     6516  12.554174\n",
              "Motorist Assist/Courtesy            138  17.007246\n",
              "Other Traffic Violation           11925  14.962683\n",
              "Registration Violation             2243  15.734284\n",
              "Seatbelt Violation                    3   8.000000\n",
              "Special Detail/Directed Patrol     2383  14.882081\n",
              "Speeding                          37204  10.863348\n",
              "Suspicious Person                    38  18.763158\n",
              "Violation of City/Town Ordinance    170  14.070588\n",
              "Warrant                              10  22.900000"
            ],
            "text/html": [
              "\n",
              "  <div id=\"df-d514326a-d059-4fd2-a4cc-f1aa26ba4b78\">\n",
              "    <div class=\"colab-df-container\">\n",
              "      <div>\n",
              "<style scoped>\n",
              "    .dataframe tbody tr th:only-of-type {\n",
              "        vertical-align: middle;\n",
              "    }\n",
              "\n",
              "    .dataframe tbody tr th {\n",
              "        vertical-align: top;\n",
              "    }\n",
              "\n",
              "    .dataframe thead th {\n",
              "        text-align: right;\n",
              "    }\n",
              "</style>\n",
              "<table border=\"1\" class=\"dataframe\">\n",
              "  <thead>\n",
              "    <tr style=\"text-align: right;\">\n",
              "      <th></th>\n",
              "      <th>count</th>\n",
              "      <th>mean</th>\n",
              "    </tr>\n",
              "    <tr>\n",
              "      <th>violation_raw</th>\n",
              "      <th></th>\n",
              "      <th></th>\n",
              "    </tr>\n",
              "  </thead>\n",
              "  <tbody>\n",
              "    <tr>\n",
              "      <th>APB</th>\n",
              "      <td>51</td>\n",
              "      <td>23.882353</td>\n",
              "    </tr>\n",
              "    <tr>\n",
              "      <th>Call for Service</th>\n",
              "      <td>793</td>\n",
              "      <td>24.437579</td>\n",
              "    </tr>\n",
              "    <tr>\n",
              "      <th>Equipment/Inspection Violation</th>\n",
              "      <td>6516</td>\n",
              "      <td>12.554174</td>\n",
              "    </tr>\n",
              "    <tr>\n",
              "      <th>Motorist Assist/Courtesy</th>\n",
              "      <td>138</td>\n",
              "      <td>17.007246</td>\n",
              "    </tr>\n",
              "    <tr>\n",
              "      <th>Other Traffic Violation</th>\n",
              "      <td>11925</td>\n",
              "      <td>14.962683</td>\n",
              "    </tr>\n",
              "    <tr>\n",
              "      <th>Registration Violation</th>\n",
              "      <td>2243</td>\n",
              "      <td>15.734284</td>\n",
              "    </tr>\n",
              "    <tr>\n",
              "      <th>Seatbelt Violation</th>\n",
              "      <td>3</td>\n",
              "      <td>8.000000</td>\n",
              "    </tr>\n",
              "    <tr>\n",
              "      <th>Special Detail/Directed Patrol</th>\n",
              "      <td>2383</td>\n",
              "      <td>14.882081</td>\n",
              "    </tr>\n",
              "    <tr>\n",
              "      <th>Speeding</th>\n",
              "      <td>37204</td>\n",
              "      <td>10.863348</td>\n",
              "    </tr>\n",
              "    <tr>\n",
              "      <th>Suspicious Person</th>\n",
              "      <td>38</td>\n",
              "      <td>18.763158</td>\n",
              "    </tr>\n",
              "    <tr>\n",
              "      <th>Violation of City/Town Ordinance</th>\n",
              "      <td>170</td>\n",
              "      <td>14.070588</td>\n",
              "    </tr>\n",
              "    <tr>\n",
              "      <th>Warrant</th>\n",
              "      <td>10</td>\n",
              "      <td>22.900000</td>\n",
              "    </tr>\n",
              "  </tbody>\n",
              "</table>\n",
              "</div>\n",
              "      <button class=\"colab-df-convert\" onclick=\"convertToInteractive('df-d514326a-d059-4fd2-a4cc-f1aa26ba4b78')\"\n",
              "              title=\"Convert this dataframe to an interactive table.\"\n",
              "              style=\"display:none;\">\n",
              "        \n",
              "  <svg xmlns=\"http://www.w3.org/2000/svg\" height=\"24px\"viewBox=\"0 0 24 24\"\n",
              "       width=\"24px\">\n",
              "    <path d=\"M0 0h24v24H0V0z\" fill=\"none\"/>\n",
              "    <path d=\"M18.56 5.44l.94 2.06.94-2.06 2.06-.94-2.06-.94-.94-2.06-.94 2.06-2.06.94zm-11 1L8.5 8.5l.94-2.06 2.06-.94-2.06-.94L8.5 2.5l-.94 2.06-2.06.94zm10 10l.94 2.06.94-2.06 2.06-.94-2.06-.94-.94-2.06-.94 2.06-2.06.94z\"/><path d=\"M17.41 7.96l-1.37-1.37c-.4-.4-.92-.59-1.43-.59-.52 0-1.04.2-1.43.59L10.3 9.45l-7.72 7.72c-.78.78-.78 2.05 0 2.83L4 21.41c.39.39.9.59 1.41.59.51 0 1.02-.2 1.41-.59l7.78-7.78 2.81-2.81c.8-.78.8-2.07 0-2.86zM5.41 20L4 18.59l7.72-7.72 1.47 1.35L5.41 20z\"/>\n",
              "  </svg>\n",
              "      </button>\n",
              "      \n",
              "  <style>\n",
              "    .colab-df-container {\n",
              "      display:flex;\n",
              "      flex-wrap:wrap;\n",
              "      gap: 12px;\n",
              "    }\n",
              "\n",
              "    .colab-df-convert {\n",
              "      background-color: #E8F0FE;\n",
              "      border: none;\n",
              "      border-radius: 50%;\n",
              "      cursor: pointer;\n",
              "      display: none;\n",
              "      fill: #1967D2;\n",
              "      height: 32px;\n",
              "      padding: 0 0 0 0;\n",
              "      width: 32px;\n",
              "    }\n",
              "\n",
              "    .colab-df-convert:hover {\n",
              "      background-color: #E2EBFA;\n",
              "      box-shadow: 0px 1px 2px rgba(60, 64, 67, 0.3), 0px 1px 3px 1px rgba(60, 64, 67, 0.15);\n",
              "      fill: #174EA6;\n",
              "    }\n",
              "\n",
              "    [theme=dark] .colab-df-convert {\n",
              "      background-color: #3B4455;\n",
              "      fill: #D2E3FC;\n",
              "    }\n",
              "\n",
              "    [theme=dark] .colab-df-convert:hover {\n",
              "      background-color: #434B5C;\n",
              "      box-shadow: 0px 1px 3px 1px rgba(0, 0, 0, 0.15);\n",
              "      filter: drop-shadow(0px 1px 2px rgba(0, 0, 0, 0.3));\n",
              "      fill: #FFFFFF;\n",
              "    }\n",
              "  </style>\n",
              "\n",
              "      <script>\n",
              "        const buttonEl =\n",
              "          document.querySelector('#df-d514326a-d059-4fd2-a4cc-f1aa26ba4b78 button.colab-df-convert');\n",
              "        buttonEl.style.display =\n",
              "          google.colab.kernel.accessAllowed ? 'block' : 'none';\n",
              "\n",
              "        async function convertToInteractive(key) {\n",
              "          const element = document.querySelector('#df-d514326a-d059-4fd2-a4cc-f1aa26ba4b78');\n",
              "          const dataTable =\n",
              "            await google.colab.kernel.invokeFunction('convertToInteractive',\n",
              "                                                     [key], {});\n",
              "          if (!dataTable) return;\n",
              "\n",
              "          const docLinkHtml = 'Like what you see? Visit the ' +\n",
              "            '<a target=\"_blank\" href=https://colab.research.google.com/notebooks/data_table.ipynb>data table notebook</a>'\n",
              "            + ' to learn more about interactive tables.';\n",
              "          element.innerHTML = '';\n",
              "          dataTable['output_type'] = 'display_data';\n",
              "          await google.colab.output.renderOutput(dataTable, element);\n",
              "          const docLink = document.createElement('div');\n",
              "          docLink.innerHTML = docLinkHtml;\n",
              "          element.appendChild(docLink);\n",
              "        }\n",
              "      </script>\n",
              "    </div>\n",
              "  </div>\n",
              "  "
            ]
          },
          "metadata": {},
          "execution_count": 55
        }
      ]
    },
    {
      "cell_type": "code",
      "source": [
        "data.groupby('violation_raw').stop_minutes.mean().plot()\n",
        "plt.xticks(rotation = 45)"
      ],
      "metadata": {
        "colab": {
          "base_uri": "https://localhost:8080/",
          "height": 428
        },
        "id": "tDZdhvf7Tr_M",
        "outputId": "8ef6767d-ecf3-43a6-abca-c0709df089e8"
      },
      "execution_count": null,
      "outputs": [
        {
          "output_type": "execute_result",
          "data": {
            "text/plain": [
              "(array([-2.,  0.,  2.,  4.,  6.,  8., 10., 12.]),\n",
              " <a list of 8 Text major ticklabel objects>)"
            ]
          },
          "metadata": {},
          "execution_count": 56
        },
        {
          "output_type": "display_data",
          "data": {
            "text/plain": [
              "<Figure size 432x288 with 1 Axes>"
            ],
            "image/png": "[encoded data removed]"
          },
          "metadata": {
            "needs_background": "light"
          }
        }
      ]
    },
    {
      "cell_type": "code",
      "source": [
        "data['Year_month'] = data['stop_date'].apply(lambda x: x.strftime('%Y-%m'))\n",
        "data['Year_month']"
      ],
      "metadata": {
        "colab": {
          "base_uri": "https://localhost:8080/"
        },
        "id": "0tr37mmlKBo2",
        "outputId": "c0a08aa1-0884-4e3b-fa5e-fd84e6d6b1d3"
      },
      "execution_count": null,
      "outputs": [
        {
          "output_type": "execute_result",
          "data": {
            "text/plain": [
              "0        2005-01\n",
              "1        2005-01\n",
              "2        2005-01\n",
              "3        2005-02\n",
              "4        2005-03\n",
              "          ...   \n",
              "65530    2012-12\n",
              "65531    2012-12\n",
              "65532    2012-12\n",
              "65533    2012-12\n",
              "65534    2012-12\n",
              "Name: Year_month, Length: 65535, dtype: object"
            ]
          },
          "metadata": {},
          "execution_count": 57
        }
      ]
    },
    {
      "cell_type": "code",
      "source": [
        "data = pd.DataFrame(data.groupby('Year_month').count().reset_index())"
      ],
      "metadata": {
        "id": "oUTi8QHbLHzr"
      },
      "execution_count": null,
      "outputs": []
    },
    {
      "cell_type": "code",
      "source": [
        "plt.figure(figsize=(20,6))\n",
        "plt.plot(data['Year_month'],data['driver_age'])\n",
        "plt.xticks(rotation='vertical', size=7)\n",
        "plt.show()"
      ],
      "metadata": {
        "colab": {
          "base_uri": "https://localhost:8080/",
          "height": 392
        },
        "id": "ZXqH0TvzKW4g",
        "outputId": "58263026-a1bf-4cb2-e4c5-ee9c99920a8a"
      },
      "execution_count": null,
      "outputs": [
        {
          "output_type": "display_data",
          "data": {
            "text/plain": [
              "<Figure size 1440x432 with 1 Axes>"
            ],
            "image/png": "[encoded data removed]"
          },
          "metadata": {
            "needs_background": "light"
          }
        }
      ]
    }
  ]
}